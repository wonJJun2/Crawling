{
 "cells": [
  {
   "cell_type": "code",
   "execution_count": null,
   "metadata": {},
   "outputs": [],
   "source": [
    "from requests_html import HTMLSession,AsyncHTMLSession  #!pip install requests_html\n",
    "from bs4 import BeautifulSoup as bs # importing BeautifulSoup\n",
    "import pandas as pd\n",
    "import json\n",
    "import re\n",
    "import time\n",
    "from datetime import date,timedelta\n",
    "\n",
    "session = HTMLSession()\n",
    "video_url = \"\" # video_url\n",
    "response = session.get(video_url, verify=False) #URL 통신\n",
    "\n",
    "soup = bs(response.text, \"html.parser\")\n",
    "\n",
    "data = re.search(r\"var ytInitialData = ({.*?});\", soup.prettify()).group(1)\n",
    "\n",
    "data_json = json.loads(data)\n",
    "\n",
    "videoSecondaryInfoRenderer = data_json['contents']['twoColumnWatchNextResults']['results']['results']['contents'][1]['videoSecondaryInfoRenderer']\n",
    "richMetadataRenderer = videoSecondaryInfoRenderer['metadataRowContainer']['metadataRowContainerRenderer']['rows'][0]['richMetadataRowRenderer']['contents'][0]['richMetadataRenderer']\n",
    "game_title = richMetadataRenderer['title']['simpleText']\n",
    "game_ch_link = richMetadataRenderer['endpoint']['commandMetadata']['webCommandMetadata']['url']\n",
    "\n",
    "print(game_title) # 게임 제목\n",
    "print(game_ch_link) # 게임 유튜브 채널"
   ]
  }
 ],
 "metadata": {
  "kernelspec": {
   "display_name": "Python 3.9.1 64-bit",
   "language": "python",
   "name": "python3"
  },
  "language_info": {
   "name": "python",
   "version": "3.9.1"
  },
  "orig_nbformat": 4,
  "vscode": {
   "interpreter": {
    "hash": "cf92aa13fedf815d5c8dd192b8d835913fde3e8bc926b2a0ad6cc74ef2ba3ca2"
   }
  }
 },
 "nbformat": 4,
 "nbformat_minor": 2
}
