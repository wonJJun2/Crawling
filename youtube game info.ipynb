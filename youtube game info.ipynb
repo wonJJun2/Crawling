{
 "cells": [
  {
   "cell_type": "code",
   "execution_count": null,
   "metadata": {},
   "outputs": [],
   "source": [
    "from requests_html import HTMLSession,AsyncHTMLSession  #!pip install requests_html\n",
    "from bs4 import BeautifulSoup as bs # importing BeautifulSoup\n",
    "import nest_asyncio #!pip install nest_asyncio\n",
    "import pandas as pd\n",
    "import json\n",
    "import re\n",
    "import time\n",
    "from datetime import date,timedelta\n",
    "from tqdm import tqdm\n",
    "import pymysql\n",
    "from sqlalchemy import create_engine\n",
    "pymysql.install_as_MySQLdb()\n",
    "import MySQLdb\n",
    "\n",
    "session = HTMLSession()\n",
    "video_url = \"\" # video_url\n",
    "response = session.get(video_url, verify=False) #URL 통신\n",
    "\n",
    "soup = bs(response.text, \"html.parser\")\n",
    "\n",
    "data = re.search(r\"var ytInitialData = ({.*?});\", soup.prettify()).group(1)\n",
    "\n",
    "data_json = json.loads(data)\n",
    "\n",
    "videoSecondaryInfoRenderer = data_json['contents']['twoColumnWatchNextResults']['results']['results']['contents'][1]['videoSecondaryInfoRenderer']\n",
    "richMetadataRenderer = videoSecondaryInfoRenderer['metadataRowContainer']['metadataRowContainerRenderer']['rows'][0]['richMetadataRowRenderer']['contents'][0]['richMetadataRenderer']\n",
    "game_title = richMetadataRenderer['title']['simpleText']\n",
    "game_ch_link = richMetadataRenderer['endpoint']['commandMetadata']['webCommandMetadata']['url']\n",
    "\n",
    "print(game_title) # 게임 제목\n",
    "print(game_ch_link) # 게임 유튜브 채널"
   ]
  }
 ],
 "metadata": {
  "language_info": {
   "name": "python"
  },
  "orig_nbformat": 4
 },
 "nbformat": 4,
 "nbformat_minor": 2
}
