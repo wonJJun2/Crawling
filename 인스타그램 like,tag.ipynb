{
 "cells": [
  {
   "cell_type": "code",
   "execution_count": null,
   "metadata": {},
   "outputs": [],
   "source": [
    "# 좋아요(like) 크롤링 시작\n",
    "overlays3 = \"div._aacl._aaco._aacw._aacx._aada._aade\"                                       \n",
    "datum3 = driver.find_element_by_css_selector(overlays3)     \n",
    "like = datum3.text                                                                                   \n",
    "\n",
    "        \n",
    "# 해시태그(tag) 크롤링 시작\n",
    "overlays4 = \"span._aacl._aaco._aacu._aacx._aad7._aade\"                                 \n",
    "datum3 = driver.find_element_by_css_selector(overlays4)     \n",
    "tag_raw = datum3.text\n",
    "tags = re.findall('#[a-zA-Z0-9가-힣._%+-]+', tag_raw)            \n",
    "tag = ''.join(tags).replace(\"#\",\" \")                       \n",
    "content = tag_raw.split('#')[0]"
   ]
  }
 ],
 "metadata": {
  "language_info": {
   "name": "python"
  },
  "orig_nbformat": 4
 },
 "nbformat": 4,
 "nbformat_minor": 2
}
