{
 "cells": [
  {
   "cell_type": "code",
   "execution_count": null,
   "metadata": {},
   "outputs": [],
   "source": [
    "session = HTMLSession()\n",
    "video_url = \"\"\n",
    "response = session.get(video_url, verify=False) #URL 통신\n",
    "\n",
    "soup = bs(response.text, \"html.parser\")\n",
    "\n",
    "data = re.search(r\"var ytInitialData = ({.*?});\", soup.prettify()).group(1)\n",
    "\n",
    "data_json = json.loads(data)\n",
    "\n",
    "music_info = data_json['engagementPanels'][1]['engagementPanelSectionListRenderer']['content']['structuredDescriptionContentRenderer']['items']\n",
    "try:\n",
    "    music_title = music_info[2]['videoDescriptionMusicSectionRenderer']['carouselLockups'][0]['carouselLockupRenderer']['infoRows'][0]['infoRowRenderer']['defaultMetadata']['runs'][0]['text']\n",
    "except:\n",
    "    music_title = music_info[2]['videoDescriptionMusicSectionRenderer']['carouselLockups'][0]['carouselLockupRenderer']['infoRows'][0]['infoRowRenderer']['defaultMetadata']['simpleText']\n",
    "try:\n",
    "    music_artist = music_info[2]['videoDescriptionMusicSectionRenderer']['carouselLockups'][0]['carouselLockupRenderer']['infoRows'][1]['infoRowRenderer']['defaultMetadata']['runs'][0]['text']\n",
    "except:\n",
    "    music_artist = music_info[2]['videoDescriptionMusicSectionRenderer']['carouselLockups'][0]['carouselLockupRenderer']['infoRows'][1]['infoRowRenderer']['defaultMetadata']['simpleText']\n",
    "try:\n",
    "    music_album = music_info[2]['videoDescriptionMusicSectionRenderer']['carouselLockups'][0]['carouselLockupRenderer']['infoRows'][2]['infoRowRenderer']['defaultMetadata']['runs'][0]['text']\n",
    "except:\n",
    "    music_album = music_info[2]['videoDescriptionMusicSectionRenderer']['carouselLockups'][0]['carouselLockupRenderer']['infoRows'][2]['infoRowRenderer']['defaultMetadata']['simpleText']\n",
    "try:\n",
    "    music_license = music_info[2]['videoDescriptionMusicSectionRenderer']['carouselLockups'][0]['carouselLockupRenderer']['infoRows'][3]['infoRowRenderer']['expandedMetadata']['runs'][0]['text']\n",
    "except:\n",
    "    music_license = music_info[2]['videoDescriptionMusicSectionRenderer']['carouselLockups'][0]['carouselLockupRenderer']['infoRows'][3]['infoRowRenderer']['expandedMetadata']['simpleText']\n",
    "\n",
    "print(music_title)\n",
    "print(music_artist)\n",
    "print(music_album)\n",
    "print(music_license)"
   ]
  }
 ],
 "metadata": {
  "language_info": {
   "name": "python"
  },
  "orig_nbformat": 4
 },
 "nbformat": 4,
 "nbformat_minor": 2
}
