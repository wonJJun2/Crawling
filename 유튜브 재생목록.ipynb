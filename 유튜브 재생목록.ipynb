{
 "cells": [
  {
   "cell_type": "code",
   "execution_count": null,
   "metadata": {},
   "outputs": [],
   "source": [
    "# 채널 주소 입력\n",
    "url  = \"https://www.youtube.com/channel/{}/playlists\".format(channel)\n",
    "\n",
    "driver = Chrome()\n",
    "driver.implicitly_wait(3)\n",
    "driver.get(url)  \n",
    "driver.maximize_window()\n",
    "\n",
    "body = driver.find_element_by_tag_name('body')\n",
    "\n",
    "# 페이지 밑으로 내리기\n",
    "\n",
    "num_of_pagedowns = 5\n",
    "\n",
    "while num_of_pagedowns:\n",
    "    body.send_keys(Keys.PAGE_DOWN)\n",
    "    time.sleep(2)\n",
    "    num_of_pagedowns -= 1\n",
    "\n",
    "\n",
    "html0 = driver.page_source\n",
    "html = bs(html0,'html.parser')\n",
    "\n",
    "# 재생 목록 텍스트 가져오기\n",
    "html.find_all('a', {'id' : 'video-title'})[0].get_text()"
   ]
  }
 ],
 "metadata": {
  "language_info": {
   "name": "python"
  },
  "orig_nbformat": 4
 },
 "nbformat": 4,
 "nbformat_minor": 2
}
