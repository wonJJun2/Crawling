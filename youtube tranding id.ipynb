{
 "cells": [
  {
   "cell_type": "code",
   "execution_count": null,
   "metadata": {},
   "outputs": [],
   "source": [
    "from requests_html import HTMLSession,AsyncHTMLSession  #!pip install requests_html\n",
    "from bs4 import BeautifulSoup as bs # importing BeautifulSoup\n",
    "import nest_asyncio #!pip install nest_asyncio\n",
    "import pandas as pd\n",
    "import json\n",
    "import re\n",
    "import time\n",
    "from tqdm import tqdm\n",
    "import numpy as np\n",
    "import requests\n",
    "from datetime import date,datetime\n",
    "import urllib3\n",
    "urllib3.disable_warnings(urllib3.exceptions.InsecureRequestWarning)\n",
    "\n",
    "url = \"https://www.youtube.com/feed/trending\"\n",
    "session = HTMLSession()\n",
    "response = session.get(url)\n",
    "if(response.status_code == 429):\n",
    "    print(response)\n",
    "soup = bs(response.html.html, \"html.parser\")\n",
    "data = re.search(r\"var ytInitialData = ({.*?});\", soup.prettify()).group(1)\n",
    "data_json = json.loads(data)\n",
    "trend = data_json['contents']['twoColumnBrowseResultsRenderer']['tabs'][0]['tabRenderer']['content']\n",
    "\n",
    "video = []\n",
    "for j in range(len(trend['sectionListRenderer']['contents'])):\n",
    "    try:\n",
    "        trend_part1 = trend['sectionListRenderer']['contents'][j]\n",
    "        for i in range(len(trend_part1['itemSectionRenderer']['contents'][0]['shelfRenderer']['content']['expandedShelfContentsRenderer']['items'])):\n",
    "            vi = {}\n",
    "            trend_part1_1 = trend_part1['itemSectionRenderer']['contents'][0]['shelfRenderer']['content']['expandedShelfContentsRenderer']['items'][i]['videoRenderer']\n",
    "            video.append(trend_part1_1['videoId'])\n",
    "    except: # 인기 급상승 shorts\n",
    "        trend_part2 = trend['sectionListRenderer']['contents'][j]\n",
    "        trend_part2_1 = trend_part2['itemSectionRenderer']['contents'][0]['shelfRenderer']['content']['horizontalListRenderer']['items']\n",
    "        for i in range(len(trend_part2_1)):\n",
    "            video.append(trend_part2_1[i]['gridVideoRenderer']['videoId'])\n",
    "\n",
    "set(video) # 실시간 인기 급상승 동영상과 최근 인기 동영상 id 중복 제거"
   ]
  }
 ],
 "metadata": {
  "language_info": {
   "name": "python"
  },
  "orig_nbformat": 4
 },
 "nbformat": 4,
 "nbformat_minor": 2
}
