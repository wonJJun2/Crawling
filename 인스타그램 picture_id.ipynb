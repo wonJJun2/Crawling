{
 "cells": [
  {
   "cell_type": "code",
   "execution_count": null,
   "metadata": {},
   "outputs": [],
   "source": [
    "# 인스타 picture_id\n",
    "# www.instagram.com/p/abcd/형태\n",
    "# abcd 추출\n",
    "try:\n",
    "    overlays5 = 'div._ab8w._ab94._ab99._ab9f._ab9k._ab9o > div > div > a'\n",
    "    picture_id = driver.find_element_by_css_selector(overlays5)    \n",
    "    picture_id = picture_id.get_attribute('href')\n",
    "    picture_id = picture_id.split('/')[4]\n",
    "         \n",
    "except: \n",
    "\ttry:\n",
    "\t\toverlays5 = 'div._ab8w._ab94._ab99._ab9f._ab9k._ab9o > div > div > div > a'\n",
    "        picture_id = driver.find_element_by_css_selector(overlays5)    \n",
    "        picture_id = picture_id.get_attribute('href')\n",
    "        picture_id = picture_id.split('/')[4]\n",
    "\n",
    "\texcept:        \n",
    "        overlays5 = 'div._ab8w._ab94._ab99._ab9f._ab9k._ab9o > div > div > a:nth-child(2)'\n",
    "        picture_id = driver.find_element_by_css_selector(overlays5)    \n",
    "        picture_id = picture_id.get_attribute('href')\n",
    "        picture_id = picture_id.split('/')[4]"
   ]
  }
 ],
 "metadata": {
  "language_info": {
   "name": "python"
  },
  "orig_nbformat": 4
 },
 "nbformat": 4,
 "nbformat_minor": 2
}
