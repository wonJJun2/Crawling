{
 "cells": [
  {
   "cell_type": "code",
   "execution_count": null,
   "metadata": {},
   "outputs": [],
   "source": [
    "# 인스타 id\n",
    "overlays0 = \"div._aacl._aaco._aacw._aacx._aad6._aade\"\n",
    "id = driver.find_element_by_css_selector(overlays0)\n",
    "id = id.text\n",
    "print(id)\n",
    "        \n",
    "# 인스타 profile 사진 링크\n",
    "overlays1 = \"a > img._aa8j\"\n",
    "profile = driver.find_element_by_css_selector(overlays1).get_attribute('src')    # 사진 선택\n",
    "print(profile)"
   ]
  }
 ],
 "metadata": {
  "language_info": {
   "name": "python"
  },
  "orig_nbformat": 4
 },
 "nbformat": 4,
 "nbformat_minor": 2
}
