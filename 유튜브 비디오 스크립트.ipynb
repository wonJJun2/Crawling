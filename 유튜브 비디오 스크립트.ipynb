{
 "cells": [
  {
   "cell_type": "code",
   "execution_count": null,
   "metadata": {},
   "outputs": [],
   "source": [
    "import pandas as pd\n",
    "import json\n",
    "import re\n",
    "import time\n",
    "from tqdm import tqdm\n",
    "import pymysql\n",
    "from datetime import date\n",
    "from selenium import webdriver\n",
    "from selenium.webdriver.chrome.options import Options\n",
    "from selenium.webdriver.common.by import By\n",
    "from selenium.webdriver.common.keys import Keys\n",
    "\n",
    "chrome_options = Options()\n",
    "chrome_options.add_argument(\"user-agent=Mozilla/5.0\")\n",
    "chrome_options.add_argument(\"user-agent=AppleWebKit/537.36\")\n",
    "chrome_options.add_argument(\"user-agent=Chrome/71.0.3578.98\")\n",
    "chrome_options.add_argument(\"user-agent=Safari/537.36\")\n",
    "chrome_options.add_argument(\"user-agent=OPR/58.0.3135.127\")\n",
    "chrome_options.add_argument(\"--start-maximized\")\n",
    "driver = webdriver.Chrome(options=chrome_options)\n",
    "\n",
    "\n",
    "video_url = \"유튜브 영상 주소\"\n",
    "driver.get(video_url)\n",
    "time.sleep(1.5)\n",
    "\n",
    "# 영상 멈춤\n",
    "driver.find_elements(By.XPATH,'//*[@id=\"movie_player\"]')[0].click()\n",
    "\n",
    "# 더보기 클릭\n",
    "driver.implicitly_wait(1.5)\n",
    "driver.find_elements(By.XPATH,'/html/body/ytd-app/div[1]/ytd-page-manager/ytd-watch-flexy/div[5]/div[1]/div/div[2]/ytd-watch-metadata/div/div[2]/div[2]/div/div/ytd-menu-renderer/yt-button-shape/button/yt-touch-feedback-shape/div/div[2]')[0].click()\n",
    "\n",
    "# 스크립트 표시 클릭\n",
    "driver.implicitly_wait(1.5)\n",
    "driver.find_elements(By.XPATH,'/html/body/ytd-app/ytd-popup-container/tp-yt-iron-dropdown[2]/div/ytd-menu-popup-renderer/tp-yt-paper-listbox/ytd-menu-service-item-renderer/tp-yt-paper-item')[0].click()\n",
    "\n",
    "script = driver.find_elements(By.XPATH,'/html/body/ytd-app/div[1]/ytd-page-manager/ytd-watch-flexy/div[5]/div[2]/div/div[1]/ytd-engagement-panel-section-list-renderer[4]/div[2]/ytd-transcript-renderer/div[2]/ytd-transcript-search-panel-renderer/div[2]/ytd-transcript-segment-list-renderer/div[1]')[0].text\n",
    "\n",
    "driver.quit()"
   ]
  }
 ],
 "metadata": {
  "language_info": {
   "name": "python"
  },
  "orig_nbformat": 4
 },
 "nbformat": 4,
 "nbformat_minor": 2
}
