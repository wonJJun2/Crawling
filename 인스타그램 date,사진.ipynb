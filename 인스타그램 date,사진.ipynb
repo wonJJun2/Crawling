{
 "cells": [
  {
   "cell_type": "code",
   "execution_count": null,
   "metadata": {},
   "outputs": [],
   "source": [
    "# 날짜(date) 크롤링 시작\n",
    "        overlays2 = \"time._aaqe\"                  # 날짜 지정\n",
    "        datum2 = driver.find_element_by_css_selector(overlays2)     # 날짜 선택\n",
    "        date = datum2.get_attribute('datetime')\n",
    "        date = date.split('T')[0]\n",
    "        \n",
    "        \n",
    "        # 사진(pic) 크롤링 시작\n",
    "        \n",
    "        try: # 복수 사진\n",
    "            \n",
    "            overlays1 = 'div._ab8w._ab94._ab99._ab9f._ab9m._ab9p > div._aa06 > div > div > div._aagv > img._aagt'                  \n",
    "            img = driver.find_element_by_css_selector(overlays1)   \n",
    "            pic = img.get_attribute('src') \n",
    "        \n",
    "        except:\n",
    "            \n",
    "            try:\n",
    "                overlays1 = 'div._ab8w._ab94._ab99._ab9h._ab9k._ab9p > div > div._aa06 > div > div > div._aagv > img._aagt'                 \n",
    "                img = driver.find_element_by_css_selector(overlays1)    \n",
    "                pic = img.get_attribute('src') \n",
    "\n",
    "            except:\n",
    "                \n",
    "                overlays1 = 'div._ab8w._ab94._ab99._ab9h._ab9k._ab9p > div > div._aa06 > div > div > div > div._aagv > img._aagt'                     \n",
    "                img = driver.find_element_by_css_selector(overlays1)    \n",
    "                pic = img.get_attribute('src') "
   ]
  }
 ],
 "metadata": {
  "language_info": {
   "name": "python"
  },
  "orig_nbformat": 4
 },
 "nbformat": 4,
 "nbformat_minor": 2
}
