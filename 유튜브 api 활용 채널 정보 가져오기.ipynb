{
 "cells": [
  {
   "cell_type": "code",
   "execution_count": null,
   "metadata": {},
   "outputs": [],
   "source": [
    "api_key = '발급받은 api 키' # API v3\n",
    "youtube = build('youtube', 'v3', developerKey=api_key)\n",
    "\n",
    "response = youtube.channels().list(part=['snippet','contentDetails','statistics','brandingSettings','topicDetails'],id='가져올 채널 id').execute()\n",
    "\n",
    "df_res = pd.json_normalize(response)\n",
    "if(df_res['pageInfo.totalResults'][0]>=1):\n",
    "    df = pd.json_normalize(response['items'])\n",
    "    \n",
    "channel_info = pd.DataFrame()\n",
    "channel_info['channel_id'] = df['id']\n",
    "try:\n",
    "    channel_info['custom_channel_id'] = '/c/'+df['snippet.customUrl']\n",
    "except:\n",
    "    pass\n",
    "channel_info['totalViews'] = df['statistics.viewCount']\n",
    "channel_info['subscribers'] = df['statistics.subscriberCount']\n",
    "channel_info['title'] = df['snippet.title']\n",
    "channel_info['totalVideos'] = df['statistics.videoCount']"
   ]
  }
 ],
 "metadata": {
  "kernelspec": {
   "display_name": "Python 3",
   "language": "python",
   "name": "python3"
  },
  "language_info": {
   "name": "python",
   "version": "3.8.10"
  },
  "orig_nbformat": 4
 },
 "nbformat": 4,
 "nbformat_minor": 2
}
