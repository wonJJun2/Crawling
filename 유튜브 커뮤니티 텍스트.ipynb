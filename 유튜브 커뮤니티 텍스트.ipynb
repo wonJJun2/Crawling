{
 "cells": [
  {
   "cell_type": "code",
   "execution_count": null,
   "metadata": {},
   "outputs": [],
   "source": [
    "# 빈 데이터 프레임 생성\n",
    "\n",
    "insert_df = pd.DataFrame()\n",
    "n_counts = 0\n",
    "\n",
    "# df_channel - 채널id 데이터 프레임\n",
    "\n",
    "for channel_id in df_channel['channel_id']:\n",
    "    try:\n",
    "        video_url = \"https://www.youtube.com/channel/{}/community\".format(channel_id)\n",
    "        session = HTMLSession()\n",
    "        response = session.get(video_url)\n",
    "        n_counts += 1\n",
    "        if(response.status_code == 429):\n",
    "            print(response)\n",
    "        soup = bs(response.html.html, \"html.parser\")\n",
    "        data = re.search(r\"var ytInitialData = ({.*?});\", soup.prettify()).group(1)\n",
    "        data_json = json.loads(data)\n",
    "        commu = data_json['contents']['twoColumnBrowseResultsRenderer']['tabs'][3]['tabRenderer']['content']['sectionListRenderer']['contents'][0]['itemSectionRenderer']['contents']\n",
    "        text = []\n",
    "        day = []\n",
    "        for i in range(0, len(commu)-2):\n",
    "            if len(commu[i]['backstagePostThreadRenderer']['post']['backstagePostRenderer']['contentText']['runs']) == 1:\n",
    "                text.append(commu[i]['backstagePostThreadRenderer']['post']['backstagePostRenderer']['contentText']['runs'][0]['text'])\n",
    "                day.append(commu[i]['backstagePostThreadRenderer']['post']['backstagePostRenderer']['publishedTimeText']['runs'][0]['text'])\n",
    "            else:\n",
    "                k = ''\n",
    "                for j in range(len(commu[i]['backstagePostThreadRenderer']['post']['backstagePostRenderer']['contentText']['runs'])):\n",
    "                    k += commu[i]['backstagePostThreadRenderer']['post']['backstagePostRenderer']['contentText']['runs'][j]['text']  \n",
    "                text.append(k)\n",
    "                day.append(commu[i]['backstagePostThreadRenderer']['post']['backstagePostRenderer']['publishedTimeText']['runs'][0]['text'])\n",
    "                \n",
    "        df = pd.DataFrame() # 커뮤니티 텍스트 담을 데이터 프레임\n",
    "        df['community'] = text # 커뮤니티 텍스트\n",
    "        df['channel_id'] = channel_id # 채널 id\n",
    "        df['date'] = day # 시간\n",
    "        insert_df = pd.concat([insert_df,df]) # 기존에 데이터 프레임에 붙여가면서 저장\n",
    "    except:\n",
    "        continue"
   ]
  }
 ],
 "metadata": {
  "language_info": {
   "name": "python"
  },
  "orig_nbformat": 4
 },
 "nbformat": 4,
 "nbformat_minor": 2
}
