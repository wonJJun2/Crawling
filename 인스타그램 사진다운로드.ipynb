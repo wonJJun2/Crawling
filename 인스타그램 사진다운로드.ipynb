{
 "cells": [
  {
   "cell_type": "code",
   "execution_count": null,
   "metadata": {},
   "outputs": [],
   "source": [
    "# 이미지들 image_insta 폴더에 다운받기\n",
    "import os\n",
    "import urllib.request\n",
    "\n",
    "# 만약 폴더가 없으면 만들어라\n",
    "if not os.path.exists(\"image_insta\"):\n",
    "    os.makedirs(\"image_insta\")\n",
    "        \n",
    "for i in range(0, len(result_df['picture'])):\n",
    "    try:\n",
    "        index = result_df['picture'][i]\n",
    "        date = result_df['date'][i]\n",
    "        urllib.request.urlretrieve(index, \"image_insta/{0}_{1}.jpg\".format(keyword, i))        \n",
    "    except:\n",
    "        pass"
   ]
  }
 ],
 "metadata": {
  "language_info": {
   "name": "python"
  },
  "orig_nbformat": 4
 },
 "nbformat": 4,
 "nbformat_minor": 2
}
