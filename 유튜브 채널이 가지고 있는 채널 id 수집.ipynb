{
 "cells": [
  {
   "cell_type": "code",
   "execution_count": null,
   "metadata": {},
   "outputs": [],
   "source": [
    "channel_idlist = []\n",
    "url  = 'http://www.youtube.com'\n",
    "driver = Chrome()\n",
    "driver.get(url)  \n",
    "driver.maximize_window()\n",
    "searchform = driver.find_element_by_id(\"search-form\")\n",
    "searchform.click()\n",
    "time.sleep(3)\n",
    "try:\n",
    "\n",
    "    driver.find_element_by_name('search_query').send_keys(\"채널 타이틀\")\n",
    "    search = driver.find_element_by_xpath('//*[@id=\"search-icon-legacy\"]')\n",
    "    search.click()\n",
    "    time.sleep(3)\n",
    "    html0 = driver.page_source\n",
    "    html = bs(html0,'html.parser')\n",
    "    time.sleep(3)\n",
    "    channel = str(html.find_all('a', {'id' : 'main-link'}))\n",
    "    channel_id = channel.split('=')[2].split('\"')[1]\n",
    "    channel_idlist.append(channel_id)\n",
    "    \n",
    "except:\n",
    "\n",
    "    channel_idlist.append(i)"
   ]
  }
 ],
 "metadata": {
  "language_info": {
   "name": "python"
  },
  "orig_nbformat": 4
 },
 "nbformat": 4,
 "nbformat_minor": 2
}
