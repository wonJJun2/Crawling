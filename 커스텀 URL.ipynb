{
 "cells": [
  {
   "cell_type": "code",
   "execution_count": null,
   "metadata": {},
   "outputs": [],
   "source": [
    "session = HTMLSession()\n",
    "\n",
    "result_df = pd.DataFrame()\n",
    "result = []\n",
    "result2 = []\n",
    "\n",
    " \n",
    "video_url = \"https://www.youtube.com/channel/{}\".format(channel_id)\n",
    "response = session.get(video_url)\n",
    "soup = bs(response.html.html, \"html.parser\")\n",
    "    \n",
    "   try:\n",
    "    \n",
    "       data = re.search(r\"var ytInitialData = ({.*?});\", soup.prettify()).group(1)\n",
    "       data_json = json.loads(data)\n",
    "        \n",
    "       channelPrimaryInfoRenderer = data_json['contents']['twoColumnBrowseResultsRenderer']['tabs'][0]\n",
    "       browseId = channelPrimaryInfoRenderer['tabRenderer']['endpoint']['browseEndpoint']['browseId']\n",
    "       canonicalBaseUrl = channelPrimaryInfoRenderer['tabRenderer']['endpoint']['browseEndpoint']['canonicalBaseUrl']\n",
    "       result.append(browseId)\n",
    "       result2.append(canonicalBaseUrl)\n",
    "    \n",
    "   except:\n",
    "   \n",
    "       continue\n",
    "\n",
    "result_df['channel_id'] = result\n",
    "result_df['custom_channel_ids'] = result2"
   ]
  }
 ],
 "metadata": {
  "language_info": {
   "name": "python"
  },
  "orig_nbformat": 4
 },
 "nbformat": 4,
 "nbformat_minor": 2
}
