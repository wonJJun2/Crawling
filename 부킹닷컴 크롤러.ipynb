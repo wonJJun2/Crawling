{
 "cells": [
  {
   "cell_type": "raw",
   "metadata": {},
   "source": [
    "크롤링을 할 때 각각 가져오고 싶은 데이터에 대한 코드를 짜고 그 이후에 for문으로 합친다."
   ]
  },
  {
   "cell_type": "raw",
   "metadata": {},
   "source": [
    "성인 1명이 이번 주 주말에 놀러갈 제주도 숙소 리스트를 가져오고 싶을 때"
   ]
  },
  {
   "cell_type": "code",
   "execution_count": 1,
   "metadata": {},
   "outputs": [],
   "source": [
    "# Step 0. 필요한 모듈과 라이브러리를 로딩합니다.\n",
    "import sys # 시스템\n",
    "import os  # 시스템\n",
    "\n",
    "import pandas as pd  # 판다스 : 데이터분석 라이브러리\n",
    "import numpy as np   # 넘파이 : 숫자, 행렬 데이터 라이브러리\n",
    "\n",
    "from bs4 import BeautifulSoup    # html 데이터를 전처리\n",
    "from selenium import webdriver   # 웹 브라우저 자동화\n",
    "import time    # 서버와 통신할 때 중간중간 시간 지연. 보통은 1초\n",
    "from tqdm import tqdm_notebook   # for문 돌릴 때 진행상황을 %게이지로 알려준다."
   ]
  },
  {
   "cell_type": "code",
   "execution_count": 13,
   "metadata": {},
   "outputs": [],
   "source": [
    "# 스크롤을 밑으로 내려주는 함수\n",
    "def scroll_down(driver):\n",
    "    driver.execute_script(\"window.scrollTo(0, 8000)\")\n",
    "    time.sleep(1)\n",
    "scroll_down(driver)"
   ]
  },
  {
   "cell_type": "code",
   "execution_count": 8,
   "metadata": {},
   "outputs": [],
   "source": [
    "# Step 1. 크롬 웹브라우저 실행\n",
    "# driver = webdriver.Chrome(\"/Users/aiden/Desktop/chromedriver\")  # 윈도우는 \"chromedriver.exe\"\n",
    "# url = \"https://www.booking.com/searchresults.ko.html?aid=397648&label=nav105jc-1FCAEoggI46AdIM1gDaH2IAQGYARe4AQfIAQzYAQHoAQH4AQyIAgGoAgO4Aov74IQGwAIB0gIkN2VjZDJjNjktMjAxZS00NjBlLTg3ZWQtY2JhMjY2MDljMmM42AIG4AIB&sid=e19b301d9f2ba429173c4b6aaa971bcd&tmpl=searchresults&checkin_month=5&checkin_monthday=15&checkin_year=2021&checkout_month=5&checkout_monthday=16&checkout_year=2021&class_interval=1&dest_id=4170&dest_type=region&dtdisc=0&from_sf=1&group_adults=1&group_children=0&inac=0&index_postcard=0&label_click=undef&no_rooms=1&postcard=0&raw_dest_type=region&room1=A&sb_price_type=total&search_selected=1&shw_aparth=1&slp_r_match=0&src=index&src_elem=sb&srpvid=d60890e0e8ae0830&ss=%EC%A0%9C%EC%A3%BC%EB%8F%84%2C%20%EB%8C%80%ED%95%9C%EB%AF%BC%EA%B5%AD&ss_all=0&ssb=empty&sshis=0&top_ufis=1&rows=25\\\n",
    "# &offset=0\"\n",
    "# driver.get(url)\n",
    "# time.sleep(2)"
   ]
  },
  {
   "cell_type": "markdown",
   "metadata": {},
   "source": [
    "# 데이터 크롤링"
   ]
  },
  {
   "cell_type": "code",
   "execution_count": 66,
   "metadata": {
    "scrolled": true
   },
   "outputs": [
    {
     "name": "stdout",
     "output_type": "stream",
     "text": [
      "크롤링 성공: \n",
      "hotel rating price room url\n",
      "25 25 25 25 25\n",
      "50 50 50 50 50\n",
      "75 75 75 75 75\n",
      "100 100 100 100 100\n",
      "125 125 125 125 125\n",
      "크롤링 완료\n"
     ]
    }
   ],
   "source": [
    "# Step 1. 크롬 웹브라우저 실행\n",
    "driver = webdriver.Chrome(\"/Users/aiden/Desktop/chromedriver\")  # 윈도우는 \"chromedriver.exe\"\n",
    "url = \"https://www.booking.com/searchresults.ko.html?aid=397648&label=nav105jc-1FCAEoggI46AdIM1gDaH2IAQGYARe4AQfIAQzYAQHoAQH4AQyIAgGoAgO4Aov74IQGwAIB0gIkN2VjZDJjNjktMjAxZS00NjBlLTg3ZWQtY2JhMjY2MDljMmM42AIG4AIB&sid=e19b301d9f2ba429173c4b6aaa971bcd&tmpl=searchresults&checkin_month=5&checkin_monthday=15&checkin_year=2021&checkout_month=5&checkout_monthday=16&checkout_year=2021&class_interval=1&dest_id=4170&dest_type=region&dtdisc=0&from_sf=1&group_adults=1&group_children=0&inac=0&index_postcard=0&label_click=undef&no_rooms=1&postcard=0&raw_dest_type=region&room1=A&sb_price_type=total&search_selected=1&shw_aparth=1&slp_r_match=0&src=index&src_elem=sb&srpvid=d60890e0e8ae0830&ss=%EC%A0%9C%EC%A3%BC%EB%8F%84%2C%20%EB%8C%80%ED%95%9C%EB%AF%BC%EA%B5%AD&ss_all=0&ssb=empty&sshis=0&top_ufis=1&rows=25\\\n",
    "&offset=0\"\n",
    "driver.get(url)\n",
    "time.sleep(2)\n",
    "\n",
    "hotel_list = []\n",
    "url_list=[]\n",
    "rating_list = []\n",
    "price_list = []\n",
    "room_list = []\n",
    "\n",
    "print(\"크롤링 성공: \")\n",
    "print('hotel', 'rating', 'price', 'room', 'url')\n",
    "\n",
    "page = 5   # 크롤링 원하는 페이지 수\n",
    "for i in range(0, page):\n",
    "    \n",
    "    # 호텔 이름\n",
    "    hotel_raw = driver.find_elements_by_css_selector('.sr-hotel__name')\n",
    "    for hotel in hotel_raw:\n",
    "        hotel = hotel.text\n",
    "        hotel_list.append(hotel)\n",
    "    # hotel_list = [ x for x in hotel_list if not x =='']\n",
    "    \n",
    "    # 별점 가져오기\n",
    "    rating_raw = driver.find_elements_by_css_selector('.sr_item_review_block')\n",
    "    for rating in rating_raw:\n",
    "        if '\\n' in rating.text:\n",
    "            rating = float(rating.text.split('\\n')[0])\n",
    "        else:\n",
    "            rating = float(rating.text)\n",
    "        rating_list.append(rating)\n",
    "    \n",
    "    # 가격 가져오기\n",
    "    price_raw = driver.find_elements_by_css_selector('.roomPrice.sr_discount')\n",
    "    for price in price_raw:\n",
    "        if price.text.split('\\n') != ['']:\n",
    "            price = price.text.split('\\n')\n",
    "            price = int([ x for x in price if x != '1박, 성인 1명'][0].split(' ')[-1].replace('₩', '').replace(',', ''))\n",
    "            price_list.append(price)\n",
    "    price_list = [x for x in price_list if not x =='']\n",
    "    \n",
    "    # 방 정보\n",
    "    room_raw = driver.find_elements_by_css_selector(\".room_link\")\n",
    "    for room in room_raw:\n",
    "        room_list.append(room.text.split('\\n')[0].replace(' -','').strip())\n",
    "    room_list = [ x for x in room_list if not x =='']\n",
    "    \n",
    "    # url\n",
    "    url_raw = driver.find_elements_by_css_selector(\".sr_item_photo_link.sr_hotel_preview_track\")\n",
    "    for url in url_raw:\n",
    "        url = url.get_attribute('href')\n",
    "        url_list.append(url)\n",
    "    time.sleep(1)\n",
    "    # url_list = [ x for x in url_list if not x =='']\n",
    "    \n",
    "    # 크롤링 성공한 갯수\n",
    "    print(len(hotel_list),len(rating_list),len(price_list),len(room_list),len(url_list))\n",
    "    \n",
    "    # 다음 페이지 이동 - 페이지 이동에 관해서는 지연 시간을 넉넉하게 주는것이 좋다\n",
    "    driver.find_element_by_css_selector('.bk-icon.-iconset-navarrow_right.bui-pagination__icon').click()\n",
    "    time.sleep(3)\n",
    "    \n",
    "print(\"크롤링 완료\")"
   ]
  },
  {
   "cell_type": "code",
   "execution_count": 67,
   "metadata": {},
   "outputs": [
    {
     "name": "stdout",
     "output_type": "stream",
     "text": [
      "125\n",
      "125\n",
      "125\n",
      "125\n",
      "125\n"
     ]
    }
   ],
   "source": [
    "print(len(hotel_list))\n",
    "print(len(room_list))\n",
    "print(len(price_list))\n",
    "print(len(rating_list))\n",
    "print(len(url_list))"
   ]
  },
  {
   "cell_type": "code",
   "execution_count": 68,
   "metadata": {},
   "outputs": [
    {
     "data": {
      "text/html": [
       "<div>\n",
       "<style scoped>\n",
       "    .dataframe tbody tr th:only-of-type {\n",
       "        vertical-align: middle;\n",
       "    }\n",
       "\n",
       "    .dataframe tbody tr th {\n",
       "        vertical-align: top;\n",
       "    }\n",
       "\n",
       "    .dataframe thead th {\n",
       "        text-align: right;\n",
       "    }\n",
       "</style>\n",
       "<table border=\"1\" class=\"dataframe\">\n",
       "  <thead>\n",
       "    <tr style=\"text-align: right;\">\n",
       "      <th></th>\n",
       "      <th>hotel</th>\n",
       "      <th>rating</th>\n",
       "      <th>room</th>\n",
       "      <th>url</th>\n",
       "      <th>price(won)</th>\n",
       "    </tr>\n",
       "  </thead>\n",
       "  <tbody>\n",
       "    <tr>\n",
       "      <th>0</th>\n",
       "      <td>신신호텔 서귀포</td>\n",
       "      <td>8.6</td>\n",
       "      <td>Standard Ondol Room(Single use)</td>\n",
       "      <td>https://www.booking.com/hotel/kr/sinsinhotel-s...</td>\n",
       "      <td>43934</td>\n",
       "    </tr>\n",
       "    <tr>\n",
       "      <th>1</th>\n",
       "      <td>롯데호텔 제주</td>\n",
       "      <td>8.6</td>\n",
       "      <td>한실 패밀리룸</td>\n",
       "      <td>https://www.booking.com/hotel/kr/lotte-jeju.ko...</td>\n",
       "      <td>514552</td>\n",
       "    </tr>\n",
       "    <tr>\n",
       "      <th>2</th>\n",
       "      <td>랜딩관 제주신화월드 호텔앤리조트</td>\n",
       "      <td>8.3</td>\n",
       "      <td>수페리어 트윈룸</td>\n",
       "      <td>https://www.booking.com/hotel/kr/jeju-shinhwa-...</td>\n",
       "      <td>220000</td>\n",
       "    </tr>\n",
       "    <tr>\n",
       "      <th>3</th>\n",
       "      <td>서머셋 제주신화월드</td>\n",
       "      <td>8.6</td>\n",
       "      <td>패밀리 스위트룸 한실 (온돌)</td>\n",
       "      <td>https://www.booking.com/hotel/kr/somerset-jeju...</td>\n",
       "      <td>660000</td>\n",
       "    </tr>\n",
       "    <tr>\n",
       "      <th>4</th>\n",
       "      <td>메종 글래드 제주</td>\n",
       "      <td>8.1</td>\n",
       "      <td>디럭스 트윈룸</td>\n",
       "      <td>https://www.booking.com/hotel/kr/jeju-grand.ko...</td>\n",
       "      <td>175500</td>\n",
       "    </tr>\n",
       "    <tr>\n",
       "      <th>...</th>\n",
       "      <td>...</td>\n",
       "      <td>...</td>\n",
       "      <td>...</td>\n",
       "      <td>...</td>\n",
       "      <td>...</td>\n",
       "    </tr>\n",
       "    <tr>\n",
       "      <th>120</th>\n",
       "      <td>더제주리조트</td>\n",
       "      <td>6.5</td>\n",
       "      <td>스탠다드 트윈룸</td>\n",
       "      <td>https://www.booking.com/hotel/kr/benikea-the-j...</td>\n",
       "      <td>40000</td>\n",
       "    </tr>\n",
       "    <tr>\n",
       "      <th>121</th>\n",
       "      <td>산방산애 리조트</td>\n",
       "      <td>8.4</td>\n",
       "      <td>2베드룸 스위트</td>\n",
       "      <td>https://www.booking.com/hotel/kr/sanbangsanae-...</td>\n",
       "      <td>158193</td>\n",
       "    </tr>\n",
       "    <tr>\n",
       "      <th>122</th>\n",
       "      <td>아라팰리스 호텔</td>\n",
       "      <td>7.5</td>\n",
       "      <td>퀸룸 바다 전망</td>\n",
       "      <td>https://www.booking.com/hotel/kr/arapaelriseuh...</td>\n",
       "      <td>72000</td>\n",
       "    </tr>\n",
       "    <tr>\n",
       "      <th>123</th>\n",
       "      <td>제주 길라임 펜션</td>\n",
       "      <td>8.7</td>\n",
       "      <td>싱글룸</td>\n",
       "      <td>https://www.booking.com/hotel/kr/jeju-gillime-...</td>\n",
       "      <td>28350</td>\n",
       "    </tr>\n",
       "    <tr>\n",
       "      <th>124</th>\n",
       "      <td>제주 알 호텔 앤 게스트하우스</td>\n",
       "      <td>8.3</td>\n",
       "      <td>더블룸 욕실</td>\n",
       "      <td>https://www.booking.com/hotel/kr/r-amp-guestho...</td>\n",
       "      <td>40500</td>\n",
       "    </tr>\n",
       "  </tbody>\n",
       "</table>\n",
       "<p>125 rows × 5 columns</p>\n",
       "</div>"
      ],
      "text/plain": [
       "                 hotel  rating                             room  \\\n",
       "0             신신호텔 서귀포     8.6  Standard Ondol Room(Single use)   \n",
       "1              롯데호텔 제주     8.6                          한실 패밀리룸   \n",
       "2    랜딩관 제주신화월드 호텔앤리조트     8.3                         수페리어 트윈룸   \n",
       "3           서머셋 제주신화월드     8.6                 패밀리 스위트룸 한실 (온돌)   \n",
       "4            메종 글래드 제주     8.1                          디럭스 트윈룸   \n",
       "..                 ...     ...                              ...   \n",
       "120             더제주리조트     6.5                         스탠다드 트윈룸   \n",
       "121           산방산애 리조트     8.4                         2베드룸 스위트   \n",
       "122           아라팰리스 호텔     7.5                         퀸룸 바다 전망   \n",
       "123          제주 길라임 펜션     8.7                              싱글룸   \n",
       "124   제주 알 호텔 앤 게스트하우스     8.3                           더블룸 욕실   \n",
       "\n",
       "                                                   url  price(won)  \n",
       "0    https://www.booking.com/hotel/kr/sinsinhotel-s...       43934  \n",
       "1    https://www.booking.com/hotel/kr/lotte-jeju.ko...      514552  \n",
       "2    https://www.booking.com/hotel/kr/jeju-shinhwa-...      220000  \n",
       "3    https://www.booking.com/hotel/kr/somerset-jeju...      660000  \n",
       "4    https://www.booking.com/hotel/kr/jeju-grand.ko...      175500  \n",
       "..                                                 ...         ...  \n",
       "120  https://www.booking.com/hotel/kr/benikea-the-j...       40000  \n",
       "121  https://www.booking.com/hotel/kr/sanbangsanae-...      158193  \n",
       "122  https://www.booking.com/hotel/kr/arapaelriseuh...       72000  \n",
       "123  https://www.booking.com/hotel/kr/jeju-gillime-...       28350  \n",
       "124  https://www.booking.com/hotel/kr/r-amp-guestho...       40500  \n",
       "\n",
       "[125 rows x 5 columns]"
      ]
     },
     "execution_count": 68,
     "metadata": {},
     "output_type": "execute_result"
    }
   ],
   "source": [
    "# 데이터 프레임으로 만들기\n",
    "# 행의 개수가 일치 해야한다.\n",
    "df = pd.DataFrame({'hotel':hotel_list, 'rating':rating_list, 'room':room_list, 'url':url_list, 'price(won)':price_list})\n",
    "df    "
   ]
  },
  {
   "cell_type": "code",
   "execution_count": 69,
   "metadata": {},
   "outputs": [],
   "source": [
    "# 엑셀로 저장하기\n",
    "df.to_excel(\"booking_com.xlsx\", encoding='utf-8-sig')"
   ]
  },
  {
   "cell_type": "code",
   "execution_count": null,
   "metadata": {},
   "outputs": [],
   "source": []
  },
  {
   "cell_type": "code",
   "execution_count": null,
   "metadata": {},
   "outputs": [],
   "source": []
  },
  {
   "cell_type": "code",
   "execution_count": null,
   "metadata": {},
   "outputs": [],
   "source": []
  },
  {
   "cell_type": "code",
   "execution_count": null,
   "metadata": {},
   "outputs": [],
   "source": []
  },
  {
   "cell_type": "code",
   "execution_count": null,
   "metadata": {},
   "outputs": [],
   "source": []
  },
  {
   "cell_type": "markdown",
   "metadata": {},
   "source": [
    "# (참고 코드)"
   ]
  },
  {
   "cell_type": "code",
   "execution_count": 14,
   "metadata": {},
   "outputs": [
    {
     "name": "stdout",
     "output_type": "stream",
     "text": [
      "25\n"
     ]
    },
    {
     "data": {
      "text/plain": [
       "['신신호텔 서귀포',\n",
       " '롯데호텔 제주',\n",
       " '서머셋 제주신화월드',\n",
       " '메종 글래드 제주',\n",
       " '신화관 제주신화월드 호텔 앤 리조트',\n",
       " '메리어트관 제주신화월드 호텔앤리조트',\n",
       " '그랜드 하얏트 제주',\n",
       " '롯데시티호텔 제주',\n",
       " '브라운 스위트 호텔 & 리조트',\n",
       " '호텔 휘슬락',\n",
       " '라마다 프라자 호텔',\n",
       " '호텔 리젠트 마린 더블루',\n",
       " '호텔난타 제주',\n",
       " '코업시티호텔 하버뷰',\n",
       " '해비치 호텔 & 리조트',\n",
       " '골든 데이지 호텔',\n",
       " '퍼스트70 호텔',\n",
       " '그랜드 조선 제주',\n",
       " '더 그랜드 섬오름',\n",
       " '휘닉스 제주 섭지코지',\n",
       " '코업시티호텔 성산',\n",
       " '제주 센트럴 시티호텔',\n",
       " '제주 마레보 비치 호텔',\n",
       " '위 호텔 제주',\n",
       " '신신호텔 제주공항']"
      ]
     },
     "execution_count": 14,
     "metadata": {},
     "output_type": "execute_result"
    }
   ],
   "source": [
    "# 호텔 이름\n",
    "hotel_raw = driver.find_elements_by_css_selector('.sr-hotel__name')\n",
    "hotel_list = []\n",
    "for hotel in hotel_raw:\n",
    "    hotel = hotel.text\n",
    "    hotel_list.append(hotel)\n",
    "    \n",
    "# hotel_list = [ x for x in hotel_list if not x =='']\n",
    "print(len(hotel_list))\n",
    "hotel_list"
   ]
  },
  {
   "cell_type": "code",
   "execution_count": 15,
   "metadata": {},
   "outputs": [
    {
     "name": "stdout",
     "output_type": "stream",
     "text": [
      "25\n"
     ]
    },
    {
     "data": {
      "text/plain": [
       "['https://www.booking.com/hotel/kr/sinsinhotel-seogwipo.ko.html?aid=397648&label=nav105jc-1FCAEoggI46AdIM1gDaH2IAQGYARe4AQfIAQzYAQHoAQH4AQyIAgGoAgO4Aov74IQGwAIB0gIkN2VjZDJjNjktMjAxZS00NjBlLTg3ZWQtY2JhMjY2MDljMmM42AIG4AIB&sid=11607fb15db3223ead36f4cd0a8c3778&all_sr_blocks=696587412_287464310_1_2_0&checkin=2021-05-15&checkout=2021-05-16&dest_id=4170&dest_type=region&group_adults=1&group_children=0&hapos=1&highlighted_blocks=696587412_287464310_1_2_0&hpos=1&no_rooms=1&req_adults=1&req_children=0&room1=A&sr_order=popularity&sr_pri_blocks=696587412_287464310_1_2_0__4393400&srepoch=1620698585&srpvid=db600e6c104600f9&ucfs=1&from=searchresults&tpi_r=2#hotelTmpl',\n",
       " 'https://www.booking.com/hotel/kr/lotte-jeju.ko.html?aid=397648&label=nav105jc-1FCAEoggI46AdIM1gDaH2IAQGYARe4AQfIAQzYAQHoAQH4AQyIAgGoAgO4Aov74IQGwAIB0gIkN2VjZDJjNjktMjAxZS00NjBlLTg3ZWQtY2JhMjY2MDljMmM42AIG4AIB&sid=11607fb15db3223ead36f4cd0a8c3778&all_sr_blocks=23513931_235897805_2_42_0&checkin=2021-05-15&checkout=2021-05-16&dest_id=4170&dest_type=region&group_adults=1&group_children=0&hapos=2&highlighted_blocks=23513931_235897805_2_42_0&hpos=2&no_rooms=1&req_adults=1&req_children=0&room1=A&sr_order=popularity&sr_pri_blocks=23513931_235897805_2_42_0__51455199&srepoch=1620698585&srpvid=db600e6c104600f9&ucfs=1&from=searchresults&tpi_r=2#hotelTmpl',\n",
       " 'https://www.booking.com/hotel/kr/somerset-jeju-shinwha-world.ko.html?aid=397648&label=nav105jc-1FCAEoggI46AdIM1gDaH2IAQGYARe4AQfIAQzYAQHoAQH4AQyIAgGoAgO4Aov74IQGwAIB0gIkN2VjZDJjNjktMjAxZS00NjBlLTg3ZWQtY2JhMjY2MDljMmM42AIG4AIB&sid=11607fb15db3223ead36f4cd0a8c3778&all_sr_blocks=225454431_255155676_4_2_0&checkin=2021-05-15&checkout=2021-05-16&dest_id=4170&dest_type=region&group_adults=1&group_children=0&hapos=3&highlighted_blocks=225454431_255155676_4_2_0&hpos=3&no_rooms=1&req_adults=1&req_children=0&room1=A&sr_order=popularity&sr_pri_blocks=225454431_255155676_4_2_0__66000000&srepoch=1620698585&srpvid=db600e6c104600f9&ucfs=1&from=searchresults&tpi_r=2#hotelTmpl',\n",
       " 'https://www.booking.com/hotel/kr/jeju-grand.ko.html?aid=397648&label=nav105jc-1FCAEoggI46AdIM1gDaH2IAQGYARe4AQfIAQzYAQHoAQH4AQyIAgGoAgO4Aov74IQGwAIB0gIkN2VjZDJjNjktMjAxZS00NjBlLTg3ZWQtY2JhMjY2MDljMmM42AIG4AIB&sid=11607fb15db3223ead36f4cd0a8c3778&all_sr_blocks=55924901_202522112_0_2_0&checkin=2021-05-15&checkout=2021-05-16&dest_id=4170&dest_type=region&group_adults=1&group_children=0&hapos=4&highlighted_blocks=55924901_202522112_0_2_0&hpos=4&no_rooms=1&req_adults=1&req_children=0&room1=A&sr_order=popularity&sr_pri_blocks=55924901_202522112_0_2_0__17549999&srepoch=1620698585&srpvid=db600e6c104600f9&ucfs=1&from=searchresults&tpi_r=2#hotelTmpl',\n",
       " 'https://www.booking.com/hotel/kr/sinhwagwan-jejusinhwaweoldeu-aen-rijoteu.ko.html?aid=397648&label=nav105jc-1FCAEoggI46AdIM1gDaH2IAQGYARe4AQfIAQzYAQHoAQH4AQyIAgGoAgO4Aov74IQGwAIB0gIkN2VjZDJjNjktMjAxZS00NjBlLTg3ZWQtY2JhMjY2MDljMmM42AIG4AIB&sid=11607fb15db3223ead36f4cd0a8c3778&all_sr_blocks=387585702_255155444_0_2_0&checkin=2021-05-15&checkout=2021-05-16&dest_id=4170&dest_type=region&group_adults=1&group_children=0&hapos=5&highlighted_blocks=387585702_255155444_0_2_0&hpos=5&no_rooms=1&req_adults=1&req_children=0&room1=A&sr_order=popularity&sr_pri_blocks=387585702_255155444_0_2_0__30800000&srepoch=1620698585&srpvid=db600e6c104600f9&ucfs=1&from=searchresults&tpi_r=2#hotelTmpl',\n",
       " 'https://www.booking.com/hotel/kr/jeju-shinhwa-world-marriott-resort.ko.html?aid=397648&label=nav105jc-1FCAEoggI46AdIM1gDaH2IAQGYARe4AQfIAQzYAQHoAQH4AQyIAgGoAgO4Aov74IQGwAIB0gIkN2VjZDJjNjktMjAxZS00NjBlLTg3ZWQtY2JhMjY2MDljMmM42AIG4AIB&sid=11607fb15db3223ead36f4cd0a8c3778&all_sr_blocks=287497022_256375466_3_2_0&checkin=2021-05-15&checkout=2021-05-16&dest_id=4170&dest_type=region&group_adults=1&group_children=0&hapos=6&highlighted_blocks=287497022_256375466_3_2_0&hpos=6&no_rooms=1&req_adults=1&req_children=0&room1=A&sr_order=popularity&sr_pri_blocks=287497022_256375466_3_2_0__36300000&srepoch=1620698585&srpvid=db600e6c104600f9&ucfs=1&from=searchresults&tpi_r=2#hotelTmpl',\n",
       " 'https://www.booking.com/hotel/kr/grand-hyatt-jeju.ko.html?aid=397648&label=nav105jc-1FCAEoggI46AdIM1gDaH2IAQGYARe4AQfIAQzYAQHoAQH4AQyIAgGoAgO4Aov74IQGwAIB0gIkN2VjZDJjNjktMjAxZS00NjBlLTg3ZWQtY2JhMjY2MDljMmM42AIG4AIB&sid=11607fb15db3223ead36f4cd0a8c3778&all_sr_blocks=678232202_288466178_2_2_0&checkin=2021-05-15&checkout=2021-05-16&dest_id=4170&dest_type=region&group_adults=1&group_children=0&hapos=7&highlighted_blocks=678232202_288466178_2_2_0&hpos=7&no_rooms=1&req_adults=1&req_children=0&room1=A&sr_order=popularity&sr_pri_blocks=678232202_288466178_2_2_0__55242000&srepoch=1620698585&srpvid=db600e6c104600f9&ucfs=1&from=searchresults&tpi_r=2#hotelTmpl',\n",
       " 'https://www.booking.com/hotel/kr/lotte-city-jeju.ko.html?aid=397648&label=nav105jc-1FCAEoggI46AdIM1gDaH2IAQGYARe4AQfIAQzYAQHoAQH4AQyIAgGoAgO4Aov74IQGwAIB0gIkN2VjZDJjNjktMjAxZS00NjBlLTg3ZWQtY2JhMjY2MDljMmM42AIG4AIB&sid=11607fb15db3223ead36f4cd0a8c3778&all_sr_blocks=89448610_134358957_0_42_0&checkin=2021-05-15&checkout=2021-05-16&dest_id=4170&dest_type=region&group_adults=1&group_children=0&hapos=8&highlighted_blocks=89448610_134358957_0_42_0&hpos=8&no_rooms=1&req_adults=1&req_children=0&room1=A&sr_order=popularity&sr_pri_blocks=89448610_134358957_0_42_0__19800000&srepoch=1620698585&srpvid=db600e6c104600f9&ucfs=1&from=searchresults&tpi_r=2#hotelTmpl',\n",
       " 'https://www.booking.com/hotel/kr/the-island-marina-resort.ko.html?aid=397648&label=nav105jc-1FCAEoggI46AdIM1gDaH2IAQGYARe4AQfIAQzYAQHoAQH4AQyIAgGoAgO4Aov74IQGwAIB0gIkN2VjZDJjNjktMjAxZS00NjBlLTg3ZWQtY2JhMjY2MDljMmM42AIG4AIB&sid=11607fb15db3223ead36f4cd0a8c3778&all_sr_blocks=135791801_266374439_2_0_0&checkin=2021-05-15&checkout=2021-05-16&dest_id=4170&dest_type=region&group_adults=1&group_children=0&hapos=9&highlighted_blocks=135791801_266374439_2_0_0&hpos=9&no_rooms=1&req_adults=1&req_children=0&room1=A&sr_order=popularity&sr_pri_blocks=135791801_266374439_2_0_0__4570999&srepoch=1620698585&srpvid=db600e6c104600f9&ucfs=1&from=searchresults&tpi_r=2#hotelTmpl',\n",
       " 'https://www.booking.com/hotel/kr/whistle.ko.html?aid=397648&label=nav105jc-1FCAEoggI46AdIM1gDaH2IAQGYARe4AQfIAQzYAQHoAQH4AQyIAgGoAgO4Aov74IQGwAIB0gIkN2VjZDJjNjktMjAxZS00NjBlLTg3ZWQtY2JhMjY2MDljMmM42AIG4AIB&sid=11607fb15db3223ead36f4cd0a8c3778&all_sr_blocks=214436127_101506820_2_2_0&checkin=2021-05-15&checkout=2021-05-16&dest_id=4170&dest_type=region&group_adults=1&group_children=0&hapos=10&highlighted_blocks=214436127_101506820_2_2_0&hpos=10&no_rooms=1&req_adults=1&req_children=0&room1=A&sr_order=popularity&sr_pri_blocks=214436127_101506820_2_2_0__10499999&srepoch=1620698585&srpvid=db600e6c104600f9&ucfs=1&from=searchresults&tpi_r=1#hotelTmpl',\n",
       " 'https://www.booking.com/hotel/kr/ramada-plaza-jeju.ko.html?aid=397648&label=nav105jc-1FCAEoggI46AdIM1gDaH2IAQGYARe4AQfIAQzYAQHoAQH4AQyIAgGoAgO4Aov74IQGwAIB0gIkN2VjZDJjNjktMjAxZS00NjBlLTg3ZWQtY2JhMjY2MDljMmM42AIG4AIB&sid=11607fb15db3223ead36f4cd0a8c3778&all_sr_blocks=134218050_246075633_3_2_0&checkin=2021-05-15&checkout=2021-05-16&dest_id=4170&dest_type=region&group_adults=1&group_children=0&hapos=11&highlighted_blocks=134218050_246075633_3_2_0&hpos=11&no_rooms=1&req_adults=1&req_children=0&room1=A&sr_order=popularity&sr_pri_blocks=134218050_246075633_3_2_0__17499999&srepoch=1620698585&srpvid=db600e6c104600f9&ucfs=1&from=searchresults&tpi_r=2#hotelTmpl',\n",
       " 'https://www.booking.com/hotel/kr/regentmarine-the-blue.ko.html?aid=397648&label=nav105jc-1FCAEoggI46AdIM1gDaH2IAQGYARe4AQfIAQzYAQHoAQH4AQyIAgGoAgO4Aov74IQGwAIB0gIkN2VjZDJjNjktMjAxZS00NjBlLTg3ZWQtY2JhMjY2MDljMmM42AIG4AIB&sid=11607fb15db3223ead36f4cd0a8c3778&all_sr_blocks=165855501_269941664_0_2_0&checkin=2021-05-15&checkout=2021-05-16&dest_id=4170&dest_type=region&group_adults=1&group_children=0&hapos=12&highlighted_blocks=165855501_269941664_0_2_0&hpos=12&no_rooms=1&req_adults=1&req_children=0&room1=A&sr_order=popularity&sr_pri_blocks=165855501_269941664_0_2_0__12099999&srepoch=1620698585&srpvid=db600e6c104600f9&ucfs=1&from=searchresults&tpi_r=2#hotelTmpl',\n",
       " 'https://www.booking.com/hotel/kr/nanta-jeju.ko.html?aid=397648&label=nav105jc-1FCAEoggI46AdIM1gDaH2IAQGYARe4AQfIAQzYAQHoAQH4AQyIAgGoAgO4Aov74IQGwAIB0gIkN2VjZDJjNjktMjAxZS00NjBlLTg3ZWQtY2JhMjY2MDljMmM42AIG4AIB&sid=11607fb15db3223ead36f4cd0a8c3778&all_sr_blocks=213857402_204968013_2_2_0&checkin=2021-05-15&checkout=2021-05-16&dest_id=4170&dest_type=region&group_adults=1&group_children=0&hapos=13&highlighted_blocks=213857402_204968013_2_2_0&hpos=13&no_rooms=1&req_adults=1&req_children=0&room1=A&sr_order=popularity&sr_pri_blocks=213857402_204968013_2_2_0__8910000&srepoch=1620698585&srpvid=db600e6c104600f9&ucfs=1&from=searchresults&tpi_r=2#hotelTmpl',\n",
       " 'https://www.booking.com/hotel/kr/koeobsitihotel-habeobyu-seogwipo.ko.html?aid=397648&label=nav105jc-1FCAEoggI46AdIM1gDaH2IAQGYARe4AQfIAQzYAQHoAQH4AQyIAgGoAgO4Aov74IQGwAIB0gIkN2VjZDJjNjktMjAxZS00NjBlLTg3ZWQtY2JhMjY2MDljMmM42AIG4AIB&sid=11607fb15db3223ead36f4cd0a8c3778&all_sr_blocks=468881401_270632576_2_2_0&checkin=2021-05-15&checkout=2021-05-16&dest_id=4170&dest_type=region&group_adults=1&group_children=0&hapos=14&highlighted_blocks=468881401_270632576_2_2_0&hpos=14&no_rooms=1&req_adults=1&req_children=0&room1=A&sr_order=popularity&sr_pri_blocks=468881401_270632576_2_2_0__5040000&srepoch=1620698585&srpvid=db600e6c104600f9&ucfs=1&from=searchresults&tpi_r=1#hotelTmpl',\n",
       " 'https://www.booking.com/hotel/kr/haevichi.ko.html?aid=397648&label=nav105jc-1FCAEoggI46AdIM1gDaH2IAQGYARe4AQfIAQzYAQHoAQH4AQyIAgGoAgO4Aov74IQGwAIB0gIkN2VjZDJjNjktMjAxZS00NjBlLTg3ZWQtY2JhMjY2MDljMmM42AIG4AIB&sid=11607fb15db3223ead36f4cd0a8c3778&all_sr_blocks=54385040_272860279_4_0_0&checkin=2021-05-15&checkout=2021-05-16&dest_id=4170&dest_type=region&group_adults=1&group_children=0&hapos=15&highlighted_blocks=54385040_272860279_4_0_0&hpos=15&no_rooms=1&req_adults=1&req_children=0&room1=A&sr_order=popularity&sr_pri_blocks=54385040_272860279_4_0_0__58080000&srepoch=1620698585&srpvid=db600e6c104600f9&ucfs=1&from=searchresults&tpi_r=2#hotelTmpl',\n",
       " 'https://www.booking.com/hotel/kr/days-jeju-seogwipo-ocean.ko.html?aid=397648&label=nav105jc-1FCAEoggI46AdIM1gDaH2IAQGYARe4AQfIAQzYAQHoAQH4AQyIAgGoAgO4Aov74IQGwAIB0gIkN2VjZDJjNjktMjAxZS00NjBlLTg3ZWQtY2JhMjY2MDljMmM42AIG4AIB&sid=11607fb15db3223ead36f4cd0a8c3778&all_sr_blocks=195769301_246072784_0_0_0&checkin=2021-05-15&checkout=2021-05-16&dest_id=4170&dest_type=region&group_adults=1&group_children=0&hapos=16&highlighted_blocks=195769301_246072784_0_0_0&hpos=16&no_rooms=1&req_adults=1&req_children=0&room1=A&sr_order=popularity&sr_pri_blocks=195769301_246072784_0_0_0__5796000&srepoch=1620698585&srpvid=db600e6c104600f9&ucfs=1&from=searchresults&tpi_r=1#hotelTmpl',\n",
       " 'https://www.booking.com/hotel/kr/the-first70.ko.html?aid=397648&label=nav105jc-1FCAEoggI46AdIM1gDaH2IAQGYARe4AQfIAQzYAQHoAQH4AQyIAgGoAgO4Aov74IQGwAIB0gIkN2VjZDJjNjktMjAxZS00NjBlLTg3ZWQtY2JhMjY2MDljMmM42AIG4AIB&sid=11607fb15db3223ead36f4cd0a8c3778&all_sr_blocks=276544102_295225053_2_2_0&checkin=2021-05-15&checkout=2021-05-16&dest_id=4170&dest_type=region&group_adults=1&group_children=0&hapos=17&highlighted_blocks=276544102_295225053_2_2_0&hpos=17&no_rooms=1&req_adults=1&req_children=0&room1=A&sr_order=popularity&sr_pri_blocks=276544102_295225053_2_2_0__6299999&srepoch=1620698585&srpvid=db600e6c104600f9&ucfs=1&from=searchresults&tpi_r=2#hotelTmpl',\n",
       " 'https://www.booking.com/hotel/kr/grand-josun-jeju.ko.html?aid=397648&label=nav105jc-1FCAEoggI46AdIM1gDaH2IAQGYARe4AQfIAQzYAQHoAQH4AQyIAgGoAgO4Aov74IQGwAIB0gIkN2VjZDJjNjktMjAxZS00NjBlLTg3ZWQtY2JhMjY2MDljMmM42AIG4AIB&sid=11607fb15db3223ead36f4cd0a8c3778&all_sr_blocks=689297505_279741395_2_2_0&checkin=2021-05-15&checkout=2021-05-16&dest_id=4170&dest_type=region&group_adults=1&group_children=0&hapos=18&highlighted_blocks=689297505_279741395_2_2_0&hpos=18&no_rooms=1&req_adults=1&req_children=0&room1=A&sr_order=popularity&sr_pri_blocks=689297505_279741395_2_2_0__62700000&srepoch=1620698585&srpvid=db600e6c104600f9&ucfs=1&from=searchresults&tpi_r=2#hotelTmpl',\n",
       " 'https://www.booking.com/hotel/kr/sumorum.ko.html?aid=397648&label=nav105jc-1FCAEoggI46AdIM1gDaH2IAQGYARe4AQfIAQzYAQHoAQH4AQyIAgGoAgO4Aov74IQGwAIB0gIkN2VjZDJjNjktMjAxZS00NjBlLTg3ZWQtY2JhMjY2MDljMmM42AIG4AIB&sid=11607fb15db3223ead36f4cd0a8c3778&all_sr_blocks=81332630_147195036_2_2_0&checkin=2021-05-15&checkout=2021-05-16&dest_id=4170&dest_type=region&group_adults=1&group_children=0&hapos=19&highlighted_blocks=81332630_147195036_2_2_0&hpos=19&no_rooms=1&req_adults=1&req_children=0&room1=A&sr_order=popularity&sr_pri_blocks=81332630_147195036_2_2_0__19360000&srepoch=1620698585&srpvid=db600e6c104600f9&ucfs=1&from=searchresults&tpi_r=2#hotelTmpl',\n",
       " 'https://www.booking.com/hotel/kr/phoenix-island.ko.html?aid=397648&label=nav105jc-1FCAEoggI46AdIM1gDaH2IAQGYARe4AQfIAQzYAQHoAQH4AQyIAgGoAgO4Aov74IQGwAIB0gIkN2VjZDJjNjktMjAxZS00NjBlLTg3ZWQtY2JhMjY2MDljMmM42AIG4AIB&sid=11607fb15db3223ead36f4cd0a8c3778&all_sr_blocks=100923659_243381262_4_2_0&checkin=2021-05-15&checkout=2021-05-16&dest_id=4170&dest_type=region&group_adults=1&group_children=0&hapos=20&highlighted_blocks=100923659_243381262_4_2_0&hpos=20&no_rooms=1&req_adults=1&req_children=0&room1=A&sr_order=popularity&sr_pri_blocks=100923659_243381262_4_2_0__45000000&srepoch=1620698585&srpvid=db600e6c104600f9&ucfs=1&from=searchresults&tpi_r=2#hotelTmpl',\n",
       " 'https://www.booking.com/hotel/kr/coopcityhotel-seongsan.ko.html?aid=397648&label=nav105jc-1FCAEoggI46AdIM1gDaH2IAQGYARe4AQfIAQzYAQHoAQH4AQyIAgGoAgO4Aov74IQGwAIB0gIkN2VjZDJjNjktMjAxZS00NjBlLTg3ZWQtY2JhMjY2MDljMmM42AIG4AIB&sid=11607fb15db3223ead36f4cd0a8c3778&all_sr_blocks=208856015_235296645_2_0_0&checkin=2021-05-15&checkout=2021-05-16&dest_id=4170&dest_type=region&group_adults=1&group_children=0&hapos=21&highlighted_blocks=208856015_235296645_2_0_0&hpos=21&no_rooms=1&req_adults=1&req_children=0&room1=A&sr_order=popularity&sr_pri_blocks=208856015_235296645_2_0_0__7899999&srepoch=1620698585&srpvid=db600e6c104600f9&ucfs=1&from=searchresults&tpi_r=1#hotelTmpl',\n",
       " 'https://www.booking.com/hotel/kr/jeju-central-city.ko.html?aid=397648&label=nav105jc-1FCAEoggI46AdIM1gDaH2IAQGYARe4AQfIAQzYAQHoAQH4AQyIAgGoAgO4Aov74IQGwAIB0gIkN2VjZDJjNjktMjAxZS00NjBlLTg3ZWQtY2JhMjY2MDljMmM42AIG4AIB&sid=11607fb15db3223ead36f4cd0a8c3778&all_sr_blocks=173986801_264928121_2_0_0&checkin=2021-05-15&checkout=2021-05-16&dest_id=4170&dest_type=region&group_adults=1&group_children=0&hapos=22&highlighted_blocks=173986801_264928121_2_0_0&hpos=22&no_rooms=1&req_adults=1&req_children=0&room1=A&sr_order=popularity&sr_pri_blocks=173986801_264928121_2_0_0__6000000&srepoch=1620698585&srpvid=db600e6c104600f9&ucfs=1&from=searchresults&tpi_r=1#hotelTmpl',\n",
       " 'https://www.booking.com/hotel/kr/jeju-marevo-beach.ko.html?aid=397648&label=nav105jc-1FCAEoggI46AdIM1gDaH2IAQGYARe4AQfIAQzYAQHoAQH4AQyIAgGoAgO4Aov74IQGwAIB0gIkN2VjZDJjNjktMjAxZS00NjBlLTg3ZWQtY2JhMjY2MDljMmM42AIG4AIB&sid=11607fb15db3223ead36f4cd0a8c3778&all_sr_blocks=232591605_253718225_2_1_0&checkin=2021-05-15&checkout=2021-05-16&dest_id=4170&dest_type=region&group_adults=1&group_children=0&hapos=23&highlighted_blocks=232591605_253718225_2_1_0&hpos=23&no_rooms=1&req_adults=1&req_children=0&room1=A&sr_order=popularity&sr_pri_blocks=232591605_253718225_2_1_0__15225000&srepoch=1620698585&srpvid=db600e6c104600f9&ucfs=1&from=searchresults&tpi_r=2#hotelTmpl',\n",
       " 'https://www.booking.com/hotel/kr/the-we.ko.html?aid=397648&label=nav105jc-1FCAEoggI46AdIM1gDaH2IAQGYARe4AQfIAQzYAQHoAQH4AQyIAgGoAgO4Aov74IQGwAIB0gIkN2VjZDJjNjktMjAxZS00NjBlLTg3ZWQtY2JhMjY2MDljMmM42AIG4AIB&sid=11607fb15db3223ead36f4cd0a8c3778&all_sr_blocks=128027216_325981514_2_0_0&checkin=2021-05-15&checkout=2021-05-16&dest_id=4170&dest_type=region&group_adults=1&group_children=0&hapos=24&highlighted_blocks=128027216_325981514_2_0_0&hpos=24&no_rooms=1&req_adults=1&req_children=0&room1=A&sr_order=popularity&sr_pri_blocks=128027216_325981514_2_0_0__27499990&srepoch=1620698585&srpvid=db600e6c104600f9&ucfs=1&from=searchresults&tpi_r=2#hotelTmpl',\n",
       " 'https://www.booking.com/hotel/kr/jk-ramada-encore-jeju.ko.html?aid=397648&label=nav105jc-1FCAEoggI46AdIM1gDaH2IAQGYARe4AQfIAQzYAQHoAQH4AQyIAgGoAgO4Aov74IQGwAIB0gIkN2VjZDJjNjktMjAxZS00NjBlLTg3ZWQtY2JhMjY2MDljMmM42AIG4AIB&sid=11607fb15db3223ead36f4cd0a8c3778&all_sr_blocks=159585512_310491176_2_0_0&checkin=2021-05-15&checkout=2021-05-16&dest_id=4170&dest_type=region&group_adults=1&group_children=0&hapos=25&highlighted_blocks=159585512_310491176_2_0_0&hpos=25&no_rooms=1&req_adults=1&req_children=0&room1=A&sr_order=popularity&sr_pri_blocks=159585512_310491176_2_0_0__5112000&srepoch=1620698585&srpvid=db600e6c104600f9&ucfs=1&from=searchresults&tpi_r=2#hotelTmpl']"
      ]
     },
     "execution_count": 15,
     "metadata": {},
     "output_type": "execute_result"
    }
   ],
   "source": [
    "# url \n",
    "url_list=[]\n",
    "url_raw = driver.find_elements_by_css_selector(\".sr_item_photo_link.sr_hotel_preview_track\")\n",
    "\n",
    "for url in url_raw:\n",
    "    url = url.get_attribute('href')\n",
    "    url_list.append(url)\n",
    "    \n",
    "# url_list = [ x for x in url_list if not x =='']\n",
    "print(len(url_list))\n",
    "url_list"
   ]
  },
  {
   "cell_type": "code",
   "execution_count": 34,
   "metadata": {},
   "outputs": [
    {
     "data": {
      "text/plain": [
       "'https://www.booking.com/hotel/kr/noblesse-jeju.ko.html?aid=397648&label=nav105jc-1FCAEoggI46AdIM1gDaH2IAQGYARe4AQfIAQzYAQHoAQH4AQyIAgGoAgO4Aov74IQGwAIB0gIkN2VjZDJjNjktMjAxZS00NjBlLTg3ZWQtY2JhMjY2MDljMmM42AIG4AIB&sid=a8969e8a7e83a3dfff572abb1c6df87a&all_sr_blocks=148081801_114185930_2_0_0&checkin=2021-05-15&checkout=2021-05-16&dest_id=4170&dest_type=region&group_adults=1&group_children=0&hapos=251&highlighted_blocks=148081801_114185930_2_0_0&hpos=1&no_rooms=1&req_adults=1&req_children=0&room1=A&sr_order=popularity&sr_pri_blocks=148081801_114185930_2_0_0__5400000&srepoch=1620699854&srpvid=b14010e61385012c&ucfs=1&from=searchresults&tpi_r=2#hotelTmpl'"
      ]
     },
     "execution_count": 34,
     "metadata": {},
     "output_type": "execute_result"
    }
   ],
   "source": [
    "url_raw = driver.find_elements_by_css_selector(\".sr_item_photo_link.sr_hotel_preview_track\")\n",
    "url_raw[0].get_attribute('href')"
   ]
  },
  {
   "cell_type": "code",
   "execution_count": 62,
   "metadata": {
    "scrolled": true
   },
   "outputs": [
    {
     "name": "stdout",
     "output_type": "stream",
     "text": [
      "25\n"
     ]
    },
    {
     "data": {
      "text/plain": [
       "[8.2,\n",
       " 7.8,\n",
       " 6.8,\n",
       " 7.1,\n",
       " 9.0,\n",
       " 9.4,\n",
       " 8.5,\n",
       " 8.7,\n",
       " 8.5,\n",
       " 9.0,\n",
       " 8.9,\n",
       " 9.0,\n",
       " 7.8,\n",
       " 7.7,\n",
       " 7.8,\n",
       " 8.3,\n",
       " 8.6,\n",
       " 7.8,\n",
       " 5.5,\n",
       " 8.0,\n",
       " 8.8,\n",
       " 8.2,\n",
       " 7.8,\n",
       " 6.7,\n",
       " 9.0]"
      ]
     },
     "execution_count": 62,
     "metadata": {},
     "output_type": "execute_result"
    }
   ],
   "source": [
    "# 별점 가져오기\n",
    "rating_raw = driver.find_elements_by_css_selector('.sr_item_review_block')\n",
    "rating_list = []\n",
    "for rating in rating_raw:\n",
    "    if '\\n' in rating.text:\n",
    "        rating = float(rating.text.split('\\n')[0])\n",
    "    else:\n",
    "        rating = float(rating.text)\n",
    "    rating_list.append(rating)\n",
    "    \n",
    "# rating_list = [ x for x in rating_list if not x =='']\n",
    "print(len(rating_list))\n",
    "rating_list"
   ]
  },
  {
   "cell_type": "code",
   "execution_count": 44,
   "metadata": {},
   "outputs": [
    {
     "name": "stdout",
     "output_type": "stream",
     "text": [
      "6.6\n",
      "이용 후기 평점\n",
      "13개 이용 후기\n",
      "새창에서 열기 \n",
      "\n",
      "8.2\n",
      "매우 좋음\n",
      "160개 이용 후기\n",
      "새창에서 열기 \n",
      "\n",
      "7.2\n",
      "좋음\n",
      "13개 이용 후기\n",
      "새창에서 열기 \n",
      "\n",
      "6.9\n",
      "이용 후기 평점\n",
      "9개 이용 후기\n",
      "새창에서 열기 \n",
      "\n",
      "9.8\n",
      "강력 추천\n",
      "155개 이용 후기\n",
      "새창에서 열기\n",
      "위치 9.6\n",
      "새창에서 열기 \n",
      "\n",
      "8.0\n",
      "매우 좋음\n",
      "159개 이용 후기\n",
      "새창에서 열기 \n",
      "\n",
      "8.4\n",
      "매우 좋음\n",
      "5개 이용 후기\n",
      "새창에서 열기\n",
      "위치 9.5\n",
      "새창에서 열기 \n",
      "\n",
      "6.6\n",
      "이용 후기 평점\n",
      "51개 이용 후기\n",
      "새창에서 열기 \n",
      "\n",
      "7.8\n",
      "좋음\n",
      "31개 이용 후기\n",
      "새창에서 열기 \n",
      "\n",
      "6.7\n",
      "이용 후기 평점\n",
      "10개 이용 후기\n",
      "새창에서 열기 \n",
      "\n",
      "8.1\n",
      "매우 좋음\n",
      "92개 이용 후기\n",
      "새창에서 열기 \n",
      "\n",
      "7.9\n",
      "좋음\n",
      "12개 이용 후기\n",
      "새창에서 열기 \n",
      "\n",
      "8.6\n",
      "우수함\n",
      "28개 이용 후기\n",
      "새창에서 열기 \n",
      "\n",
      "8.1\n",
      "매우 좋음\n",
      "20개 이용 후기\n",
      "새창에서 열기 \n",
      "\n",
      "9.4\n",
      "최고\n",
      "113개 이용 후기\n",
      "새창에서 열기 \n",
      "\n",
      " \n",
      "\n",
      "7.5\n",
      "좋음\n",
      "10개 이용 후기\n",
      "새창에서 열기 \n",
      "\n",
      "8.2\n",
      "매우 좋음\n",
      "142개 이용 후기\n",
      "새창에서 열기 \n",
      "\n",
      "9.0\n",
      "최고\n",
      "10개 이용 후기\n",
      "새창에서 열기 \n",
      "\n",
      "7.8\n",
      "좋음\n",
      "14개 이용 후기\n",
      "새창에서 열기 \n",
      "\n",
      "8.1\n",
      "매우 좋음\n",
      "7개 이용 후기\n",
      "새창에서 열기 \n",
      "\n",
      "7.6\n",
      "좋음\n",
      "12개 이용 후기\n",
      "새창에서 열기 \n",
      "\n",
      "6.6\n",
      "이용 후기 평점\n",
      "45개 이용 후기\n",
      "새창에서 열기 \n",
      "\n",
      "7.6\n",
      "좋음\n",
      "7개 이용 후기\n",
      "새창에서 열기 \n",
      "\n",
      "7.3\n",
      "좋음\n",
      "22개 이용 후기\n",
      "새창에서 열기 \n",
      "\n"
     ]
    }
   ],
   "source": [
    "rating_raw = driver.find_elements_by_css_selector('.sr_item_review_block')\n",
    "for i in rating_raw:    \n",
    "    print(i.text, '\\n')"
   ]
  },
  {
   "cell_type": "code",
   "execution_count": 51,
   "metadata": {
    "scrolled": true
   },
   "outputs": [
    {
     "name": "stdout",
     "output_type": "stream",
     "text": [
      "25\n"
     ]
    },
    {
     "data": {
      "text/plain": [
       "[54000,\n",
       " 23037,\n",
       " 60450,\n",
       " 138225,\n",
       " 20273,\n",
       " 46075,\n",
       " 35000,\n",
       " 53550,\n",
       " 40000,\n",
       " 49761,\n",
       " 44232,\n",
       " 82935,\n",
       " 25000,\n",
       " 35000,\n",
       " 25000,\n",
       " 65427,\n",
       " 50682,\n",
       " 49000,\n",
       " 72799,\n",
       " 58054,\n",
       " 103669,\n",
       " 50775,\n",
       " 35000,\n",
       " 50000,\n",
       " 23498]"
      ]
     },
     "execution_count": 51,
     "metadata": {},
     "output_type": "execute_result"
    }
   ],
   "source": [
    "# 가격 가져오기\n",
    "price_raw = driver.find_elements_by_css_selector('.roomPrice.sr_discount')\n",
    "price_list = []\n",
    "for price in price_raw:\n",
    "    if price.text.split('\\n') != ['']:\n",
    "        price = price.text.split('\\n')\n",
    "        price = int([ x for x in price if x != '1박, 성인 1명'][0].split(' ')[-1].replace('₩', '').replace(',', ''))\n",
    "        price_list.append(price)\n",
    "price_list = [x for x in price_list if not x ==''] # 리스트 안에 특정요소 제거하고 객체 저장\n",
    "print(len(price_list))\n",
    "price_list"
   ]
  },
  {
   "cell_type": "code",
   "execution_count": 46,
   "metadata": {
    "scrolled": false
   },
   "outputs": [
    {
     "name": "stdout",
     "output_type": "stream",
     "text": [
      "['1박, 성인 1명', '₩54,000', '요금 ₩54,000', '세금 및 기타 요금 포함', '예약 가능 옵션 보기', '새창에서 열기']\n",
      "['1박, 성인 1명', '₩25,000 ₩23,037', '기존 요금 ₩25,000 현재 요금 ₩23,037', '세금 및 기타 요금 포함', '예약 가능 옵션 보기', '새창에서 열기']\n",
      "['1박, 성인 1명', '₩80,108 ₩60,450', '기존 요금 ₩80,108 현재 요금 ₩60,450', '세금 및 기타 요금 포함', '예약 가능 옵션 보기', '새창에서 열기']\n",
      "['1박, 성인 1명', '₩150,000 ₩138,225', '기존 요금 ₩150,000 현재 요금 ₩138,225', '세금 및 기타 요금 포함', '예약 가능 옵션 보기', '새창에서 열기']\n",
      "['1박, 성인 1명', '₩22,000 ₩20,273', '기존 요금 ₩22,000 현재 요금 ₩20,273', '세금 및 기타 요금 포함', '예약 가능 옵션 보기', '새창에서 열기']\n",
      "['1박, 성인 1명', '₩50,000 ₩46,075', '기존 요금 ₩50,000 현재 요금 ₩46,075', '세금 및 기타 요금 포함', '예약 가능 옵션 보기', '새창에서 열기']\n",
      "['1박, 성인 1명', '₩35,000', '요금 ₩35,000', '세금 및 기타 요금 포함', '예약 가능 옵션 보기', '새창에서 열기']\n",
      "['1박, 성인 1명', '₩53,550', '요금 ₩53,550', '세금 및 기타 요금 포함', '예약 가능 옵션 보기', '새창에서 열기']\n",
      "['1박, 성인 1명', '₩40,000', '요금 ₩40,000', '세금 및 기타 요금 포함', '예약 가능 옵션 보기', '새창에서 열기']\n",
      "['1박, 성인 1명', '₩54,000 ₩49,761', '기존 요금 ₩54,000 현재 요금 ₩49,761', '세금 및 기타 요금 포함', '예약 가능 옵션 보기', '새창에서 열기']\n",
      "['1박, 성인 1명', '₩80,211 ₩44,232', '기존 요금 ₩80,211 현재 요금 ₩44,232', '세금 및 기타 요금 포함', '예약 가능 옵션 보기', '새창에서 열기']\n",
      "['1박, 성인 1명', '₩90,000 ₩82,935', '기존 요금 ₩90,000 현재 요금 ₩82,935', '세금 및 기타 요금 포함', '예약 가능 옵션 보기', '새창에서 열기']\n",
      "['1박, 성인 1명', '₩25,000', '요금 ₩25,000', '세금 및 기타 요금 포함', '예약 가능 옵션 보기', '새창에서 열기']\n",
      "['1박, 성인 1명', '₩35,000', '요금 ₩35,000', '세금 및 기타 요금 포함', '예약 가능 옵션 보기', '새창에서 열기']\n",
      "['1박, 성인 1명', '₩25,000', '요금 ₩25,000', '세금 및 기타 요금 포함', '예약 가능 옵션 보기', '새창에서 열기']\n",
      "['1박, 성인 1명', '₩71,000 ₩65,427', '기존 요금 ₩71,000 현재 요금 ₩65,427', '세금 및 기타 요금 포함', '예약 가능 옵션 보기', '새창에서 열기']\n",
      "['1박, 성인 1명', '₩55,000 ₩50,682', '기존 요금 ₩55,000 현재 요금 ₩50,682', '세금 및 기타 요금 포함', '예약 가능 옵션 보기', '새창에서 열기']\n",
      "['1박, 성인 1명', '₩49,000', '요금 ₩49,000', '세금 및 기타 요금 포함', '예약 가능 옵션 보기', '새창에서 열기']\n",
      "['1박, 성인 1명', '₩79,000 ₩72,799', '기존 요금 ₩79,000 현재 요금 ₩72,799', '세금 및 기타 요금 포함', '예약 가능 옵션 보기', '새창에서 열기']\n",
      "['1박, 성인 1명', '₩63,000 ₩58,054', '기존 요금 ₩63,000 현재 요금 ₩58,054', '세금 및 기타 요금 포함', '예약 가능 옵션 보기', '새창에서 열기']\n",
      "['1박, 성인 1명', '₩112,500 ₩103,669', '기존 요금 ₩112,500 현재 요금 ₩103,669', '세금 및 기타 요금 포함', '예약 가능 옵션 보기', '새창에서 열기']\n",
      "['']\n",
      "['₩50,775', '세금 및 기타 요금 포함', '무료취소']\n",
      "['1박, 성인 1명', '₩35,000', '요금 ₩35,000', '세금 및 기타 요금 포함', '예약 가능 옵션 보기', '새창에서 열기']\n",
      "['1박, 성인 1명', '₩50,000', '요금 ₩50,000', '세금 및 기타 요금 포함', '예약 가능 옵션 보기', '새창에서 열기']\n",
      "['1박, 성인 1명', '₩25,500 ₩23,498', '기존 요금 ₩25,500 현재 요금 ₩23,498', '세금 및 기타 요금 포함', '예약 가능 옵션 보기', '새창에서 열기']\n"
     ]
    }
   ],
   "source": [
    "price_raw = driver.find_elements_by_css_selector('.roomPrice.sr_discount')\n",
    "for i in price_raw:\n",
    "    print(i.text.split('\\n'))    "
   ]
  },
  {
   "cell_type": "code",
   "execution_count": null,
   "metadata": {},
   "outputs": [],
   "source": []
  },
  {
   "cell_type": "code",
   "execution_count": null,
   "metadata": {},
   "outputs": [],
   "source": []
  },
  {
   "cell_type": "code",
   "execution_count": 18,
   "metadata": {},
   "outputs": [
    {
     "name": "stdout",
     "output_type": "stream",
     "text": [
      "25\n"
     ]
    },
    {
     "data": {
      "text/plain": [
       "['Standard Ondol Room(Single use)',\n",
       " '한실 패밀리룸',\n",
       " '패밀리 스위트룸 한실 (온돌)',\n",
       " '디럭스 트윈룸',\n",
       " '수페리어 트윈룸',\n",
       " '패밀리룸',\n",
       " '객실 킹침대 1개, 도시 전망',\n",
       " '스테이케이션 혜택 스탠다드 트윈룸 14:00에 늦은 체크아웃',\n",
       " '스탠다드 트윈룸',\n",
       " '베이직 옵션',\n",
       " '수페리어 트윈룸 산 전망',\n",
       " '디럭스 더블룸 바다 전망',\n",
       " '디럭스 트윈룸',\n",
       " '마운틴 뷰 더블룸',\n",
       " '[리조트] 스튜디오 트윈 빌리지',\n",
       " '수페리어 트윈',\n",
       " '수페리어 트윈룸',\n",
       " '디럭스 트윈룸 산의 전망',\n",
       " '수페리어 더블룸 신관',\n",
       " '로얄룸',\n",
       " '스탠다드 더블룸',\n",
       " '수페리어 더블룸',\n",
       " '디럭스 더블룸 바다 전망',\n",
       " '수페리어 트윈룸 바다 전망',\n",
       " '체크인 시 객실 배정 주차 불가']"
      ]
     },
     "execution_count": 18,
     "metadata": {},
     "output_type": "execute_result"
    }
   ],
   "source": [
    "# 방 정보\n",
    "room_raw = driver.find_elements_by_css_selector(\".room_link\")\n",
    "room_list = []\n",
    "for room in room_raw:\n",
    "    room_list.append(room.text.split('\\n')[0].replace(' -','').strip()) #strip() - 문자열 데이터 양 옆에 빈공간 제거\n",
    "    \n",
    "room_list = [ x for x in room_list if not x =='']\n",
    "print(len(room_list))\n",
    "room_list"
   ]
  },
  {
   "cell_type": "code",
   "execution_count": null,
   "metadata": {},
   "outputs": [],
   "source": []
  },
  {
   "cell_type": "code",
   "execution_count": null,
   "metadata": {},
   "outputs": [],
   "source": []
  },
  {
   "cell_type": "code",
   "execution_count": null,
   "metadata": {},
   "outputs": [],
   "source": []
  },
  {
   "cell_type": "code",
   "execution_count": null,
   "metadata": {},
   "outputs": [],
   "source": []
  },
  {
   "cell_type": "code",
   "execution_count": null,
   "metadata": {},
   "outputs": [],
   "source": []
  },
  {
   "cell_type": "code",
   "execution_count": null,
   "metadata": {},
   "outputs": [],
   "source": []
  },
  {
   "cell_type": "code",
   "execution_count": null,
   "metadata": {},
   "outputs": [],
   "source": []
  },
  {
   "cell_type": "code",
   "execution_count": null,
   "metadata": {},
   "outputs": [],
   "source": []
  },
  {
   "cell_type": "code",
   "execution_count": null,
   "metadata": {},
   "outputs": [],
   "source": []
  },
  {
   "cell_type": "code",
   "execution_count": null,
   "metadata": {},
   "outputs": [],
   "source": []
  },
  {
   "cell_type": "code",
   "execution_count": null,
   "metadata": {},
   "outputs": [],
   "source": []
  },
  {
   "cell_type": "code",
   "execution_count": null,
   "metadata": {},
   "outputs": [],
   "source": []
  },
  {
   "cell_type": "code",
   "execution_count": null,
   "metadata": {},
   "outputs": [],
   "source": []
  },
  {
   "cell_type": "code",
   "execution_count": null,
   "metadata": {},
   "outputs": [],
   "source": []
  }
 ],
 "metadata": {
  "kernelspec": {
   "display_name": "Python 3",
   "language": "python",
   "name": "python3"
  },
  "language_info": {
   "codemirror_mode": {
    "name": "ipython",
    "version": 3
   },
   "file_extension": ".py",
   "mimetype": "text/x-python",
   "name": "python",
   "nbconvert_exporter": "python",
   "pygments_lexer": "ipython3",
   "version": "3.8.5"
  },
  "varInspector": {
   "cols": {
    "lenName": 16,
    "lenType": 16,
    "lenVar": 40
   },
   "kernels_config": {
    "python": {
     "delete_cmd_postfix": "",
     "delete_cmd_prefix": "del ",
     "library": "var_list.py",
     "varRefreshCmd": "print(var_dic_list())"
    },
    "r": {
     "delete_cmd_postfix": ") ",
     "delete_cmd_prefix": "rm(",
     "library": "var_list.r",
     "varRefreshCmd": "cat(var_dic_list()) "
    }
   },
   "types_to_exclude": [
    "module",
    "function",
    "builtin_function_or_method",
    "instance",
    "_Feature"
   ],
   "window_display": false
  }
 },
 "nbformat": 4,
 "nbformat_minor": 4
}
