{
 "cells": [
  {
   "cell_type": "code",
   "execution_count": 1,
   "metadata": {},
   "outputs": [
    {
     "data": {
      "text/plain": [
       "'C:\\\\Users\\\\13\\\\Desktop\\\\python\\\\crawling'"
      ]
     },
     "execution_count": 1,
     "metadata": {},
     "output_type": "execute_result"
    }
   ],
   "source": [
    "pwd"
   ]
  },
  {
   "cell_type": "code",
   "execution_count": 2,
   "metadata": {},
   "outputs": [],
   "source": [
    "import sys # 시스템\n",
    "import os  # 시스템\n",
    "\n",
    "import pandas as pd  # 판다스 : 데이터분석 라이브러리\n",
    "import numpy as np   # 넘파이 : 숫자, 행렬 데이터 라이브러리\n",
    "\n",
    "from bs4 import BeautifulSoup    # html 데이터를 전처리\n",
    "from selenium import webdriver   # 웹 브라우저 자동화\n",
    "import time    # 서버와 통신할 때 중간중간 시간 지연. 보통은 1초\n",
    "from tqdm import tqdm   # for문 돌릴 때 진행상황을 %게이지로 알려준다."
   ]
  },
  {
   "cell_type": "code",
   "execution_count": 12,
   "metadata": {},
   "outputs": [
    {
     "name": "stdout",
     "output_type": "stream",
     "text": [
      "무엇을 검색하시겠습니까 ? european super league\n"
     ]
    }
   ],
   "source": [
    "# 크롬창 열기\n",
    "driver = webdriver.Chrome(\".\\\\chromedriver.exe\")  # 윈도우는 \"chromedriver.exe\"\n",
    "url = \"https://www.youtube.com/\"\n",
    "driver.get(url)\n",
    "time.sleep(3)\n",
    "\n",
    "# 검색창 클릭\n",
    "searchelement = driver.find_element_by_id(\"search-form\")\n",
    "searchelement.click()\n",
    "\n",
    "# 검색어 입력\n",
    "keyword = input('무엇을 검색하시겠습니까 ? ',)\n",
    "keyword\n",
    "\n",
    "# 검색어 입력 후 검색\n",
    "driver.find_element_by_name(\"search_query\").send_keys(keyword)\n",
    "search = driver.find_element_by_id(\"search-icon-legacy\")\n",
    "search.click()"
   ]
  },
  {
   "cell_type": "code",
   "execution_count": 13,
   "metadata": {},
   "outputs": [],
   "source": [
    "# 필터 클릭\n",
    "driver.find_element_by_xpath('//*[@id=\"container\"]/ytd-toggle-button-renderer/a').click()\n",
    "\n",
    "\n",
    "# 필터링 광고창 넘어서 영상으로 이동\n",
    "# 필터링하면 광고있는 경우가 있음\n",
    "pageidx = 1\n",
    "for ad in range(5):\n",
    "    contents = driver.find_element_by_xpath('/html/body/ytd-app/div/ytd-page-manager/ytd-search/div[1]/ytd-two-column-search-results-renderer/div/ytd-section-list-renderer/div[2]/ytd-item-section-renderer['+str(pageidx)+']/div[3]')\n",
    "    renderer_list = contents.find_elements_by_tag_name(\"ytd-video-renderer\")\n",
    "    if len(renderer_list) < 2:\n",
    "        pageidx += 1\n",
    "    else:\n",
    "        break\n",
    "        \n",
    "\n",
    "# 조회수 정렬\n",
    "sort_search = driver.find_element_by_link_text(\"조회수\")\n",
    "sort_search.click()\n",
    "time.sleep(2)\n",
    "\n",
    "# 첫번째 영상 클릭\n",
    "top_video = driver.find_element_by_xpath('//*[@id=\"title-wrapper\"]/h3')\n",
    "top_video.click()"
   ]
  },
  {
   "cell_type": "code",
   "execution_count": 14,
   "metadata": {},
   "outputs": [],
   "source": [
    "# 영상 멈춤\n",
    "driver.find_element_by_xpath('//*[@id=\"movie_player\"]').click()\n",
    "time.sleep(2)\n",
    "\n",
    "# 스크롤 다운함수\n",
    "# 크롬창을 보고 있지 않을 때? 댓글 갯수가 적어지는 거 같음..\n",
    "# time.sleep을 너무 낮게 설정하면 댓글 로딩이 안됨\n",
    "def scroll_down(driver):\n",
    "    driver.execute_script(\"window.scrollTo(0, 19431049)\")\n",
    "    time.sleep(3)\n",
    "\n",
    "# n: 스크롤할 횟수 설정\n",
    "n = 10\n",
    "i = 0\n",
    "while i < n: # 이 조건이 만족되는 동안 반복 실행\n",
    "    scroll_down(driver) # 스크롤 다운\n",
    "    i = i+1"
   ]
  },
  {
   "cell_type": "code",
   "execution_count": null,
   "metadata": {},
   "outputs": [],
   "source": [
    "# 데이터 프레임으로 만들기\n",
    "result_df = pd.DataFrame(data = review_list)\n",
    "result_df\n",
    "# 엑셀로 저장하기\n",
    "result_df.to_excel(\"youtube_review.xlsx\", encoding='utf-8-sig')"
   ]
  },
  {
   "cell_type": "markdown",
   "metadata": {},
   "source": [
    "# 유튜브 댓글 크롤러"
   ]
  },
  {
   "cell_type": "code",
   "execution_count": null,
   "metadata": {},
   "outputs": [],
   "source": [
    "import sys # 시스템\n",
    "import os  # 시스템\n",
    "\n",
    "import pandas as pd  # 판다스 : 데이터분석 라이브러리\n",
    "import numpy as np   # 넘파이 : 숫자, 행렬 데이터 라이브러리\n",
    "\n",
    "from bs4 import BeautifulSoup    # html 데이터를 전처리\n",
    "from selenium import webdriver   # 웹 브라우저 자동화\n",
    "import time    # 서버와 통신할 때 중간중간 시간 지연. 보통은 1초\n",
    "from tqdm import tqdm   # for문 돌릴 때 진행상황을 %게이지로 알려준다."
   ]
  },
  {
   "cell_type": "code",
   "execution_count": 6,
   "metadata": {
    "scrolled": false
   },
   "outputs": [
    {
     "name": "stdout",
     "output_type": "stream",
     "text": [
      "무엇을 검색하시겠습니까 ? european super league\n"
     ]
    },
    {
     "name": "stderr",
     "output_type": "stream",
     "text": [
      "100%|████████████████████████████████████████████████████████████████████████████████| 200/200 [00:02<00:00, 77.23it/s]\n"
     ]
    },
    {
     "name": "stdout",
     "output_type": "stream",
     "text": [
      "200\n"
     ]
    }
   ],
   "source": [
    "# 크롬창 열기\n",
    "driver = webdriver.Chrome(\".\\\\chromedriver.exe\")  # 윈도우는 \"chromedriver.exe\"\n",
    "url = \"https://www.youtube.com/\"\n",
    "driver.get(url)\n",
    "time.sleep(3)\n",
    "\n",
    "# 검색창 클릭\n",
    "searchelement = driver.find_element_by_id(\"search-form\")\n",
    "searchelement.click()\n",
    "\n",
    "# 검색어 입력\n",
    "keyword = input('무엇을 검색하시겠습니까 ? ',)\n",
    "keyword\n",
    "\n",
    "# 검색어 입력 후 검색\n",
    "driver.find_element_by_name(\"search_query\").send_keys(keyword)\n",
    "search = driver.find_element_by_id(\"search-icon-legacy\")\n",
    "search.click()\n",
    "time.sleep(2)\n",
    "\n",
    "# 필터 클릭\n",
    "driver.find_element_by_xpath('//*[@id=\"container\"]/ytd-toggle-button-renderer/a').click()\n",
    "\n",
    "\n",
    "# 필터링 광고창 넘어서 영상으로 이동\n",
    "# 필터링하면 광고있는 경우가 있음\n",
    "pageidx = 1\n",
    "for ad in range(5):\n",
    "    contents = driver.find_element_by_xpath('/html/body/ytd-app/div/ytd-page-manager/ytd-search/div[1]/ytd-two-column-search-results-renderer/div/ytd-section-list-renderer/div[2]/ytd-item-section-renderer['+str(pageidx)+']/div[3]')\n",
    "    renderer_list = contents.find_elements_by_tag_name(\"ytd-video-renderer\")\n",
    "    if len(renderer_list) < 2:\n",
    "        pageidx += 1\n",
    "    else:\n",
    "        break\n",
    "        \n",
    "time.sleep(2)\n",
    "# 조회수 정렬\n",
    "sort_search = driver.find_element_by_link_text(\"조회수\")\n",
    "sort_search.click()\n",
    "time.sleep(2)\n",
    "\n",
    "# 첫번째 영상 클릭\n",
    "top_video = driver.find_element_by_xpath('//*[@id=\"title-wrapper\"]/h3')\n",
    "top_video.click()\n",
    "time.sleep(2)\n",
    "\n",
    "# 영상 멈춤\n",
    "driver.find_element_by_xpath('//*[@id=\"movie_player\"]').click()\n",
    "time.sleep(2)\n",
    "\n",
    "# 스크롤 다운함수\n",
    "# time.sleep을 너무 낮게 설정하면 댓글을 읽지 못하는 현상\n",
    "def scroll_down(driver):\n",
    "    driver.execute_script(\"window.scrollTo(0, 19431049)\")\n",
    "    time.sleep(3)\n",
    "\n",
    "# n: 스크롤할 횟수 설정\n",
    "n = 10\n",
    "i = 0\n",
    "while i < n: # 이 조건이 만족되는 동안 반복 실행\n",
    "    scroll_down(driver) # 스크롤 다운\n",
    "    i = i+1\n",
    "\n",
    "    \n",
    "review_list = []\n",
    "\n",
    "overlays1 = '//*[@id=\"content-text\"]'\n",
    "reviews = driver.find_elements_by_xpath(overlays1)\n",
    "\n",
    "for review in tqdm(reviews):    \n",
    "    review = review.text\n",
    "    review_list.append(review)\n",
    "\n",
    "print(len(review_list))\n",
    "review_list\n",
    "\n",
    "# 데이터 프레임으로 만들기\n",
    "result_df = pd.DataFrame(data = review_list)\n",
    "\n",
    "# 엑셀로 저장하기\n",
    "result_df.to_excel(\"youtube_review.xlsx\", encoding='utf-8-sig')"
   ]
  },
  {
   "cell_type": "code",
   "execution_count": 7,
   "metadata": {},
   "outputs": [
    {
     "data": {
      "text/html": [
       "<div>\n",
       "<style scoped>\n",
       "    .dataframe tbody tr th:only-of-type {\n",
       "        vertical-align: middle;\n",
       "    }\n",
       "\n",
       "    .dataframe tbody tr th {\n",
       "        vertical-align: top;\n",
       "    }\n",
       "\n",
       "    .dataframe thead th {\n",
       "        text-align: right;\n",
       "    }\n",
       "</style>\n",
       "<table border=\"1\" class=\"dataframe\">\n",
       "  <thead>\n",
       "    <tr style=\"text-align: right;\">\n",
       "      <th></th>\n",
       "      <th>0</th>\n",
       "    </tr>\n",
       "  </thead>\n",
       "  <tbody>\n",
       "    <tr>\n",
       "      <th>0</th>\n",
       "      <td>Gary Neville absolute HERO</td>\n",
       "    </tr>\n",
       "    <tr>\n",
       "      <th>1</th>\n",
       "      <td>Everywhere and Everything is mess ! 🤧 😷 🤒 🤕</td>\n",
       "    </tr>\n",
       "    <tr>\n",
       "      <th>2</th>\n",
       "      <td>This will go down as one of the greatest speec...</td>\n",
       "    </tr>\n",
       "    <tr>\n",
       "      <th>3</th>\n",
       "      <td>Thanks to Gary's fast and emotionally catching...</td>\n",
       "    </tr>\n",
       "    <tr>\n",
       "      <th>4</th>\n",
       "      <td>Lads, this is ICONIC! This speech rallied the ...</td>\n",
       "    </tr>\n",
       "    <tr>\n",
       "      <th>...</th>\n",
       "      <td>...</td>\n",
       "    </tr>\n",
       "    <tr>\n",
       "      <th>195</th>\n",
       "      <td>This man is not ever afraid of speaking out. \\...</td>\n",
       "    </tr>\n",
       "    <tr>\n",
       "      <th>196</th>\n",
       "      <td>Never a fan of Gary Neville, but I’m proud of ...</td>\n",
       "    </tr>\n",
       "    <tr>\n",
       "      <th>197</th>\n",
       "      <td>\"Tottenham I'm not really that bothered about....</td>\n",
       "    </tr>\n",
       "    <tr>\n",
       "      <th>198</th>\n",
       "      <td>This is the man that should be running footbal...</td>\n",
       "    </tr>\n",
       "    <tr>\n",
       "      <th>199</th>\n",
       "      <td>Love it...... Fine them, relegate them, give B...</td>\n",
       "    </tr>\n",
       "  </tbody>\n",
       "</table>\n",
       "<p>200 rows × 1 columns</p>\n",
       "</div>"
      ],
      "text/plain": [
       "                                                     0\n",
       "0                           Gary Neville absolute HERO\n",
       "1          Everywhere and Everything is mess ! 🤧 😷 🤒 🤕\n",
       "2    This will go down as one of the greatest speec...\n",
       "3    Thanks to Gary's fast and emotionally catching...\n",
       "4    Lads, this is ICONIC! This speech rallied the ...\n",
       "..                                                 ...\n",
       "195  This man is not ever afraid of speaking out. \\...\n",
       "196  Never a fan of Gary Neville, but I’m proud of ...\n",
       "197  \"Tottenham I'm not really that bothered about....\n",
       "198  This is the man that should be running footbal...\n",
       "199  Love it...... Fine them, relegate them, give B...\n",
       "\n",
       "[200 rows x 1 columns]"
      ]
     },
     "execution_count": 7,
     "metadata": {},
     "output_type": "execute_result"
    }
   ],
   "source": [
    "result_df"
   ]
  }
 ],
 "metadata": {
  "kernelspec": {
   "display_name": "Python 3",
   "language": "python",
   "name": "python3"
  },
  "language_info": {
   "codemirror_mode": {
    "name": "ipython",
    "version": 3
   },
   "file_extension": ".py",
   "mimetype": "text/x-python",
   "name": "python",
   "nbconvert_exporter": "python",
   "pygments_lexer": "ipython3",
   "version": "3.8.5"
  }
 },
 "nbformat": 4,
 "nbformat_minor": 4
}
