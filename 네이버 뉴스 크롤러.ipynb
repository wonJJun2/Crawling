{
 "cells": [
  {
   "cell_type": "code",
   "execution_count": 1,
   "metadata": {},
   "outputs": [
    {
     "data": {
      "text/plain": [
       "'C:\\\\Users\\\\2\\\\Desktop\\\\python\\\\crawling\\\\news'"
      ]
     },
     "execution_count": 1,
     "metadata": {},
     "output_type": "execute_result"
    }
   ],
   "source": [
    "pwd"
   ]
  },
  {
   "cell_type": "code",
   "execution_count": 2,
   "metadata": {},
   "outputs": [],
   "source": [
    "# 라이브러리 import\n",
    "import pandas as pd\n",
    "import numpy as np\n",
    "\n",
    "from selenium import webdriver                        # 라이브러리(모듈) 가져오라\n",
    "from selenium.webdriver import ActionChains as AC    # 웹브라우저 동작 \n",
    "from tqdm import tqdm\n",
    "from tqdm.notebook import tqdm\n",
    "import re\n",
    "from time import sleep\n",
    "import time"
   ]
  },
  {
   "cell_type": "code",
   "execution_count": 3,
   "metadata": {},
   "outputs": [
    {
     "data": {
      "text/plain": [
       "'LH'"
      ]
     },
     "execution_count": 3,
     "metadata": {},
     "output_type": "execute_result"
    }
   ],
   "source": [
    "# 데이터 수집할 키워드 지정\n",
    "# 사람들이 액션이 많은 것을 수집하는 것이 좋다. 데이터가 많기 때문에\n",
    "keyword = \"LH\"\n",
    "keyword"
   ]
  },
  {
   "cell_type": "markdown",
   "metadata": {},
   "source": [
    "# 네이버뉴스들 url 수집"
   ]
  },
  {
   "cell_type": "code",
   "execution_count": 14,
   "metadata": {},
   "outputs": [],
   "source": [
    "# 크롬창 띄우기\n",
    "driver = webdriver.Chrome(\"C:\\\\Users\\\\2\\\\Desktop\\\\python\\\\crawling/chromedriver\")  # 맥 : /Users/aiden/Desktop/chromedriver\n",
    "driver.get(\"https://search.naver.com/search.naver?where=news&sm=tab_jum&query={}\".format(keyword)) # driver.get - url 가져오기\n",
    "# 문자열 포메팅을 통해 뉴스 검색어 안에 키워드를 입력\n",
    "#https://search.naver.com/search.naver?where=news&sm=tab_jum&query={}\".format(keyword) {}자리에 keyword가 들어감\n",
    "time.sleep(3)"
   ]
  },
  {
   "cell_type": "code",
   "execution_count": 15,
   "metadata": {},
   "outputs": [
    {
     "name": "stdout",
     "output_type": "stream",
     "text": [
      "10\n"
     ]
    },
    {
     "data": {
      "text/plain": [
       "['https://news.naver.com/main/read.nhn?mode=LSD&mid=sec&sid1=101&oid=366&aid=0000710250',\n",
       " 'https://news.naver.com/main/read.nhn?mode=LSD&mid=sec&sid1=101&oid=020&aid=0003354573',\n",
       " 'https://news.naver.com/main/read.nhn?mode=LSD&mid=sec&sid1=101&oid=016&aid=0001829091',\n",
       " 'https://news.naver.com/main/read.nhn?mode=LSD&mid=sec&sid1=100&oid=448&aid=0000326712',\n",
       " 'https://news.naver.com/main/read.nhn?mode=LSD&mid=sec&sid1=101&oid=001&aid=0012362203',\n",
       " 'https://news.naver.com/main/read.nhn?mode=LSD&mid=sec&sid1=101&oid=018&aid=0004915204',\n",
       " 'https://news.naver.com/main/read.nhn?mode=LSD&mid=sec&sid1=101&oid=081&aid=0003182862',\n",
       " 'https://news.naver.com/main/read.nhn?mode=LSD&mid=sec&sid1=100&oid=001&aid=0012363854',\n",
       " 'https://news.naver.com/main/read.nhn?mode=LSD&mid=sec&sid1=101&oid=008&aid=0004580323',\n",
       " 'https://news.naver.com/main/read.nhn?mode=LSD&mid=sec&sid1=101&oid=015&aid=0004538643']"
      ]
     },
     "execution_count": 15,
     "metadata": {},
     "output_type": "execute_result"
    }
   ],
   "source": [
    "# 메인(1page 당 10개씩) 네이버뉴스 리스트\n",
    "url_list1=[]\n",
    "\n",
    "# page1에서 \"LH\" 네이버뉴스 url 수집하기\n",
    "overlays1 = \"a.info\"\n",
    "things = driver.find_elements_by_css_selector(overlays1)    # 사진 선택\n",
    "\n",
    "for thing in things:\n",
    "    url = thing.get_attribute('href')\n",
    "    url_list1.append(url)\n",
    "\n",
    "url_list1 = [x for x in url_list1 if 'naver.com' in x]\n",
    "print(len(url_list1))\n",
    "url_list1"
   ]
  },
  {
   "cell_type": "code",
   "execution_count": 16,
   "metadata": {},
   "outputs": [
    {
     "name": "stdout",
     "output_type": "stream",
     "text": [
      "20\n"
     ]
    },
    {
     "data": {
      "text/plain": [
       "['https://news.naver.com/main/read.nhn?mode=LSD&mid=sec&sid1=101&oid=417&aid=0000688348',\n",
       " 'https://news.naver.com/main/read.nhn?mode=LSD&mid=sec&sid1=102&oid=003&aid=0010475144',\n",
       " 'https://news.naver.com/main/read.nhn?mode=LSD&mid=sec&sid1=101&oid=001&aid=0012364296',\n",
       " 'https://news.naver.com/main/read.nhn?mode=LSD&mid=sec&sid1=101&oid=009&aid=0004787260',\n",
       " 'https://news.naver.com/main/read.nhn?mode=LSD&mid=sec&sid1=101&oid=079&aid=0003498752',\n",
       " 'https://news.naver.com/main/read.nhn?mode=LSD&mid=sec&sid1=101&oid=421&aid=0005322940',\n",
       " 'https://news.naver.com/main/read.nhn?mode=LSD&mid=sec&sid1=101&oid=018&aid=0004916775',\n",
       " 'https://news.naver.com/main/read.nhn?mode=LSD&mid=sec&sid1=101&oid=014&aid=0004630698',\n",
       " 'https://news.naver.com/main/read.nhn?mode=LSD&mid=sec&sid1=101&oid=022&aid=0003576252',\n",
       " 'https://news.naver.com/main/read.nhn?mode=LSD&mid=sec&sid1=101&oid=082&aid=0001087121',\n",
       " 'https://news.naver.com/main/read.nhn?mode=LSD&mid=sec&sid1=101&oid=001&aid=0012361866',\n",
       " 'https://news.naver.com/main/read.nhn?mode=LSD&mid=sec&sid1=101&oid=055&aid=0000890933',\n",
       " 'https://news.naver.com/main/read.nhn?mode=LSD&mid=sec&sid1=101&oid=011&aid=0003904088',\n",
       " 'https://news.naver.com/main/read.nhn?mode=LSD&mid=sec&sid1=101&oid=047&aid=0002311022',\n",
       " 'https://news.naver.com/main/read.nhn?mode=LSD&mid=sec&sid1=101&oid=366&aid=0000709573',\n",
       " 'https://news.naver.com/main/read.nhn?mode=LSD&mid=sec&sid1=101&oid=417&aid=0000687823',\n",
       " 'https://news.naver.com/main/read.nhn?mode=LSD&mid=sec&sid1=101&oid=629&aid=0000080319',\n",
       " 'https://news.naver.com/main/read.nhn?mode=LSD&mid=sec&sid1=101&oid=029&aid=0002670781',\n",
       " 'https://news.naver.com/main/read.nhn?mode=LSD&mid=sec&sid1=101&oid=421&aid=0005321428',\n",
       " 'https://news.naver.com/main/read.nhn?mode=LSD&mid=sec&sid1=101&oid=018&aid=0004915721']"
      ]
     },
     "execution_count": 16,
     "metadata": {},
     "output_type": "execute_result"
    }
   ],
   "source": [
    "# 서브 네이버뉴스 리스트\n",
    "url_list2=[]\n",
    "\n",
    "# page1에서 \"LH\" 네이버뉴스 url 수집하기\n",
    "overlays2 = \"a.sub_txt\"\n",
    "things = driver.find_elements_by_css_selector(overlays2)    # 사진 선택\n",
    "\n",
    "for thing in things:\n",
    "    url = thing.get_attribute('href')\n",
    "    url_list2.append(url)\n",
    "\n",
    "print(len(url_list2))\n",
    "url_list2"
   ]
  },
  {
   "cell_type": "code",
   "execution_count": 17,
   "metadata": {},
   "outputs": [
    {
     "name": "stdout",
     "output_type": "stream",
     "text": [
      "30\n"
     ]
    },
    {
     "data": {
      "text/plain": [
       "['https://news.naver.com/main/read.nhn?mode=LSD&mid=sec&sid1=101&oid=366&aid=0000710250',\n",
       " 'https://news.naver.com/main/read.nhn?mode=LSD&mid=sec&sid1=101&oid=020&aid=0003354573',\n",
       " 'https://news.naver.com/main/read.nhn?mode=LSD&mid=sec&sid1=101&oid=016&aid=0001829091',\n",
       " 'https://news.naver.com/main/read.nhn?mode=LSD&mid=sec&sid1=100&oid=448&aid=0000326712',\n",
       " 'https://news.naver.com/main/read.nhn?mode=LSD&mid=sec&sid1=101&oid=001&aid=0012362203',\n",
       " 'https://news.naver.com/main/read.nhn?mode=LSD&mid=sec&sid1=101&oid=018&aid=0004915204',\n",
       " 'https://news.naver.com/main/read.nhn?mode=LSD&mid=sec&sid1=101&oid=081&aid=0003182862',\n",
       " 'https://news.naver.com/main/read.nhn?mode=LSD&mid=sec&sid1=100&oid=001&aid=0012363854',\n",
       " 'https://news.naver.com/main/read.nhn?mode=LSD&mid=sec&sid1=101&oid=008&aid=0004580323',\n",
       " 'https://news.naver.com/main/read.nhn?mode=LSD&mid=sec&sid1=101&oid=015&aid=0004538643',\n",
       " 'https://news.naver.com/main/read.nhn?mode=LSD&mid=sec&sid1=101&oid=417&aid=0000688348',\n",
       " 'https://news.naver.com/main/read.nhn?mode=LSD&mid=sec&sid1=102&oid=003&aid=0010475144',\n",
       " 'https://news.naver.com/main/read.nhn?mode=LSD&mid=sec&sid1=101&oid=001&aid=0012364296',\n",
       " 'https://news.naver.com/main/read.nhn?mode=LSD&mid=sec&sid1=101&oid=009&aid=0004787260',\n",
       " 'https://news.naver.com/main/read.nhn?mode=LSD&mid=sec&sid1=101&oid=079&aid=0003498752',\n",
       " 'https://news.naver.com/main/read.nhn?mode=LSD&mid=sec&sid1=101&oid=421&aid=0005322940',\n",
       " 'https://news.naver.com/main/read.nhn?mode=LSD&mid=sec&sid1=101&oid=018&aid=0004916775',\n",
       " 'https://news.naver.com/main/read.nhn?mode=LSD&mid=sec&sid1=101&oid=014&aid=0004630698',\n",
       " 'https://news.naver.com/main/read.nhn?mode=LSD&mid=sec&sid1=101&oid=022&aid=0003576252',\n",
       " 'https://news.naver.com/main/read.nhn?mode=LSD&mid=sec&sid1=101&oid=082&aid=0001087121',\n",
       " 'https://news.naver.com/main/read.nhn?mode=LSD&mid=sec&sid1=101&oid=001&aid=0012361866',\n",
       " 'https://news.naver.com/main/read.nhn?mode=LSD&mid=sec&sid1=101&oid=055&aid=0000890933',\n",
       " 'https://news.naver.com/main/read.nhn?mode=LSD&mid=sec&sid1=101&oid=011&aid=0003904088',\n",
       " 'https://news.naver.com/main/read.nhn?mode=LSD&mid=sec&sid1=101&oid=047&aid=0002311022',\n",
       " 'https://news.naver.com/main/read.nhn?mode=LSD&mid=sec&sid1=101&oid=366&aid=0000709573',\n",
       " 'https://news.naver.com/main/read.nhn?mode=LSD&mid=sec&sid1=101&oid=417&aid=0000687823',\n",
       " 'https://news.naver.com/main/read.nhn?mode=LSD&mid=sec&sid1=101&oid=629&aid=0000080319',\n",
       " 'https://news.naver.com/main/read.nhn?mode=LSD&mid=sec&sid1=101&oid=029&aid=0002670781',\n",
       " 'https://news.naver.com/main/read.nhn?mode=LSD&mid=sec&sid1=101&oid=421&aid=0005321428',\n",
       " 'https://news.naver.com/main/read.nhn?mode=LSD&mid=sec&sid1=101&oid=018&aid=0004915721']"
      ]
     },
     "execution_count": 17,
     "metadata": {},
     "output_type": "execute_result"
    }
   ],
   "source": [
    "url_list = url_list1 + url_list2\n",
    "\n",
    "print(len(url_list))\n",
    "url_list"
   ]
  },
  {
   "cell_type": "code",
   "execution_count": 18,
   "metadata": {},
   "outputs": [
    {
     "data": {
      "text/plain": [
       "30"
      ]
     },
     "execution_count": 18,
     "metadata": {},
     "output_type": "execute_result"
    }
   ],
   "source": [
    "len(set(url_list))"
   ]
  },
  {
   "cell_type": "code",
   "execution_count": 19,
   "metadata": {
    "scrolled": true
   },
   "outputs": [],
   "source": [
    "df = pd.DataFrame({\"url\":url_list})\n",
    "df.to_csv('navernews_urls.csv')"
   ]
  },
  {
   "cell_type": "markdown",
   "metadata": {},
   "source": [
    "# 뉴스 별 댓글 수집"
   ]
  },
  {
   "cell_type": "code",
   "execution_count": 20,
   "metadata": {
    "scrolled": true
   },
   "outputs": [
    {
     "data": {
      "text/plain": [
       "0     https://news.naver.com/main/read.nhn?mode=LSD&...\n",
       "1     https://news.naver.com/main/read.nhn?mode=LSD&...\n",
       "2     https://news.naver.com/main/read.nhn?mode=LSD&...\n",
       "3     https://news.naver.com/main/read.nhn?mode=LSD&...\n",
       "4     https://news.naver.com/main/read.nhn?mode=LSD&...\n",
       "5     https://news.naver.com/main/read.nhn?mode=LSD&...\n",
       "6     https://news.naver.com/main/read.nhn?mode=LSD&...\n",
       "7     https://news.naver.com/main/read.nhn?mode=LSD&...\n",
       "8     https://news.naver.com/main/read.nhn?mode=LSD&...\n",
       "9     https://news.naver.com/main/read.nhn?mode=LSD&...\n",
       "10    https://news.naver.com/main/read.nhn?mode=LSD&...\n",
       "11    https://news.naver.com/main/read.nhn?mode=LSD&...\n",
       "12    https://news.naver.com/main/read.nhn?mode=LSD&...\n",
       "13    https://news.naver.com/main/read.nhn?mode=LSD&...\n",
       "14    https://news.naver.com/main/read.nhn?mode=LSD&...\n",
       "15    https://news.naver.com/main/read.nhn?mode=LSD&...\n",
       "16    https://news.naver.com/main/read.nhn?mode=LSD&...\n",
       "17    https://news.naver.com/main/read.nhn?mode=LSD&...\n",
       "18    https://news.naver.com/main/read.nhn?mode=LSD&...\n",
       "19    https://news.naver.com/main/read.nhn?mode=LSD&...\n",
       "20    https://news.naver.com/main/read.nhn?mode=LSD&...\n",
       "21    https://news.naver.com/main/read.nhn?mode=LSD&...\n",
       "22    https://news.naver.com/main/read.nhn?mode=LSD&...\n",
       "23    https://news.naver.com/main/read.nhn?mode=LSD&...\n",
       "24    https://news.naver.com/main/read.nhn?mode=LSD&...\n",
       "25    https://news.naver.com/main/read.nhn?mode=LSD&...\n",
       "26    https://news.naver.com/main/read.nhn?mode=LSD&...\n",
       "27    https://news.naver.com/main/read.nhn?mode=LSD&...\n",
       "28    https://news.naver.com/main/read.nhn?mode=LSD&...\n",
       "29    https://news.naver.com/main/read.nhn?mode=LSD&...\n",
       "Name: url, dtype: object"
      ]
     },
     "execution_count": 20,
     "metadata": {},
     "output_type": "execute_result"
    }
   ],
   "source": [
    "# 저장해둔 url 불러오기\n",
    "df = pd.read_csv('navernews_urls.csv')\n",
    "df['url']"
   ]
  },
  {
   "cell_type": "code",
   "execution_count": 21,
   "metadata": {},
   "outputs": [
    {
     "data": {
      "text/plain": [
       "30"
      ]
     },
     "execution_count": 21,
     "metadata": {},
     "output_type": "execute_result"
    }
   ],
   "source": [
    "len(df['url'])"
   ]
  },
  {
   "cell_type": "code",
   "execution_count": 23,
   "metadata": {},
   "outputs": [],
   "source": [
    "# 뉴스 크롬창 띄우기\n",
    "driver = webdriver.Chrome(\"C:\\\\Users\\\\2\\\\Desktop\\\\python\\\\crawling/chromedriver\")  # 맥 : /Users/aiden/Desktop/chromedriver\n",
    "driver.get(df['url'][0])"
   ]
  },
  {
   "cell_type": "markdown",
   "metadata": {},
   "source": [
    "## 기사 제목,날짜,추천수 수집"
   ]
  },
  {
   "cell_type": "code",
   "execution_count": 24,
   "metadata": {},
   "outputs": [
    {
     "name": "stdout",
     "output_type": "stream",
     "text": [
      "LH, 염호열 신임 상임감사위원 임명\n",
      "2021.04.30. 오전 9:04\n",
      "\n"
     ]
    }
   ],
   "source": [
    "# 기사 제목\n",
    "title = driver.find_element_by_css_selector('.tts_head')\n",
    "title = title.text\n",
    "print(title)\n",
    "\n",
    "# 기사 날짜\n",
    "date = driver.find_element_by_css_selector('.t11')\n",
    "date = date.text\n",
    "print(date)\n",
    "\n",
    "# 기사 추천수 날짜\n",
    "up = driver.find_element_by_css_selector('.u_cnt._count')\n",
    "up = up.text\n",
    "print(up)\n"
   ]
  },
  {
   "cell_type": "markdown",
   "metadata": {},
   "source": [
    "## 기사감정 수집(좋아요, 훈훈해요, 슬퍼요, 화나요)"
   ]
  },
  {
   "cell_type": "code",
   "execution_count": 25,
   "metadata": {},
   "outputs": [
    {
     "name": "stdout",
     "output_type": "stream",
     "text": [
      "0\n",
      "0\n",
      "0\n",
      "2\n",
      "0\n"
     ]
    }
   ],
   "source": [
    "# 좋아요\n",
    "like = driver.find_element_by_css_selector(\".end_btn .u_likeit_list.good .u_likeit_list_count._count\")\n",
    "like = like.text\n",
    "print(like)\n",
    "\n",
    "# 훈훈해요\n",
    "warm = driver.find_element_by_css_selector(\".end_btn .u_likeit_list.warm .u_likeit_list_count._count\")\n",
    "warm = warm.text\n",
    "print(warm)\n",
    "\n",
    "# 슬퍼요\n",
    "sad = driver.find_element_by_css_selector(\".end_btn .u_likeit_list.sad .u_likeit_list_count._count\")\n",
    "sad = sad.text\n",
    "print(sad)\n",
    "\n",
    "# 화나요\n",
    "angry = driver.find_element_by_css_selector(\".end_btn .u_likeit_list.angry .u_likeit_list_count._count\")\n",
    "angry = angry.text\n",
    "print(angry)\n",
    "\n",
    "# 후속기사 원해요\n",
    "want = driver.find_element_by_css_selector(\".end_btn .u_likeit_list.want .u_likeit_list_count._count\")\n",
    "want = want.text\n",
    "print(want)"
   ]
  },
  {
   "cell_type": "markdown",
   "metadata": {},
   "source": [
    "## 댓글 수집"
   ]
  },
  {
   "cell_type": "code",
   "execution_count": 26,
   "metadata": {
    "scrolled": true
   },
   "outputs": [
    {
     "data": {
      "text/plain": [
       "0"
      ]
     },
     "execution_count": 26,
     "metadata": {},
     "output_type": "execute_result"
    }
   ],
   "source": [
    "# 기사 댓글 갯수 \n",
    "review_count = driver.find_element_by_css_selector(\".u_cbox_count\").text\n",
    "review_count = int(review_count.replace(',', ''))\n",
    "review_count"
   ]
  },
  {
   "cell_type": "code",
   "execution_count": 27,
   "metadata": {},
   "outputs": [
    {
     "data": {
      "text/plain": [
       "0"
      ]
     },
     "execution_count": 27,
     "metadata": {},
     "output_type": "execute_result"
    }
   ],
   "source": [
    "# 더보기 클릭 횟수\n",
    "moreview_num = review_count//20\n",
    "moreview_num"
   ]
  },
  {
   "cell_type": "code",
   "execution_count": 28,
   "metadata": {},
   "outputs": [],
   "source": [
    "# 댓글 버튼 클릭\n",
    "driver.find_element_by_css_selector(\".lo_txt\").click()\n",
    "time.sleep(1)"
   ]
  },
  {
   "cell_type": "code",
   "execution_count": 29,
   "metadata": {},
   "outputs": [],
   "source": [
    "# 더보기 버튼 여러번 클릭하기\n",
    "k=0\n",
    "while k <= moreview_num:  # 더보기 횟수만큼 반복 \n",
    "    try:\n",
    "        driver.find_element_by_css_selector(\".u_cbox_page_more\").click()  # 더보기 버튼 클릭\n",
    "        time.sleep(1)\n",
    "        k = k+1\n",
    "    except:        \n",
    "        break   # 에러나면 클릭 반복문을 빠져나가라"
   ]
  },
  {
   "cell_type": "code",
   "execution_count": 30,
   "metadata": {},
   "outputs": [
    {
     "data": {
      "application/vnd.jupyter.widget-view+json": {
       "model_id": "9fd2ac1b7d194a03889b1490466606aa",
       "version_major": 2,
       "version_minor": 0
      },
      "text/plain": [
       "HBox(children=(HTML(value=''), FloatProgress(value=1.0, bar_style='info', layout=Layout(width='20px'), max=1.0…"
      ]
     },
     "metadata": {},
     "output_type": "display_data"
    },
    {
     "name": "stdout",
     "output_type": "stream",
     "text": [
      "\n",
      "0\n"
     ]
    },
    {
     "data": {
      "text/plain": [
       "[]"
      ]
     },
     "execution_count": 30,
     "metadata": {},
     "output_type": "execute_result"
    }
   ],
   "source": [
    "# review 수집하기\n",
    "review_list = []\n",
    "\n",
    "overlays1 = \".u_cbox_text_wrap\"\n",
    "reviews = driver.find_elements_by_css_selector(overlays1)\n",
    "\n",
    "for review in tqdm(reviews):    \n",
    "    review = review.text\n",
    "    review_list.append(review)\n",
    "\n",
    "print(len(review_list))\n",
    "review_list"
   ]
  },
  {
   "cell_type": "code",
   "execution_count": 31,
   "metadata": {},
   "outputs": [
    {
     "data": {
      "text/plain": [
       "{'기사명': 'LH, 염호열 신임 상임감사위원 임명',\n",
       " '날짜': '2021.04.30. 오전 9:04',\n",
       " '추천수': '',\n",
       " '댓글': [],\n",
       " '좋아요': '0',\n",
       " '훈훈해요': '0',\n",
       " '슬퍼요': '0',\n",
       " '화나요': '2',\n",
       " '후속기사 원해요': '0'}"
      ]
     },
     "execution_count": 31,
     "metadata": {},
     "output_type": "execute_result"
    }
   ],
   "source": [
    "target_info = {}\n",
    "\n",
    "target_info['기사명'] = title\n",
    "target_info['날짜'] = date\n",
    "target_info['추천수'] = up\n",
    "target_info['댓글'] = review_list\n",
    "target_info['좋아요'] = like\n",
    "target_info['훈훈해요'] = warm\n",
    "target_info['슬퍼요'] = sad\n",
    "target_info['화나요'] = angry\n",
    "target_info['후속기사 원해요'] = want\n",
    "            \n",
    "target_info"
   ]
  },
  {
   "cell_type": "markdown",
   "metadata": {},
   "source": [
    "## 전체 기사 for문으로 데이터 수집하기"
   ]
  },
  {
   "cell_type": "code",
   "execution_count": 32,
   "metadata": {},
   "outputs": [
    {
     "data": {
      "text/plain": [
       "30"
      ]
     },
     "execution_count": 32,
     "metadata": {},
     "output_type": "execute_result"
    }
   ],
   "source": [
    "len(df['url'])"
   ]
  },
  {
   "cell_type": "code",
   "execution_count": 36,
   "metadata": {
    "scrolled": true
   },
   "outputs": [
    {
     "data": {
      "application/vnd.jupyter.widget-view+json": {
       "model_id": "2a0865d4d8004c63abee954b0453dbea",
       "version_major": 2,
       "version_minor": 0
      },
      "text/plain": [
       "HBox(children=(HTML(value=''), FloatProgress(value=0.0, max=30.0), HTML(value='')))"
      ]
     },
     "metadata": {},
     "output_type": "display_data"
    },
    {
     "data": {
      "application/vnd.jupyter.widget-view+json": {
       "model_id": "42c2afe0577742d3a2f5259248499e5d",
       "version_major": 2,
       "version_minor": 0
      },
      "text/plain": [
       "HBox(children=(HTML(value=''), FloatProgress(value=1.0, bar_style='info', layout=Layout(width='20px'), max=1.0…"
      ]
     },
     "metadata": {},
     "output_type": "display_data"
    },
    {
     "name": "stdout",
     "output_type": "stream",
     "text": [
      "\n",
      "LH, 염호열 신임 상임감사위원 임명 ( 댓글 수: 0 )\n"
     ]
    },
    {
     "data": {
      "application/vnd.jupyter.widget-view+json": {
       "model_id": "5d915b1afb654808a05ab625a327180f",
       "version_major": 2,
       "version_minor": 0
      },
      "text/plain": [
       "HBox(children=(HTML(value=''), FloatProgress(value=0.0, max=29.0), HTML(value='')))"
      ]
     },
     "metadata": {},
     "output_type": "display_data"
    },
    {
     "name": "stdout",
     "output_type": "stream",
     "text": [
      "\n",
      "택지 후보지, 외지인 거래 급증… LH사태 재연땐 주택공급 타격 ( 댓글 수: 29 )\n"
     ]
    },
    {
     "data": {
      "application/vnd.jupyter.widget-view+json": {
       "model_id": "30ac19bc78ae4c21b6df216d0c110fa2",
       "version_major": 2,
       "version_minor": 0
      },
      "text/plain": [
       "HBox(children=(HTML(value=''), FloatProgress(value=1.0, bar_style='info', layout=Layout(width='20px'), max=1.0…"
      ]
     },
     "metadata": {},
     "output_type": "display_data"
    },
    {
     "name": "stdout",
     "output_type": "stream",
     "text": [
      "\n",
      "LH, 제3회 주택매매 오픈마켓 개최 ( 댓글 수: 0 )\n"
     ]
    },
    {
     "data": {
      "application/vnd.jupyter.widget-view+json": {
       "model_id": "c94e4a3321f74713bee61db1fc1b549b",
       "version_major": 2,
       "version_minor": 0
      },
      "text/plain": [
       "HBox(children=(HTML(value=''), FloatProgress(value=0.0, max=110.0), HTML(value='')))"
      ]
     },
     "metadata": {},
     "output_type": "display_data"
    },
    {
     "name": "stdout",
     "output_type": "stream",
     "text": [
      "\n",
      "[단독] 'LH방지법' 낸 與 의원의 공무원 형, 땅투기 의혹 ( 댓글 수: 110 )\n"
     ]
    },
    {
     "data": {
      "application/vnd.jupyter.widget-view+json": {
       "model_id": "567ca53f866841709102cd3fbb190aa0",
       "version_major": 2,
       "version_minor": 0
      },
      "text/plain": [
       "HBox(children=(HTML(value=''), FloatProgress(value=0.0, max=62.0), HTML(value='')))"
      ]
     },
     "metadata": {},
     "output_type": "display_data"
    },
    {
     "name": "stdout",
     "output_type": "stream",
     "text": [
      "\n",
      "LH 땅 투기 사건으로 2·4 대책 신규택지 조성사업 일정 순연(종합) ( 댓글 수: 62 )\n"
     ]
    },
    {
     "data": {
      "application/vnd.jupyter.widget-view+json": {
       "model_id": "19da63553f0d415bacdbb19854982557",
       "version_major": 2,
       "version_minor": 0
      },
      "text/plain": [
       "HBox(children=(HTML(value=''), FloatProgress(value=0.0, max=3.0), HTML(value='')))"
      ]
     },
     "metadata": {},
     "output_type": "display_data"
    },
    {
     "name": "stdout",
     "output_type": "stream",
     "text": [
      "\n",
      "LH, 신혼부부 매입임대주택Ⅱ공급…시세 70~80% ( 댓글 수: 3 )\n"
     ]
    },
    {
     "data": {
      "application/vnd.jupyter.widget-view+json": {
       "model_id": "fb08ff56e4be409ea90d97bc2e059435",
       "version_major": 2,
       "version_minor": 0
      },
      "text/plain": [
       "HBox(children=(HTML(value=''), FloatProgress(value=0.0, max=57.0), HTML(value='')))"
      ]
     },
     "metadata": {},
     "output_type": "display_data"
    },
    {
     "name": "stdout",
     "output_type": "stream",
     "text": [
      "\n",
      "LH투기 여파… 수도권 11만 가구 택지후보 발표 못 했다 ( 댓글 수: 57 )\n"
     ]
    },
    {
     "data": {
      "application/vnd.jupyter.widget-view+json": {
       "model_id": "aa828acfda264238b01ad2fa4c11b236",
       "version_major": 2,
       "version_minor": 0
      },
      "text/plain": [
       "HBox(children=(HTML(value=''), FloatProgress(value=0.0, max=185.0), HTML(value='')))"
      ]
     },
     "metadata": {},
     "output_type": "display_data"
    },
    {
     "name": "stdout",
     "output_type": "stream",
     "text": [
      "\n",
      "이해충돌방지법, LH사태에 8년만에 통과…190만명 대상 ( 댓글 수: 185 )\n"
     ]
    },
    {
     "data": {
      "application/vnd.jupyter.widget-view+json": {
       "model_id": "1b90b500fd8d497f9d43cdef57b381bd",
       "version_major": 2,
       "version_minor": 0
      },
      "text/plain": [
       "HBox(children=(HTML(value=''), FloatProgress(value=0.0, max=4.0), HTML(value='')))"
      ]
     },
     "metadata": {},
     "output_type": "display_data"
    },
    {
     "name": "stdout",
     "output_type": "stream",
     "text": [
      "\n",
      "'LH사태'에…내달 전금융권 비주담대 LTV 규제 적용 ( 댓글 수: 4 )\n"
     ]
    },
    {
     "data": {
      "application/vnd.jupyter.widget-view+json": {
       "model_id": "93212f4dd53d4822ade6102d79af50f6",
       "version_major": 2,
       "version_minor": 0
      },
      "text/plain": [
       "HBox(children=(HTML(value=''), FloatProgress(value=0.0, max=25.0), HTML(value='')))"
      ]
     },
     "metadata": {},
     "output_type": "display_data"
    },
    {
     "name": "stdout",
     "output_type": "stream",
     "text": [
      "\n",
      "LH 땅 투기 사건 '후폭풍'…수도권 신규택지 발표 연기 ( 댓글 수: 25 )\n"
     ]
    },
    {
     "data": {
      "application/vnd.jupyter.widget-view+json": {
       "model_id": "ed134351ec7b44d586e86b6624073d92",
       "version_major": 2,
       "version_minor": 0
      },
      "text/plain": [
       "HBox(children=(HTML(value=''), FloatProgress(value=1.0, bar_style='info', layout=Layout(width='20px'), max=1.0…"
      ]
     },
     "metadata": {},
     "output_type": "display_data"
    },
    {
     "name": "stdout",
     "output_type": "stream",
     "text": [
      "\n",
      "LH, 감사원 출신 염호열 상임감사위원 임명… 임기 2년 ( 댓글 수: 0 )\n"
     ]
    },
    {
     "data": {
      "application/vnd.jupyter.widget-view+json": {
       "model_id": "3dd7ed0a5916405ebdd7ff5f2a41b1f5",
       "version_major": 2,
       "version_minor": 0
      },
      "text/plain": [
       "HBox(children=(HTML(value=''), FloatProgress(value=1.0, bar_style='info', layout=Layout(width='20px'), max=1.0…"
      ]
     },
     "metadata": {},
     "output_type": "display_data"
    },
    {
     "name": "stdout",
     "output_type": "stream",
     "text": [
      "\n",
      "LH, 염호열 신임 상임감사위원 임명 ( 댓글 수: 0 )\n"
     ]
    },
    {
     "data": {
      "application/vnd.jupyter.widget-view+json": {
       "model_id": "cc7c65a9b36e418c8e7229301b68a558",
       "version_major": 2,
       "version_minor": 0
      },
      "text/plain": [
       "HBox(children=(HTML(value=''), FloatProgress(value=1.0, bar_style='info', layout=Layout(width='20px'), max=1.0…"
      ]
     },
     "metadata": {},
     "output_type": "display_data"
    },
    {
     "name": "stdout",
     "output_type": "stream",
     "text": [
      "\n",
      "LH 신임 감사위원에 '감사원 출신' 염호열씨 임명 ( 댓글 수: 0 )\n"
     ]
    },
    {
     "data": {
      "application/vnd.jupyter.widget-view+json": {
       "model_id": "9643bc60ca14431dbec0e7ef282789cc",
       "version_major": 2,
       "version_minor": 0
      },
      "text/plain": [
       "HBox(children=(HTML(value=''), FloatProgress(value=1.0, bar_style='info', layout=Layout(width='20px'), max=1.0…"
      ]
     },
     "metadata": {},
     "output_type": "display_data"
    },
    {
     "name": "stdout",
     "output_type": "stream",
     "text": [
      "\n",
      "LH 염호열 신임 상임감사위원 임명 ( 댓글 수: 0 )\n"
     ]
    },
    {
     "data": {
      "application/vnd.jupyter.widget-view+json": {
       "model_id": "c146db39c10345a7a1e359afb80c328e",
       "version_major": 2,
       "version_minor": 0
      },
      "text/plain": [
       "HBox(children=(HTML(value=''), FloatProgress(value=0.0, max=55.0), HTML(value='')))"
      ]
     },
     "metadata": {},
     "output_type": "display_data"
    },
    {
     "name": "stdout",
     "output_type": "stream",
     "text": [
      "\n",
      "LH 사태에 불안했던 신규 택지, 결국 차질…향후 일정도 '위태' ( 댓글 수: 55 )\n"
     ]
    },
    {
     "data": {
      "application/vnd.jupyter.widget-view+json": {
       "model_id": "fe55149c91084fdba232d11b44f4f415",
       "version_major": 2,
       "version_minor": 0
      },
      "text/plain": [
       "HBox(children=(HTML(value=''), FloatProgress(value=0.0, max=2.0), HTML(value='')))"
      ]
     },
     "metadata": {},
     "output_type": "display_data"
    },
    {
     "name": "stdout",
     "output_type": "stream",
     "text": [
      "\n",
      "LH, 집주인 대상으로 한 '민간 매입약정 임대' 사업설명회 연다 ( 댓글 수: 2 )\n"
     ]
    },
    {
     "data": {
      "application/vnd.jupyter.widget-view+json": {
       "model_id": "2125c84324e349b789455a9e1e32d3ad",
       "version_major": 2,
       "version_minor": 0
      },
      "text/plain": [
       "HBox(children=(HTML(value=''), FloatProgress(value=0.0, max=1.0), HTML(value='')))"
      ]
     },
     "metadata": {},
     "output_type": "display_data"
    },
    {
     "name": "stdout",
     "output_type": "stream",
     "text": [
      "\n",
      "LH ‘주택매매 오픈마켓’ 열어…매입임대사업 설명 ( 댓글 수: 1 )\n"
     ]
    },
    {
     "data": {
      "application/vnd.jupyter.widget-view+json": {
       "model_id": "123ffbde749043b0bdf5392836370af2",
       "version_major": 2,
       "version_minor": 0
      },
      "text/plain": [
       "HBox(children=(HTML(value=''), FloatProgress(value=0.0, max=1.0), HTML(value='')))"
      ]
     },
     "metadata": {},
     "output_type": "display_data"
    },
    {
     "name": "stdout",
     "output_type": "stream",
     "text": [
      "\n",
      "LH, 주택매매 오픈마켓 개최..\"올 4.4만호 매입 목표\" ( 댓글 수: 1 )\n"
     ]
    },
    {
     "data": {
      "application/vnd.jupyter.widget-view+json": {
       "model_id": "bb8a7b83a358403db7ecdefbb3d793c0",
       "version_major": 2,
       "version_minor": 0
      },
      "text/plain": [
       "HBox(children=(HTML(value=''), FloatProgress(value=0.0, max=34.0), HTML(value='')))"
      ]
     },
     "metadata": {},
     "output_type": "display_data"
    },
    {
     "name": "stdout",
     "output_type": "stream",
     "text": [
      "\n",
      "LH 사태, 결국 공급대책 발목 잡았다… 신규택지 입지 발표 연기 ( 댓글 수: 34 )\n"
     ]
    },
    {
     "data": {
      "application/vnd.jupyter.widget-view+json": {
       "model_id": "f09f77d223b643d19afc85b8099fa431",
       "version_major": 2,
       "version_minor": 0
      },
      "text/plain": [
       "HBox(children=(HTML(value=''), FloatProgress(value=0.0, max=6.0), HTML(value='')))"
      ]
     },
     "metadata": {},
     "output_type": "display_data"
    },
    {
     "name": "stdout",
     "output_type": "stream",
     "text": [
      "\n",
      "LH 사태로 신규택지 발표 대거 취소…울산·대전 두곳만 발표 ( 댓글 수: 6 )\n"
     ]
    },
    {
     "data": {
      "application/vnd.jupyter.widget-view+json": {
       "model_id": "328d5f3a4f2e41f890fba64a6d79b61e",
       "version_major": 2,
       "version_minor": 0
      },
      "text/plain": [
       "HBox(children=(HTML(value=''), FloatProgress(value=0.0, max=71.0), HTML(value='')))"
      ]
     },
     "metadata": {},
     "output_type": "display_data"
    },
    {
     "name": "stdout",
     "output_type": "stream",
     "text": [
      "\n",
      "LH 땅 투기 사건으로 2·4 대책 신규택지 조성사업 차질 ( 댓글 수: 71 )\n"
     ]
    },
    {
     "data": {
      "application/vnd.jupyter.widget-view+json": {
       "model_id": "af0217c06f8949fb9d09202368a2c4fa",
       "version_major": 2,
       "version_minor": 0
      },
      "text/plain": [
       "HBox(children=(HTML(value=''), FloatProgress(value=0.0, max=17.0), HTML(value='')))"
      ]
     },
     "metadata": {},
     "output_type": "display_data"
    },
    {
     "name": "stdout",
     "output_type": "stream",
     "text": [
      "\n",
      "LH 땅 투기 사건으로 2·4 대책 신규택지 조성 사업 차질 ( 댓글 수: 17 )\n"
     ]
    },
    {
     "data": {
      "application/vnd.jupyter.widget-view+json": {
       "model_id": "a15e39f69caf4a51b4a73499a750f637",
       "version_major": 2,
       "version_minor": 0
      },
      "text/plain": [
       "HBox(children=(HTML(value=''), FloatProgress(value=0.0, max=1.0), HTML(value='')))"
      ]
     },
     "metadata": {},
     "output_type": "display_data"
    },
    {
     "name": "stdout",
     "output_type": "stream",
     "text": [
      "\n",
      "신혼부부 매입임대 978가구···LH, 시세 70~80% 전세공급 ( 댓글 수: 1 )\n"
     ]
    },
    {
     "data": {
      "application/vnd.jupyter.widget-view+json": {
       "model_id": "76a69f61546246b5a0d0e754d5d8465a",
       "version_major": 2,
       "version_minor": 0
      },
      "text/plain": [
       "HBox(children=(HTML(value=''), FloatProgress(value=0.0, max=2.0), HTML(value='')))"
      ]
     },
     "metadata": {},
     "output_type": "display_data"
    },
    {
     "name": "stdout",
     "output_type": "stream",
     "text": [
      "\n",
      "LH, 시세 70~80% 신혼부부 매입임대주택 전세형 공급 ( 댓글 수: 2 )\n"
     ]
    },
    {
     "data": {
      "application/vnd.jupyter.widget-view+json": {
       "model_id": "6188975854284ce683a392f0268e8a6a",
       "version_major": 2,
       "version_minor": 0
      },
      "text/plain": [
       "HBox(children=(HTML(value=''), FloatProgress(value=0.0, max=7.0), HTML(value='')))"
      ]
     },
     "metadata": {},
     "output_type": "display_data"
    },
    {
     "name": "stdout",
     "output_type": "stream",
     "text": [
      "\n",
      "LH, 신혼부부 매입임대주택 전세형 공급 ( 댓글 수: 7 )\n"
     ]
    },
    {
     "data": {
      "application/vnd.jupyter.widget-view+json": {
       "model_id": "4663c657ac8c486ea77683633f5ce507",
       "version_major": 2,
       "version_minor": 0
      },
      "text/plain": [
       "HBox(children=(HTML(value=''), FloatProgress(value=1.0, bar_style='info', layout=Layout(width='20px'), max=1.0…"
      ]
     },
     "metadata": {},
     "output_type": "display_data"
    },
    {
     "name": "stdout",
     "output_type": "stream",
     "text": [
      "\n",
      "LH, 신혼부부 매입임대주택Ⅱ 전세형 공급… 시세 70~80% ( 댓글 수: 0 )\n"
     ]
    },
    {
     "data": {
      "application/vnd.jupyter.widget-view+json": {
       "model_id": "025853b9d388435baac1ea50c244f9df",
       "version_major": 2,
       "version_minor": 0
      },
      "text/plain": [
       "HBox(children=(HTML(value=''), FloatProgress(value=0.0, max=12.0), HTML(value='')))"
      ]
     },
     "metadata": {},
     "output_type": "display_data"
    },
    {
     "name": "stdout",
     "output_type": "stream",
     "text": [
      "\n",
      "국토부, 'LH땅투기' 재발 우려에 수도권 신규택지 발표 연기 ( 댓글 수: 12 )\n"
     ]
    },
    {
     "data": {
      "application/vnd.jupyter.widget-view+json": {
       "model_id": "5a37647b987d4c43b36822ab5b740f02",
       "version_major": 2,
       "version_minor": 0
      },
      "text/plain": [
       "HBox(children=(HTML(value=''), FloatProgress(value=0.0, max=3.0), HTML(value='')))"
      ]
     },
     "metadata": {},
     "output_type": "display_data"
    },
    {
     "name": "stdout",
     "output_type": "stream",
     "text": [
      "\n",
      "LH사태 불똥…다음달부터 비주담대도 LTV규제 ( 댓글 수: 3 )\n"
     ]
    },
    {
     "data": {
      "application/vnd.jupyter.widget-view+json": {
       "model_id": "4d1c6aa3e0d84ca1b2d687affe5dcb06",
       "version_major": 2,
       "version_minor": 0
      },
      "text/plain": [
       "HBox(children=(HTML(value=''), FloatProgress(value=0.0, max=3.0), HTML(value='')))"
      ]
     },
     "metadata": {},
     "output_type": "display_data"
    },
    {
     "name": "stdout",
     "output_type": "stream",
     "text": [
      "\n",
      "'제2 LH사태 막는다' 토지 등 비주담대 LTV 70% 전 금융권 확대 ( 댓글 수: 3 )\n"
     ]
    },
    {
     "data": {
      "application/vnd.jupyter.widget-view+json": {
       "model_id": "1dd61fcfe0084a33b0dc885ae35f96f6",
       "version_major": 2,
       "version_minor": 0
      },
      "text/plain": [
       "HBox(children=(HTML(value=''), FloatProgress(value=0.0, max=5.0), HTML(value='')))"
      ]
     },
     "metadata": {},
     "output_type": "display_data"
    },
    {
     "name": "stdout",
     "output_type": "stream",
     "text": [
      "\n",
      "13만가구 신규택지는 빠졌다…LH발 투기 의혹에 '발목' ( 댓글 수: 5 )\n",
      "\n",
      "30\n"
     ]
    },
    {
     "data": {
      "text/plain": [
       "{0: {'기사명': 'LH, 염호열 신임 상임감사위원 임명',\n",
       "  '날짜': '2021.04.30. 오전 9:04',\n",
       "  '추천수': '',\n",
       "  '좋아요': '0',\n",
       "  '훈훈해요': '0',\n",
       "  '슬퍼요': '0',\n",
       "  '화나요': '3',\n",
       "  '후속기사 원해요': '0',\n",
       "  '댓글 수': 0,\n",
       "  '댓글': []},\n",
       " 1: {'기사명': '택지 후보지, 외지인 거래 급증… LH사태 재연땐 주택공급 타격',\n",
       "  '날짜': '2021.04.30. 오전 3:02',\n",
       "  '추천수': '13',\n",
       "  '좋아요': '2',\n",
       "  '훈훈해요': '0',\n",
       "  '슬퍼요': '0',\n",
       "  '화나요': '84',\n",
       "  '후속기사 원해요': '1',\n",
       "  '댓글 수': 29,\n",
       "  '댓글': ['서울에 집이 남아돈다. 절대숫자가 부족한게 아니고 국민이 살고싶은 집이 부족한것이다. 살고싶은 집을 건설해라!',\n",
       "   '토지허가제 중국처럼 하면서 외국인들이 집사는건 여태 왜안막음? 지금 서울 아파트 봐라 외국인 영주권자들이 한국에 살지도 않으면서 두세채씩 가지도 투기한다 그동안 이거 몰랐다고? 집주인이 외국인인 집들 여럿봄 한국엔 안들어온다 근데 그거 가지고 한국서 투기짓함',\n",
       "   'LH시즌2이니 ㅍ못하지발표, 해채도 않하고,신도시취소않하냐? 비리집단들',\n",
       "   '외지인들이 거래를 못하게 막아야지 진짜 살지도 않을꺼면서 타지에다 집사고 땅사고투기를 조성하냐고 !!!',\n",
       "   '설마 밑에글들 외지인을 외국인으로 착각하는건 아니겠죠?',\n",
       "   '공무원ㆍ외국인 배불리기하는구나ㆍ남양주연장선이나조사해라ᆢ',\n",
       "   '외국인들 한국에 집못사게 법좀 만들어라. 대출규제도 더 강화하고 외국인 때문에 이제 대한민국이 없어질듯',\n",
       "   '용산공원 반, 만남의 광장, 김포공항 부지, 서울 대공원 부지 이런데 지어 그냥',\n",
       "   '근데 LH 수사는 하고 있는거냐? 흐지부지 뭉개는거냐',\n",
       "   '즹말 너무 많이 해 처 드시네.작작해라.소화는 되나?선거때는 썩은 구두 신고 나오고,썩은 가방 들고 다니고.',\n",
       "   '투기한 사람들은 어떻게 할건데요 ? 사회의 정의가 무너져버린 LH 관련 투기꾼, 국회의원, 시의원, 구의원들의 정보를 이용한 투기꾼.... 그외에 지인, 친척을 앞장세운 투기꾼에게 어떻게 할건데요 ? 아파트 공급보다 투기꾼들 척결이 더중요한 정의입니다... 이사람들 척결이 제대로 못할땐 국민들의 분노가 더 커질것입니다...',\n",
       "   '택지 지정해서 주택 공급량은 우선 늘리고 최근 거래된 내역은 전수 조사해서 부정한 거래내역만 잘 걸러내서 투기자금 환수 및 실형을 살리면 차후에 누가 감히 정보빼서 투기를 하려 하겠나? LH도 징벌이 전혀없으니 투기판이 된건데... LH부터 검사들 최대한 투입해서 죄다 가려내고 구속 시켜라!',\n",
       "   '김포공항이나 인천공항으로 이전 시키고 신도시로 개발하면 투기와 전혀 상관없다',\n",
       "   '여주 갑시다',\n",
       "   '니들만의 잔치? 니들만의 신도시? 시흥 광명 신도시 백지화가 해답이다 감사원 검찰수사 전수조사가 해답이다 콩밥이 정의며 깜빵이 공정이다 신적폐 좌빨청산이 한국이 진정으로 사는길이다 자유는 질서와 성장속에서 존재한다 나는 공산당이 좌빨이 너무너무 싫어요',\n",
       "   '문재인이 김수현 김현미를 시켜 부동산을 어마어마하게 올리니, 수많은사람이 부동산투기 투자로 부를 쌓으려고 매진하고잇다. 며칠안남은 문가 임기중에 무슨일이 더일어나려나?',\n",
       "   '내국인은 대출규제 외국인 특히 중국인은 대출 허용으로 부동산 싹쓸이',\n",
       "   '이민가자 도저히 이나라에서ㆍ 살수가없다',\n",
       "   '이런 신도시 개발은 주택 원가 상승 요인으로 집값 폭등의 최초 원인이다. 이제 고마 신도시 개발해라. 매 정권마다 이짓으로 실컷 해ㅊ먹지 않았나?',\n",
       "   '욕나온다! 저걸 왜? 그냥 놔두는거야?',\n",
       "   '고려와 조선 조정이 망한 이유중 하나가 부동산이다 ~~이제 망할 시간이 문제네 ㅠㅠ',\n",
       "   '국민들이 정직해져야 한다. 구시가지 빈집이 넘쳐나고 세입자 못구해서 난리다. 부동산금융위기 멀지않았다. 정신차려야 한다. 구시가지를 재개발해야 경제유지된다. 신시가지개발 중단해라.',\n",
       "   '공공주도 개발은 정보빠르고 힘있고 돈있는 자들만 배불려 주는 것임. 도대체 누구를 위한 개발이냐!!! 임대차 3법으로 부동산 씨를 말리더만 해결책으로 3법 철회가 아닌 공공주도 개발 꼼수를 펴려다 오히려 투기공화국만 만드는 꼴이 되었네... 문재인과 노무현... 부동산 쓰레기들...',\n",
       "   '자본주의의폐해지.',\n",
       "   '대역죄인',\n",
       "   '주택공급에 차질이 있더라도 땅 산 것들 배부르게 해 주는건 아니지.. 평생 개발 못하게 문화재 보전 구역으로 묶어버려라.. ㅋ',\n",
       "   '아니... 국내 선량한 시민들은 평생일해도 집 못사는데 임대주택에서 살라고 하더니 .. 외국인들이 부동산 쓸어담는동안 진짜 뭐한거야? 진짜 이게 나라냐... 재앙이다 2021버전 매국노들아...',\n",
       "   '먼저 투기꾼부터 가려내겠다는 것이지 공급확대 절대로 철회한 게 아니다. 투기꾼 앞잡이 기레기들이 공급확대 막으려고 은근히 선동하는군.',\n",
       "   '이 정부가 알아서 연기할 정도면 사실상 공급대책은 끝났다고 봐야지.. 애초에 토지수용 공급대책 자체가 실현 불가능했다.']},\n",
       " 2: {'기사명': 'LH, 제3회 주택매매 오픈마켓 개최',\n",
       "  '날짜': '2021.04.30. 오전 8:36',\n",
       "  '추천수': '',\n",
       "  '좋아요': '1',\n",
       "  '훈훈해요': '0',\n",
       "  '슬퍼요': '0',\n",
       "  '화나요': '0',\n",
       "  '후속기사 원해요': '0',\n",
       "  '댓글 수': 0,\n",
       "  '댓글': []},\n",
       " 3: {'기사명': \"[단독] 'LH방지법' 낸 與 의원의 공무원 형, 땅투기 의혹\",\n",
       "  '날짜': '2021.04.30. 오전 7:39',\n",
       "  '추천수': '93',\n",
       "  '좋아요': '3',\n",
       "  '훈훈해요': '1',\n",
       "  '슬퍼요': '0',\n",
       "  '화나요': '427',\n",
       "  '후속기사 원해요': '5',\n",
       "  '댓글 수': 110,\n",
       "  '댓글': ['윤미향 안성쉄터 비싸게 사도록 중개한 사람이 이규민 의원이라던데?이거 짜고 하는것 맞지요?이렇게 제대로 인물이 하나도 없는것일까?',\n",
       "   '완전 사기꾼 형제들 이게 대한민국 더듬어당 국개들의 현주소다 털어보면 몽조리 다 이리저리 해쳐먹었을껄 도독놈들에 사기꾼 양아치 집단들',\n",
       "   '아따 우리가 마지막이랑께',\n",
       "   '이규민 국회의원의 형? 이거 정확히 규명해야하는것 아닌가?? 내부정보 이용하지 않았다는것을 믿어줄 국민이 얼마나 될까??',\n",
       "   '장기미집행 도시계획시설은 오래전부터 해제가 예정되어 있었다. 그리고 매수도 5년전에 했는데 투기로 몰아가는 것은 아닌지 ???',\n",
       "   '이용구 이성윤처럼 국정참견하면 면책특권 주나?',\n",
       "   '이 공무원도 신내림 받았나? 어찌 사니깐 규제가 풀리냐? 이규미니는 뻔뻔하게 법 발의는 왜해? 4년 동안 이렇게 국민 허탈하게 만드는 사건 많은 정부도 처음이네. 지금것 경험해보지 못한 세상!',\n",
       "   '다민주당이야. 다.. 역겨워',\n",
       "   '아직도 1년 남았다. 써글',\n",
       "   '파도 파도 계속 나오는 민주당 ㅎㅎㅎㅎㅎ',\n",
       "   '말로만 서민위한 정책 실상은 서민 죽이는 정책들뿐. 주딩이로만 반미 자식은 미국 유학. 이중국적 모든 게 위선인 내로남불들',\n",
       "   '작성자에 의해 삭제된 댓글입니다.',\n",
       "   '안성쉼터 윤미형 이규민.',\n",
       "   '개판이구나',\n",
       "   '역쉬! 정직한 민주당! 가족은 안돌보고 나만 깨끗한 민주당!혼자 깨끗한척 하다보니 주변은 다 잡혀 가는구나! ㅉㅉ',\n",
       "   '뻔뻔한 사람들이다 나라를 살리려면 민주당을 해체 하여야 한다',\n",
       "   '구린내가 풀풀 나는구나. 과연 지금의 집권당이 없는자들과 민주주의를 위한 당이 맞냐?? 저들이 촛불들고 비난했던 당들과 뭐가다르냐?? 더하면 더하다.',\n",
       "   '역시 더불어 앵벌이당',\n",
       "   '더불어범죄소굴당은 무능하징산 범죄와 투기는 잘도 하네.',\n",
       "   '민주당 역시나가 역시나네',\n",
       "   '더불어 LH재산 ㅋㅋ',\n",
       "   '작성자에 의해 삭제된 댓글입니다.',\n",
       "   '윤미향한테 안성쉼터 중개한 사람이 전과4범 이재명계 이규민ㅉㅉㅉ',\n",
       "   '또불어투기당',\n",
       "   '더불어 민주적투기당 어찌할꼬, 양산 사저 투기방지법 결국 노 나는 장사',\n",
       "   '발정당이 발정당 했네. 딱 저한테 맞춤으로 저는 빠져 나갈 수 있는 맞춤법안…참 대단하다. 저렇게 온통 구멍 투성이인 법안 만들면 뭐해? 그냥 공식적으로 빠져나갈 구멍 만들어 주는거구만…ㅉㅉㅉ',\n",
       "   '역시 민주당',\n",
       "   '민주당은국개의원 비리 캐야하는데 한표던집니다',\n",
       "   '우리만 재산이 더부러 ᆢ',\n",
       "   '지겨운 민주당 쓰레기. 쇼쇼쇼에 이제 안속는다. 국민은 진정성 있는 정치인을 원한다. 민주당은 퇴출 되어야 대한민국이 제대로 간다.',\n",
       "   '더듬어 당은 놀랍지도 않다...서울, 수도권, 대도시 처럼 기본 자금이 많이 들어가서 재건축, 리모델릭 같은 남이 소유하고 있고 높은 시세가 형성되어 있으면 자기들이 해 먹을 것이 없으니...농지, 맹지, 그린벨트 같은 곳을 먼저 선점해서 신도시 지정해서 투기 해먹거나...여튼',\n",
       "   '민주당이 민주당했네 ㅋㅋ',\n",
       "   '티비조선 기자님들 무더기로 이달의 기자상 받았네요 ㅎ 훌륭하십니다 계속해서 이정권들어서 사회 곳곳에 일어나는 부정부패들 속시원히 까발려주시길',\n",
       "   '이러니 더듬어투기당 저놈들을 어찌 믿고 나라를 맡기겠나?',\n",
       "   '더부러사기당 역쉬 기대를 저버리지않는군^^저돈이 다 어디로 흘러들어갈까나??',\n",
       "   '자기들이 법만들고 자기들이 검옥가고 1호처벌대상자도 자기들이고 역시 세기와더불어 공산당',\n",
       "   '내로남불당으로 당명 바꿔라',\n",
       "   '까도까도 끝이없는 비리비리한 더불어비리당.',\n",
       "   '클린봇이 부적절한 표현을 감지한 댓글입니다.',\n",
       "   '임마는 윤미향이건에도 관련된 자슥이잖어. 정말 해도 해도 다쓰레기뿐이네. ㅇㅇ',\n",
       "   '이규민이가 알려줬네 그렇지않고서야 주변 부동산도 모르는데 건물더 못올리는땅을 살수거있나',\n",
       "   '저 문재인 똘마니들의 하나같은 특징... 난 몰라요. 마누라가 했어요. 부모님이 했어요. 형이 했어요...',\n",
       "   '클린봇이 부적절한 표현을 감지한 댓글입니다.',\n",
       "   '어쩔때 보면 본인들 당에서도 본인들에게 칼이 될만한 사람들은 어꾸로 털어내는것 같아보입니다. 능력이 되면 사는게 뭔 잘못이겠는지..다만 국민에게 필요한법 현 정부가 원하는 바가 아닌 법을 발의했다가 뒤에서 찍히는 일 없이 잘 진행되길 바랍니다.',\n",
       "   \"규민''말종혼자가 아니고 일가친척까지 다해처먹어겠지\",\n",
       "   '클린봇이 부적절한 표현을 감지한 댓글입니다.',\n",
       "   '민주당답구만',\n",
       "   '걍 정부가 사기꾼들 집합체',\n",
       "   '하여간 기본적인 도덕도 없는 분들!그대들이 최고입니다나두 그러구 싶다',\n",
       "   '적폐청산 ㅋㅋㅋㅋㅋㅋㅋㅋㅋㅋㅋㅋㅋㅋㅋㅋㅋㅋ 지들이 적폐임',\n",
       "   '내로남불 양아치당이 어디 가겐나',\n",
       "   '진짜 여당 민폐다. 뒷구녕으로 온갖권세 다 누렸네. 윗분생각이 부동산에 대해 개념이 없으니까 나라가 이 모양이지. 서민 등이나 쳐먹는 놈들. 이러니 LH 해체 못하지. 구린게 있고 마음의 빚이 있어서',\n",
       "   '다가치만저당.다가치투기당.다가치편법당.다가치위조당.다가치호소당.다가치구라당...대단하다..',\n",
       "   '민주당은 안돼',\n",
       "   '더불어투기당',\n",
       "   '작성자에 의해 삭제된 댓글입니다.',\n",
       "   '단독 참 많이하더라. 취재겁나열심히하나봐? 선별기사쓰는 조작신문 조작방송까지 ㅋ',\n",
       "   '저런놈들 끼리끼리 해쳐먹는게 대단하군',\n",
       "   '고양이에게 생선가게를 맡겼으니 얼마나 좋았을까???? ㅋㅋㅋㅋㅋ 그렇게되도록 지지해준 민주당 지지자들은 반성해라...앞으로 투표에서는 사라을 보고 투표해야된다.. 어떤놈이던 저런짓들을 할수있으니!!!',\n",
       "   '내로남불당',\n",
       "   '문재인과 저 추종 패거리들.',\n",
       "   '에휴 똥냄새 악취가 진동을 하네 더러운 추행당넘',\n",
       "   '또 더듬어당',\n",
       "   '더부러 망해부러당',\n",
       "   '클린봇이 부적절한 표현을 감지한 댓글입니다.',\n",
       "   '국민의짐 조중동과 개독이 해처먹은 거에 비하면 새발의 피지',\n",
       "   '민주당 의원들 물들어올때 노젓는다고 아주 알차게 해먹었구나',\n",
       "   '이런 악의적인 기사를 보고 점점 뇌가 변색되는 조중동503수꼴들',\n",
       "   '더불어민주당 이러구 3기 신도시 밀어 붙이고, 5억투자하고 30억 참 좋구나',\n",
       "   '부패한 정당. 더불어당 국회의원 들 ! 당신들은 기본이 안된 사람들입니다.',\n",
       "   '참 골고루 해쳐먹는다. 철면피들...',\n",
       "   '내로남불당ㅋㅋ',\n",
       "   '어휴~ 더듬어당의 열혈 지지자들 많은 안성에서 더불어해먹었네~!! 이젠 적폐가 하도 쌓여서 놀랍지도 않아~!!',\n",
       "   '부패당 내로남불 말고는 단어가 안떠오른다',\n",
       "   '강도짓하러 집에들어가 들키니 도둑이야 소리진격이네 이규원 이도둑놈아',\n",
       "   '강간당 놈이네..절라도끼리끼리 다 해쳐먹어라..',\n",
       "   '다 필요없고. 정권교체해야한다',\n",
       "   '더부러공산당이 더부러했네! 어여 월북들 해 너희들은!!!',\n",
       "   '클린봇이 부적절한 표현을 감지한 댓글입니다.',\n",
       "   '더불어만진당 내로남불 국개의원들 얼굴 철판 두께는 도대체 얼마일까?',\n",
       "   '대박난 분 참으로 축하합니다 ㅎㅎ',\n",
       "   '공무원및 공사등의 종사자들과 그 존비속들은 부동산 매입시 부패방지위원회의 적격성 여부를 심사해야된다. 그리고 친인척명의로 투기한 행위는 직무관령성에 따라 엄벌해 처하고 부당이득의 세배로 추징해야한다.',\n",
       "   '클린봇이 부적절한 표현을 감지한 댓글입니다.',\n",
       "   '안성시 4급 이면 고위직인 시청국장급 인데.. ..척하면 답이 나오는 구만..... 내 로 남 불 ...현 집권당에 더이상 무엇을 바라겠는가 ? 자나깨나문비어천가 불러데며 심지어 소신파 여당 의원에게까지 문자폭탄 공격하는 강성 문빠들이 당을 좌지우지 하는 나라인데..... 그러면서 해골아저씨가 더불어 해먹자당 이 20년 연속집권할거라고 큰소리치는 세상 아닌가 ? 좌우지간 이성있는 국민들이 내년 선거에 정신차려서 투표잘하는것 만이 희망을 바랄수 있다..',\n",
       "   '어떻게 이것들(더듬당)은 겉으로는 깨끗한척하면서 뒤로는 이런못된짓을 일삼고있는지 참대단한것들이다 이게좌파들의특징이지',\n",
       "   '말과 행동이 이렇게 다른 비열한 민주당은 진짜 정치역사상 최악이다.',\n",
       "   '클린봇이 부적절한 표현을 감지한 댓글입니다.',\n",
       "   '여야 국개의원 친인척까지 사법당국에서 전수조사하라선거끝나니 슬그머니 모른척',\n",
       "   '도대체 내로남불의 끝은 어디냐? 말과 행동이 이리도 다른 것들은 첨본다',\n",
       "   '정치인들 가족 포함 검사하면 안걸릴사람 없다 100% 장담한다',\n",
       "   '권력누리기와 돈긁는 것이 본업이 된 국회의원들은 200명명축소 세비50%삭감 보좌진 50% 감원 이것이 타당하다..',\n",
       "   '강간을 한놈이 강간방지법을 내는 꼬라지구나ㆍ 대깨문들에 마춤 좌파정부이다',\n",
       "   '아주 더불어민주당적인 모습이네요... 1일 1민주당 하시네요 ㅋㅋ',\n",
       "   '이래도 저것들 또찍을래',\n",
       "   '역시~더불어쓰레기사기당이다~힘내라 사기당~',\n",
       "   '클린봇이 부적절한 표현을 감지한 댓글입니다.',\n",
       "   '이재명라인 의원이라며? 아니 지사님은 본인 도에서 발생하는 일 단속도 안하고 방치합니까?',\n",
       "   '작성자에 의해 삭제된 댓글입니다.',\n",
       "   '도대체 똥을 보고 먹어봐야 확인할 수 있다는 식의 경찰수사는 기준이란게 있기는 한건지...이건 뭐 당연한 건데 구속 수사를 해야지 원..',\n",
       "   '클린봇이 부적절한 표현을 감지한 댓글입니다.',\n",
       "   '어제난 기사를 단독이라고 또 선동질 찌라시 우려먹는거봐라.조선의 선동질은 다른 기레기가 보도했는데도 단독이라고 또 다른 기레기가 우려먹고있네.',\n",
       "   '국민들은 ,아무 것도 모르고 입발림에 다 찍어 ㅅㄴㄷ 노릇 하고있고 누그를 탓하나 국민들 책임',\n",
       "   '으따 우덜은 무죄랑께 - 홍어족 일동 -',\n",
       "   '작성자에 의해 삭제된 댓글입니다.',\n",
       "   '클린봇이 부적절한 표현을 감지한 댓글입니다.',\n",
       "   '조중동 사회악!',\n",
       "   '전수조사 하자. 도대체 얼마나 해 쳐먹은거야.',\n",
       "   '더불어공산당 더불어범죄조직당 사기구라당 내로남불당 쓰레기당 온갖 나쁜짓은 도맡아 저지르는 문재앙혐오당ㅇ7ㅣ 클라스',\n",
       "   '참나 양심이라곤 1도없네 니 자신을 알라',\n",
       "   '참 ...깨알같이 해 쳐 드신다 들....']},\n",
       " 4: {'기사명': 'LH 땅 투기 사건으로 2·4 대책 신규택지 조성사업 일정 순연(종합)',\n",
       "  '날짜': '2021.04.29. 오후 12:05',\n",
       "  '추천수': '18',\n",
       "  '좋아요': '9',\n",
       "  '훈훈해요': '1',\n",
       "  '슬퍼요': '1',\n",
       "  '화나요': '114',\n",
       "  '후속기사 원해요': '6',\n",
       "  '댓글 수': 62,\n",
       "  '댓글': ['lh가 문제냐 중공놈들은 78프로 집담보 대출해주고 세금까지 감면해주고 해외송금시 수수료도 면제해 주는데거기다 비트코인 환치기로 부동산 쑈핑을 했는데 우리 정부는 중공놈들 부동산투기를 돕고 자국민은 투기꾼으로 몰아 대출 규제다 세금폭탄에 내 집마련 꿈을 날려버렸잖아 이제 국민 지지 떨어지니 다음 대선 총선에 질것같으니 중공놈들 한국에서 자식 낳으면 대한민국 국적까지 준다고 하고 있네. 이런 개 ~~`',\n",
       "   'ㅋㅋㅋㅋㅋ 결국 문재앙정권과 민주당 경찰이 LH의 공범인거지 ㅋㅋㅋㅋㅋ 여지껏 겪어보지 못한 나라가 이렇게 멋지다',\n",
       "   '나라 꼬라지가 이게 뭐냐? 책임져라 현정부는 .. 서민들은 죽어가는데 돈있고 권력 있는 놈들은 자기 배 채우기 위해서 온갖 편법으로 재산 축적 하고..이게 나라랴 국토부 장관 현미도 수십차례 실패 했는데도 몇년을 끌었노? 거기에 변창흠 까지 .. 불통에 독재에 진절머리 난다 진짜',\n",
       "   '지연이아니라 지정취소를해야지',\n",
       "   '문재인정부에서는 신도시투끼꾼 못잡는다 지들이 해쳐먹었는데 어찌잡겠나 정권바뀌면 투기자들 다잡아들여야된다 손바뀜이 몇년도에 이뤄졌나확인 손바꼈어도 투기했먹었으면 소급적용 몰수해야한다',\n",
       "   '시간끌다가 정권망하고 깜방이나가거라.',\n",
       "   '신도시 계획 폐지하라고~~~',\n",
       "   '윤석렬총장님이 차기 대통령 되면은 LH, 윤미향, 조국등 있는 그대로 밝혀서 처벌할 것을 믿으 의심치 않습니다. 국힘당도 마찬가지.... 국힘당도 잘못이 있으면 공정하게 똑같이 수사 및 처벌... 하실 겁니다.',\n",
       "   '대곡은 gtx 포함 5개 노선이 지나감에도 토지거래 허가구역이라 투기를 못해서 개발 안함, 투기전문 고양시장 이재준은 지가 투기한데는기를쓰고 개발함 코메디',\n",
       "   '공공개발해서 가장 이익보는건 청년이 아니라 정부고 LH 잖아.. 빚 내서 농지 산 투기꾼부터 잡아. 청와대 정권 실세가 또 끼어있냐? 으이구....',\n",
       "   '취소해야지 무슨 연기 얼마나 이걸 만든 것들이 해먹었길래 취소를 못하냐 정권바뀌면 다 밝혀서 콩밥먹여야한다. 부동산투기조장해서 아파트값 오르게 만든 원흉들',\n",
       "   '아예 없던 걸로 하고 투명하게 처음부터 다시 다른 기관을 통해서 해야 합니다~',\n",
       "   '40대에 사전청약하시어 당천되시면 최소 70대에 입주가능하실겁니다...그동안 건강하게 잘 버티셔야합니다..내집으로 처음들어가는데...화이팅!!!!',\n",
       "   '어쨋거나 내 아파트도 중국인에게 팔아야징..... (진심) 아파트 값 으르면 중국인에게 팔고 난 갭투자 성공, 이 나라는 중국꺼..!! 서로가 윈윈하는 전략!! 날 욕하지 마라! 문제인 뽑은 놈 욕해라!',\n",
       "   '주택공급 지연되니 집값은 천정부지로 오르겠군',\n",
       "   'LH만 주홍글씨 쓰지말고 세종시 정부청사 및 관련 공무원들 전수조사해라!아파트 특혜받고 과천에서 출퇴근비용 모두 국민세금으로 쓰고 완전히 썩어문드러진 정권이다',\n",
       "   '또 질질질 끌다가 연말 대선전에 발표할라고??ㅋㅋㅋ',\n",
       "   '정말이지 예상대로 뻔하게 흘러가네요, 기다리던 집없는 사람들만 죽어나지요...3기 신도시는 절반이 신희타가 무슨 의미인가요. 그마저도 언제 공급될지 모르죠, 십년은 기본! 재건축 재개발 확대하고 민간으로라도 하루빨리 공급확대하세요. 민생보다 정치 논리가 중요한겁니까',\n",
       "   'LH사건은 결국 한 명 뛰어내려 죽고 말단 몇명 잡아넣고 끝난거임?? 적게 잡아도 수백명은 걸릴텐데 진짜 좀스럽네',\n",
       "   '이대론 안된다 투기하는넘 하나 잡아서 시범 케이스로 친인척까지 모두 재산몰수해서 거지로 만들어버려라!부동산 투기꾼은 거지가 된다는걸 보여줘라',\n",
       "   '우리가 비웃는 중국은 오늘 또 우주에 독자적인 모듈을 쏘아 올렸다. 우리 대한민국은 언제쯤 부동산 따위에서 벗어나서 다가오는 우주 미래 시대를 대비하고 선도할 수 있을까? 한심한 현실이다.',\n",
       "   '진짜 현실 그자체가 영화구나... 내부자들 보면 입막음으로 뛰어내리게 하던데 윤미향사건도 뜬금 소장이 자살하고 LH사건도 뜬금 부장급이 자살... 본보기로 죽였다는 느낌을 지울수가 없네 금방 조용해지는거보면',\n",
       "   '양산에 사재가 왜필요하냐?어차피 정권끝나면 교도소 들어가서 콩밥 먹을낀데ㅋㅋ',\n",
       "   '비리척결이 우선이다.',\n",
       "   'Lh해체해라',\n",
       "   '왜 취소안함?',\n",
       "   '걍 수도이전을 남쪽 맨 끝 땅끝마을로 해 버려라~~서울대로 지방으로 옮기고~~~대학병원도 다 지방으로 이전하고~~~~지방에 싸고 빈땅 많다~~~',\n",
       "   '문재인정권은 깨끗할줄 알았는데 더 심하네 박그네랑 뭐가 다른거임?',\n",
       "   '저딴거 필요없고 유럽처럼 공공임대주택을 저렴하게 많이 공급하라니까~',\n",
       "   '문죄인과 문죄인정부 똥닦니라, 국민들만 죽어나는구만...',\n",
       "   '클린봇이 부적절한 표현을 감지한 댓글입니다.',\n",
       "   '작성자에 의해 삭제된 댓글입니다.',\n",
       "   '되겠니? 이게???',\n",
       "   '의로운 사람은 한명도없다 LH투기는 계속 반복된다. 그냥 LH는 해체되어야 한다. 이럴수록 국민만 더 힘들어진다. 국민이 힘들면 나라가힘들어지는것이다',\n",
       "   '용산도 있고 강남 그린벨트 국유지도 있고 ...땅이 없나요 ? 또 쇼하는건지 ... ??',\n",
       "   '작성자에 의해 삭제된 댓글입니다.',\n",
       "   '아파트 재산세 현재보다 2배로 올리고, 신도시 사업은 중단해라. 대책없이 중단은 말도 안되는 주장이다 차라리 투기법 수사를 없던 것으로 하고 투기법들 다 풀어 주고 추징세금 면제 해주고 서라도, 신도시사업 진행하는게 서민 피해가 적다. 소수의 투기꾼 핑계로 사업 연기 하지 말란 말이다. 모든것을 서민 아파트 공급 차원에서 결정해라.',\n",
       "   '작성자에 의해 삭제된 댓글입니다.',\n",
       "   'LH사태의 주범은 문재인 정권과 민주당이고 피해자는 대한민국 국민이다.',\n",
       "   '취소하면 깔끔할걸 공급은 공급대로 못하고 민심은 민심대로 잃고 항상 어떤게 최악의 수일까 고심하는게 보이네요',\n",
       "   '두가지 함의가 있다. 정부가 급한 마음에 단기간 주택 공급 뻥카는 쳐놨는데 이게 말처럼 단기간에 되는게 아님. 경험에 비춰볼때 토지보상 등 빨라야 10년 걸림. 때맞춰 LH가 터져줬으니 정부입장에서는 핑계거리가 생긴거. 적폐청산이라는 미명하에 말이 순연이지 입주까지 20년 본다. 그렇다면 향후 주택가격이 안정이 되겠니, 않되겠니?',\n",
       "   '취소가 답이 아닌가? 신뢰가 바탕이 되지 않는데...',\n",
       "   'LH가 만든 세종시도 전면 중단하고 특별감사해라 수십조 국민 세금이 투입됐다 국회이전 철회해라',\n",
       "   '오늘 발표하려다가 갑자기 웬 세부조율?! 연루된 여권인사라도 있어서 발 뺄 시간 주려고 그러는 건 아니고?!',\n",
       "   '클린봇이 부적절한 표현을 감지한 댓글입니다.',\n",
       "   '시간끌고 결과물은 없고 뭐 그렇지 결론은 뭐다? 있는 넘들은 어찌간에 있게되고 없는 넘들은 디져도 없는거지. 여기에 정치색을 입히니 이 유대관계는 더 공고해지는거고',\n",
       "   '3기신도시 택지 지정을 신속히 했었어야 한다고 봅니다. 수개월동안 2차 3차 이런방식으로 지정을 하다보니 후보지 들에 투기를 부추기는 결과가 생겼다고 봅니다. 부동산 정책은 신속히 해야 부작용이 적습니다..',\n",
       "   '발본색원. 기다린다',\n",
       "   '코인으로 jiral말고 LH사건이나 시원하게 종결지어라',\n",
       "   '작성자에 의해 삭제된 댓글입니다.',\n",
       "   '제일 크고 썩은 놈들은 다 빠져 도망갔군. 역시 우리의 정부는 무능해!',\n",
       "   '작성자에 의해 삭제된 댓글입니다.',\n",
       "   '투기자들 걸리지도 않고 돈 벌고 정부를 도덕성이 없으니 투기자들만 신나네.',\n",
       "   '작성자에 의해 삭제된 댓글입니다.',\n",
       "   '계획대로가 될 수 없는 정책이다.정권말에 하는 정책은 지지부진할수밖에없고다시 원점화될수밖에 없다.지금이라도 다시 처음부터 전면 재검토하라!',\n",
       "   '국민한테 투기 하지말라더니 정부가 투기를 하는 꼴아니냐...왜 수사도 제대로안하고 사전청약한다고 그러냐...',\n",
       "   '작성자에 의해 삭제된 댓글입니다.',\n",
       "   '작성자에 의해 삭제된 댓글입니다.',\n",
       "   '작성자에 의해 삭제된 댓글입니다.',\n",
       "   '걍 다 취소하던가 최소 10년 지연시켜야됨.',\n",
       "   '예전에도 공무원들 다 들 땅투기 했었다.지금만 하는 것 처럼 그게 나쁜 것 처럼 여기는데 옛날 5공화국지나서 김대중전후로 공무원들 땅 투기 대대적으로 했었다.암암리에 지금 하는게 무슨 나쁜 범죄짓처럼 떠벌거리는데 그게 무슨 큰일이라고 떠들어대나?2000년대부터 땅투기 대대적으로 하고 도시개발본격적으로 이루어지고 오래된 건물 뜯어내면서 뭣도 모르고 땅을 팔아치운 사람들만 손해본거지.... 큰 잘 못을 한 것처남럼 투기 땅 몰수이 투기자본 몰수라고 남발을 하나?현직 ㄷㅌㄹ 일ㄱ 털면 먼지가 아니라 백두산까지 쌓아올릴거다.',\n",
       "   '뭐 하나 똑바로 하는게 없네']},\n",
       " 5: {'기사명': 'LH, 신혼부부 매입임대주택Ⅱ공급…시세 70~80%',\n",
       "  '날짜': '2021.04.29. 오전 10:16',\n",
       "  '추천수': '',\n",
       "  '좋아요': '2',\n",
       "  '훈훈해요': '0',\n",
       "  '슬퍼요': '0',\n",
       "  '화나요': '1',\n",
       "  '후속기사 원해요': '0',\n",
       "  '댓글 수': 3,\n",
       "  '댓글': ['시중 전월세 시세를 50% 이상 올려놓고...그걸 기준으로 70~80%로 임대??? 대단한 문재앙정부다....',\n",
       "   '매매혼 국제결혼커플들의 공공임대 입주도 금지시켜야 한다고 봅니다. 한국 입국한지 몇년밖에 안되서 낸 세금도 거의 없는 동남아 여성들이 신혼가점으로 공공임대에 입주하는 건 사리에 맞지 않습니다. 게다가 매매혼이 公公이란 개념과 양립이 되는건지부터 의문이고요. 남자쪽 나이가 최하 40이상에 조카뻘이랑 매매혼한 걸 신혼이라 쳐주다니. 신혼가점 말고 매매혼 가점이라면 모를까. 내국인 신혼커플도 1점 차이로 떨어지는데 뭔 동남아 인간? 한베커플들 큰삼촌이 조카가 결혼한 것처럼 나이 차이 많아서 아주 옆에서 보게 되면 민망하고 애들 교육상으로',\n",
       "   '어우 지겨워 신혼부부.무슨 벼슬인가!']},\n",
       " 6: {'기사명': 'LH투기 여파… 수도권 11만 가구 택지후보 발표 못 했다',\n",
       "  '날짜': '2021.04.29. 오후 6:26',\n",
       "  '추천수': '31',\n",
       "  '좋아요': '2',\n",
       "  '훈훈해요': '0',\n",
       "  '슬퍼요': '0',\n",
       "  '화나요': '117',\n",
       "  '후속기사 원해요': '1',\n",
       "  '댓글 수': 57,\n",
       "  '댓글': ['전수조사 한다더니ㅋ 뉴스에서 싹사라지고ㅋㅋㅋ 혹시나했는데ㅋ 역시나다ㅋㅋㅋㅋㅋ',\n",
       "   'LH 해체 안하냐?',\n",
       "   '저렇게들 해먹고는 애꿎은 내집마련서민들만 족치고있으니....진짜 나쁜 정부다',\n",
       "   'LH가 정말 필요한 서민들에게는 기준 깐깐하게 들이대죠.. 자격이 충분히 되도.. 이것저것 다따져들고.. 지들 해먹느라 자리가 부족했나봅니다.. 정말싫다..',\n",
       "   '자기네끼리 다해먹고 국민은 집도못사게 대출 다막음',\n",
       "   '와 진짜 짜증난다 다해먹는데 나만몰라 어디냐 도데체',\n",
       "   '평택도 조사좀해라 겁나 해먹은놈 천지다',\n",
       "   '더러운것들 비리,투기가 판을치네ㅡㅡ국민들만 쥐어짤줄알지 공무원들이 적폐다. 재앙이야 재앙.',\n",
       "   '국회는 특검이야기 쏙 들어감 ㅋㅋ나라가 코미디임',\n",
       "   '작성자에 의해 삭제된 댓글입니다.',\n",
       "   '지들 해먹은 자료는 다 삭제하고 공개하겠지 공범 범죄자들',\n",
       "   '왠지 꽁꽁 숨길 시간을 벌고 발표하겠다로 보이는데',\n",
       "   '민주당, 청와대는 끝이야~ LH 감싸는 이유가 니들이 투기 공범이잖아.',\n",
       "   '비트코인으로 LH 투기 전수조사 갈아타기 잘했네...나쁜 것들',\n",
       "   '일기는 세종시 행정수도 노 기획부동산투기정부,2기는 본격적은 전문영농인이 주도하는얌생이 신도시투기정권',\n",
       "   'LH보시해체 않하냐? 신도시 취소않하냐?여기도 같은상황안건가?',\n",
       "   '논란되고 들끓으니까 조용히 처리하는거네. 대놓고 감싸냐이젠',\n",
       "   '국토부야 니들이 머리가 나쁘든가 알고도 늑장 대응이지... 한심한 것들 ... 제발 금번 LH투기조사를 전국으로 확대해서 뿌리 좀 뽑아라. 대통령은 뭘하는지... 조사는 제대로 하고 있는지.... 정말 한심하다..',\n",
       "   '그냥 인허가만 졸라 하면됨... 공무원 다 모가지 잘라 버릴것들...',\n",
       "   '후폭풍이 감당 안될정도로 해먹은거야?!',\n",
       "   '그냥 다들 가만히 계셔... 부탁입니다',\n",
       "   '코인으로 열심히 덮더라.',\n",
       "   '클린봇이 부적절한 표현을 감지한 댓글입니다.',\n",
       "   '조사하면 뭐하냐 증거없음 봐주기식 처벌 안됨 이런식으로 처리 하는데ㅋㅋㅋ',\n",
       "   'ㄴ ㅐ 폐지해라.',\n",
       "   '이젠 놀랍지도 않네 ㅋㅋㅋ',\n",
       "   '국민 토지 뺏어다 지들식구끼리 투기하고 감평받고 땅팔고 아파트 팔고 지들끼리 분양받고 성과급 잔치하고!!! 국민 토지 헐값에 뺏어 지들끼리 북치고 장구치고 토지주는 토지뺏기고 벼락거지되고. 국민은 투기꾼 취급으로 집사도 죄인 땅사도 죄인인데 남의 사유지까지 뺏어다 지들 돈놀이판 만드네.',\n",
       "   '작성자에 의해 삭제된 댓글입니다.',\n",
       "   '이제는 국회의원 조사시작해야지?',\n",
       "   '작성자에 의해 삭제된 댓글입니다.',\n",
       "   '그래 다 해쳐먹으세요 출산율이니 집값이니 그것도 그냥 니들 호주머니 채우는 핑계거리일뿐이지',\n",
       "   '재건축 재개발은 개인의 토지 지분 도로채납으로 빼앗기고 수직 밀집 공간에 수용하는것이다.',\n",
       "   'ㅋㅋㅋㅋㅋㅋ',\n",
       "   '처벌은 처벌대로는 무슨.',\n",
       "   '대장 지구 전수 조사 해주세요. 지디가 김부선으로 된게 아무리 봐도 이상합니다. 대장 지구에 꿀 발라 놓은 듯...',\n",
       "   '작성자에 의해 삭제된 댓글입니다.',\n",
       "   '의혹이경미한곳..?? 정부가하는것마다 저모양이냐..?? 투기의혹을 조사하려거든,, 몽땅하고 말려면말아라...>> 누군봐주나..?? 바늘구멍에 뚝무너지는것도몰라..??? 대한민국정부가..그모양이냐..?? 관둬라~~!!!',\n",
       "   '더브러부패당!! 마~~이 무읏나?',\n",
       "   '10년간 -100만호 찍겠담 ㅋㅋㅋ 집값 10배가즈아~~',\n",
       "   'ㅋㅋㅋㅋㅋㅋㅋㅋㅋㅋㅋㅋㅋㅋ',\n",
       "   '풉병 맥이나요!....^^',\n",
       "   '클린봇이 부적절한 표현을 감지한 댓글입니다.',\n",
       "   '투기공화국',\n",
       "   '처분하길 기다리는 구먼~ 빨리 발표하고 투기한 놈들 당장 감옥에 집어 넣어라',\n",
       "   'ㅋㅋ 해먹을 수 있을 때 해라',\n",
       "   '작성자에 의해 삭제된 댓글입니다.',\n",
       "   '국민 등처먹는 뻔뻔한 LH',\n",
       "   '코인판만 족치더니 ㅋㅋㅋ',\n",
       "   '처벌은 처벌대로 공급은 공급대로ㅋㅋㅋㅋ 처벌 하긴하세요??',\n",
       "   '구더기가 무서워 장을 못담근거요? 타이밍은 놓치면 돌이킬수 없 습니다',\n",
       "   '그냥 발표하지말고 서울이나 재개발 재건축이나 하자...',\n",
       "   '그치 그거핑계삼아 공급늦게하고 부동산 뽐뿌질하는거지?? 정부야 니들속샘이 뻔하다 뻔해',\n",
       "   '직계 가족 거래라도 조사항 수 있는 것 아닌가? 더 큰 놈이 나올까 두렵나?',\n",
       "   '어차피 윗대가리들은 죄다 숨겼을거아니야ㅋㅋ',\n",
       "   '안싸질러놓은데가 잇긴하냐?ㅋㅋㅋ',\n",
       "   'L투기H',\n",
       "   '니 들잘하는 짓이네 이정권은 그냥 최악이다']},\n",
       " 7: {'기사명': '이해충돌방지법, LH사태에 8년만에 통과…190만명 대상',\n",
       "  '날짜': '2021.04.29. 오후 10:01',\n",
       "  '추천수': '67',\n",
       "  '좋아요': '320',\n",
       "  '훈훈해요': '4',\n",
       "  '슬퍼요': '2',\n",
       "  '화나요': '44',\n",
       "  '후속기사 원해요': '12',\n",
       "  '댓글 수': 185,\n",
       "  '댓글': ['민주당이랑 청와대 해쳐먹은 건 자체조사로 대충 마무리하고 시선 돌리는 거 보소 ㅋㅋㅋㅋ 역시 내로남불 끝판왕',\n",
       "   '20~30억 차익내고 벌금 7000 개꿀?',\n",
       "   '이익을 얻은금액가 투기한금액전부를 몰수해야지',\n",
       "   '이번 LH 사태 투기자들 소급은 안 된다고 하지 않았나요? 그것도 알려줘야지! 기자야~',\n",
       "   '벌금이 껌이니 의미읍네ㅋㅋㅋ',\n",
       "   'LH사태를 대충 얼렁뚱땅처리하는 민주당왜그럴까요?민주당도 LH정보를 얻지않았을까요?',\n",
       "   '벌금이 7천만원 이하라면 최대가 7천인거죠? 10억 벌고 최대 7천이면 뭐.. 정보수수료라고 생각하면 될듯.. 그걸 법이라고.. 이런 것이라면 몰수해야 하는 것 아닌가요?법이 법다워야지.. 참 나',\n",
       "   '본인들이 거의 해당되나보다. 징벌이 너무 약한거 보니. 그냥 국민들 눈치나 조금 보는척 내년 대선 있으니 법안 통과 안시킬 수도 없고 통과 시키려니 걸리면 큰일 날거 같고 대충 뭐 그런식이네.',\n",
       "   '\"미공개 정보로 재산상 이득을 취한 공직자는 7년 이하의 징역이나 7천만원 이하 벌금형에 처해진다. 미공개 정보를 받아 이익을 얻은 제3자도 처벌 대상이다.\" 7년 이상 징역이나 7천만원 이상 벌금형으로 바꿔라~',\n",
       "   '7천만원??? 어이가 없네그러면 lh는 어찌되는거냐? 해체해라 제발 좀',\n",
       "   '50억 해처먹고 징역 1ㅡ2년살고 벌금7천이면 괜찮네',\n",
       "   '소급 적용없는 게 포인트. 이미 지들끼리 다 해쳐먹고. LH 사태도 전면 무효화 아닌 이상 그냥 해먹은건 모른척가자 이거지',\n",
       "   '고작 7000천만원 벌금?공무원 자격박탈이나 직위해제등으로 강하게 해야 하지않을까?이정도 수준의 벌금이나 징역으론 무난히 할듯.. 형식적인 통과 같다..',\n",
       "   '8년 동안 고의적으로 통과 하지 않고 있었다는 얘기네요. 8년이면 더불은민충당이랑 국민의짐당 모두 해당이 되는군요. 역시 정치인들을 모조리 죽이지 않으면 이 나라에 미래는 없습니다.',\n",
       "   '형량이 왜 이렇게 적냐, 수십억 이득에 7천만원 이하 벌금이면 나라도 내부정보 이용한다. 배고파서 빵 훔쳐먹은 사람도 1년이상 옥살이 시킨거 뉴스에 나왔었는데, 쇼하냐. 형량 최소 10년이상 징역형과 동시에 원금과 수익분 전부 벌금으로 징수해라. 또한 재취업 금지시키고, 그러면 하라고 시켜도 안한다.',\n",
       "   '조국이랑 손혜원 윤미향 먼저 좀 잡아라. 이 개민주진보는 신발 문재인이는 5인 이상 모여 밥쳐드시는데 우리보곤 하지말래... 조국 손혜원 윤미향 김의겸 다 헤쳐먹으니 lh는 안 하겠냐?',\n",
       "   '놀구있네.. 그래서 그 많은 수사인력은 뭐하고 있는건데?? 수사한거 맞니?',\n",
       "   '왜 7년 이하냐 7년 이상으로 해야지 빠져나갈 구멍 만든거 아냐',\n",
       "   '벌금이 7천만원 이하? 짜고치는 고스톱이네... 양아치ㅇㅇ들',\n",
       "   '7년 이상 , 7천 이상이 아니고 이하?',\n",
       "   '투기로 20억벌고 7천만원 벌금낸다면 하겠나? 안하겠나?',\n",
       "   '어려운 소리하지 말고, 쓸데없는 법안도 만들지 말고, lh에서 해먹은 놈들 다 잡으라니까 도대체 왜 안 하는데?',\n",
       "   '해쳐먹을거 다 해쳐먹고 ㅎㅎ',\n",
       "   '꼴랑 벌금 7천만원??! 한 탕해먹고도 남는데 구데기 무서워서 장 못 담그리?!? 공뭔연금 박탈, 이익환수및 파면하고 징역 10년이상 감방에 쳐넣어야 한다',\n",
       "   '7천만원 내고 말겠지. 벌금 수준 가관이네',\n",
       "   '지들은 이득 다 챙겼으니 이제 엄한 사람들 단속하겠단 거지?',\n",
       "   '이해충돌방지법에 불지핀 박덕흠은 어디로 숨었나?',\n",
       "   '미공개 정보로 이득을 취한자는 7년이하의 징역이나 7천만원 이하의 벌금 머리가 있음 생각을 해봐라 7억을 벌어서 벌금 7천내고 6억4천남음 당연히하지 그렇게 하지말고 이익금을 전원 환수해야 안하지 남는게 없는데 왜하나 남는 장사니까 하지',\n",
       "   '이야 벌금 껌값이네... 이미 다들 로또 당첨 되어놓고.. 다음은 안된다..?? ㅋㅋ',\n",
       "   '언능. LH 나 해체 해라.대충 넘어가지 마라.국민의 분노가 하늘이다.',\n",
       "   '처벌이 너무 약하네요. 이득금 전액 환수+징벌적 벌금 정도는 돼야 의미있지 않나요?',\n",
       "   'Lh사태로 정부가 신뢰를 잃은건 맞지만 이런 법안 통과는 잘된겁니다',\n",
       "   '간만,다수당 역할 해냇구만!이제사라도,,',\n",
       "   '야..그래도 문재인 정부니까 이런거 드러내서 해결방법을 찾는거라구...',\n",
       "   '근데 lh사건 성추행사건 이런거 빨리해결안하네 지금박전대통령애기할때아님 더듬당 반성자숙합시다',\n",
       "   '적폐청산하듯이 기존에 저질러졌던 것들을 까발리고 단죄해야한다. TV에서 밝혀내고 있는 프로도 있드만.',\n",
       "   '7천? 장난하냐? 벌금 내고 부패 저지르겠다. 이익의 몇배환수 해야지 뭐냐 국개들아',\n",
       "   '아니 벌써 LH사태는 마무리하는거야..그럼 왜 시작한거지... 밖으로는 번지르한 말로 포얻고 안으로 실속은 다 챙기고.. 모지 이 더러운 기분',\n",
       "   '장난하냐? 7000만원이하 벌금이라고? 걍 70만원이라고 하지~~~써글~~~인간들~~~~그자녀들까지 공시채용 금지시키고~~~징역10년 이하가 아니고 10년 이상으로 고쳐라~~~벌금형도 이익금 전액 몰수 해라~~~',\n",
       "   '오 굿이네요이런법이빨리 생겨야했는데',\n",
       "   '국회의원 들은 여전이 빠져나가거나 솜방망이 처벌 받게 해놨구만 역시 입업 대단하네 당장 수천억 이해걸린 박덕흠 만 봐도 알수가있지',\n",
       "   '소급적용과 이익에 3배를 벌금으로 안했구나그렇구나.................',\n",
       "   '법안내용을 잘~들여다 봐야한다. 왜??? 1)국회의원들이 교묘하게 물타기해서 대상인원을 190만명으로 늘렸고 2)또 지들만 쏙빼서 국회법에 명시해서 미꾸라지 참기름 발라 빠져나가기 좋게 해놨는지도 봐야한다. 원체 믿음이 안가는 싸꾸라들이 만든 법이라서...',\n",
       "   '이번일은 아~~~주. 잘 한 일이다.',\n",
       "   '지금 시작하는 관급공사 다취소해라',\n",
       "   '1년뒤부터 시행 뭐하나 제대로 하는게 없고 8년동안 다해처 먹도록 도대체 당신들 뭐햇어 하는일 없이 놀고먹는 아무쓸때도 없는 국회의원 퇴출시키는 법좀 재발 빨리 만들어라 다해처먹고 뒤북치지말고',\n",
       "   '이런거 만들어봐짜 민주당인사들은 ㅋㅋㅋㅋㅋ처벌안받는데 법만둘먄 뭐해. ㅋㅋㅋㅋㅋ증거가 차고 넘쳐도 처벌 안받는무법민주당',\n",
       "   '벌금 내면되고 수십억 벌고 짤리면 되고공직자 비리의 최대 해결책은 공직자수를 줄이는것',\n",
       "   '여야를 떠나 이해충돌방지법을 지키지 않는다면 국회의원직 상실시켜라.',\n",
       "   '실효성도 없고 알맹이 없는 생색내기 법안. 소리 안나는 방울달기~',\n",
       "   '7천만원 이하? 응?',\n",
       "   '지금 조사받는 사람들 전부 몰수시켜라.법만 제정하면 뭐하냐?소급하라.그렇지않다면, 단단히 심판받을것이다. 내가 당신들을 왜뽑았는지...내 인생 최대의 오점이다...',\n",
       "   '지금까지 안하고 이제서야? ㅋㅋ 이제라도 하는걸 다행이라고 해야 되나. ㅋ 그래서 어기면 처벌은? 적어도 이익 본거의 10배는 물려야 그딴짓 안하지 않을까? ㅋ',\n",
       "   '재산 몰수해야지 약하다',\n",
       "   '7년 이하의 징역이나 7천만원 이하의 벌금이란 얘기는 징역 6개월이나 벌금 6백만원으로 끝낼수도 있다는 얘긴데... 7백억 해먹고 징역 7년에 벌금 7천만원 얻어맞는다 하여도 크게 남는 장사네... 이걸 법이라고 만든거냐? 징역 최하 몇년... 벌금 최하 몇억 또는 재산몰수 이런 법을 만들어야지... 귀에걸면 귀걸이 코에 걸면 코걸이... 다 빠져나갈 구멍있는 법도 법이라고 할수있냐? ㅉ',\n",
       "   '뭔가 빠진게 있을거야.저것들이 왜 국개의원 인데',\n",
       "   '민주당 180석왜줬어요투표 잘하세요내년 3월7일 시민단체 얼마 주고 알려 달라 그랬나요?세상 천지 꽁짜 있나요?민주당 야그해라',\n",
       "   'ㅋ.이거 국힘이 여당일때 발의된거잖아.걸국 민주당것들,공무원애들의 패악질 때문에 그동안 뭉개졌던거구만.ㅋ',\n",
       "   '군사혁명정권이 아닌이상 국민들 기존제도문화관습을 하루아침에 깡그리 뒤집을순없다 점진적 개혁으로 차츰차츰 올바른 법규제도에 따라 국민준법문화수준이 개선될것이다',\n",
       "   '지들 해먹은거 쏙빼고 이제부터 안돼!ㅋㅋㅋ이야 너희진짜 쓰레기들이다',\n",
       "   '10년동안 다해쳐먹었나보네ㅣ',\n",
       "   '잘하고 있네.몇십년만에 드디어 빛을 보누나.발의만 하면 뭉기적뭉기적 개기다가 폐지되고 하더니 그래도 민주당은 처리하네.한나라당이었던 국민의힘 족속들은 정말 시늉만 내고 절대 안했다. 야들이 다수당이면 안할거야.못하는것도 많지만 민주당 이것만은 잘하고 있다.',\n",
       "   '해쳐먹을건 다 해쳐먹고 정권 말기에 ㅋㅋ 어차피 법률 불소급 계산한 거 아니냐?',\n",
       "   '이번에 반대하면 골로가니까 국힝당도찬성하네',\n",
       "   '제대로 지켜지고, 관리될수 있도록 우리 국민 모두가 관심을 가집시다. 뭐 1년 뒤에 발효된다지만...지금부터라도 계속 지켜봅시다.',\n",
       "   '그래 잘 했네 진작에 했어야 하는법을~ 보수당이 다수였으면 불가한 법안 이었을거다~~',\n",
       "   '벌금은 없애라 실형만가능하도록 만들었어야지',\n",
       "   '클린봇이 부적절한 표현을 감지한 댓글입니다.',\n",
       "   '국개의원 면책특권은? 이게 제일 문제인데?',\n",
       "   '더큼이 가튼 놈들 못해먹게 해야 되는데',\n",
       "   '클린봇이 부적절한 표현을 감지한 댓글입니다.',\n",
       "   '울며 겨자먹기라고 그러지!',\n",
       "   '공직자 주식보유현황 철저하게 조사해라근무시간에 접속한 투잡족 이나 내부정보 이용 쓰레기들 처리해라!!!',\n",
       "   '법이약하다. 7천이하벌금이나 7년이하징역. 해쳐먹는건 거의 몇억~수십수백억원대인대 처벌보다 해먹는게훨씬크잖아',\n",
       "   '작성자에 의해 삭제된 댓글입니다.',\n",
       "   '이미 이익 챙긴 사람들은 안도. 불똥 튀는 것은 가만히 있던 다른 일반 공무원들',\n",
       "   '그동안 법이 없었다는게 더신기',\n",
       "   '작성자에 의해 삭제된 댓글입니다.',\n",
       "   '이법안 소급적용 해야한다. 지금 드러난 직무관려 장보를 이용한 넘들 소급 적용하여 잡아 넣고 환수.해야 정의가.바로 산다.',\n",
       "   '이미 이해충돌로 사전정보를알아 취득한 이익에한해서는 어떻게되는건지 법재정 전이기때문에 봐주는건가?',\n",
       "   '맞네 벌금이 이득에 비해 새발의 피네 한 200% 때리지',\n",
       "   '소 잃고 외양간 다 태워묵꼬 이제서야',\n",
       "   '국개의원들도 조심해야 겠다. 또 저걸 정치적으로 악용하는 견찰도 있을 것 같긴 한데, 공수처도 있으니... 아무튼, 잘 된일이다. 이런 걸 처리해야 여당을 과반이상 몰아준 것에 대한 보람을 느낄 듯. 아침부터 대깨문들의 문자폭탄 기사 보자 마자 열 받았는데..',\n",
       "   '벌금이약하다 징역대신이면 7년or 7억은해야할듯',\n",
       "   '사회에 끼치는 영향에 비해 형량이나 벌금 액이 적기는 하지만 지금이라도 시행 된게 다행입니다. 무려 8년... 국민들의 법감정과는 괴리가 있지만 더욱 발전되고 나아지기를 바래봅니다!',\n",
       "   '신고의무를 다하지 않은 국개의원들은 징계한다네요 징계 ㅋㅋㅋ 징역형으로 다스려라',\n",
       "   '공공개발 현금 받고 나갈시 실거래가로 보상해라~ 공시지가 받고 어디가서 집을 사나...그냥 내쫓기는거지~그래놓고 지들은....',\n",
       "   '작성자에 의해 삭제된 댓글입니다.',\n",
       "   '법이 없나? 있는 법이나 제대로 적용해라. 전부 내로남불이나 하고 말단 들만 괴롭히지 말고',\n",
       "   '그럼 기존 비리들은 묻히는건가요?',\n",
       "   '작성자에 의해 삭제된 댓글입니다.',\n",
       "   '늦었지만 지금 이라도 통과 되었으니까 최고예요얼른 법데로 해서 우리나라 좋은나라 만들어 봅시다서민들 좋은나라 물가안정되고 부조리 없는나라 일 하기 좋은나라 아자자 화이팅',\n",
       "   '공무원이 상식적이고 양심적이야 나라다운 나라가 된다 ㅡ 헌 정권 끄나풀 얼마남지 않았다',\n",
       "   'LH 조사 중간보고공유해라! 떠블당 얼마나 많이 해쳐먹었는지 좀 보자!',\n",
       "   '176석을 몰아 주니까 법안통과가 잘되네국힘당의원들은 얼마나 찬성햇나?',\n",
       "   '7천은 그닥..',\n",
       "   '신도시 다 취소해라 사기꾼들 ~~ 내년 대선때보자',\n",
       "   '여론에 떠 밀려서 했겠지만 국회의원들 오랫만에 제대로 일하네요. 앞으로도 국민 무서운 줄 알고 제대로 일하시길 바랍니다.',\n",
       "   '지들 해쳐먹을것 다 해쳐먹고. LH투기군들 다 조사나 해라이제와서 뭘방지한다고? 내로남불. 꾼들이다',\n",
       "   '국짐국개의원들 밥줄 끊였네~~~',\n",
       "   '전재산 몰수하고 길거리에서 굶어죽게하지않는한...계속된다...쭈~~~~~~욱...ㅋㅋㅋ ㅋㅋ ㅋ',\n",
       "   '다 부질없다~~~',\n",
       "   '작성자에 의해 삭제된 댓글입니다.',\n",
       "   '성매매금지특별법과 김영란법(청탁금지법)처럼 용두사미가 되거나 유명무실해 질 것이라는 데 겁니다. 처벌이 아주 혹독하거나 감찰이 물샐 틈 없어야 하는데 우리나라는 늘 그렇지 못했거든요..',\n",
       "   '친척들도 토지 언제 취득했는지 전부다 감시 대상으로 해야지..공무원이라면 전부다 볼 수 있게..의심가면 국세청 조사 받으세요^^',\n",
       "   '작성자에 의해 삭제된 댓글입니다.',\n",
       "   '다필요 없도 국회의원 특권 및 연봉 절반 감축해라',\n",
       "   '니들 그동안 뭘 감추느라 개긴겨?',\n",
       "   '아마그래도 해쳐먹을거다 한마디로 LH는 공기업으로 썩었다 완전 도둑놈들 양성기업이다 직원인가 한놈이 세월지나면 잊혀지고 그만둘때까지 해쳐먹고 빨아먹겠다고 한 기사는 뭔가? 떠불당국개 투기는 왜 조사하다마나? 이게 나라인가 반드시 부메랑될거다',\n",
       "   'ㄹㅇ 국민을 🐕 🐖 취급하는구나 전재산몰수해도 시원찬을 판에 눈가리고 아웅이네',\n",
       "   '이제 시작',\n",
       "   '7천만원 벌금내고 하면 할만하겠는데?',\n",
       "   '맨날 지들은 다 해먹고 신삥들은 못하게 하는군.',\n",
       "   '장난 하냐. 이렇게 벌이 약해서야. 이익금 몰수 혹은 몇 배로 내게 하고 8년 이상 징역해야.',\n",
       "   '홍남기 큰소리 치더니 한게없네',\n",
       "   '여긴 공산국가인가? 뭐든지규제에 아주나라를 잘 말아드심',\n",
       "   '현정부에서 땅값짒값 최고가갱신했으니...그러니 안얽힌 자가있을까?',\n",
       "   '이제서야...300 도적놈들!',\n",
       "   '저번국회 : 반대로 무산되고 있습니다. 이번국회 : 머 통과됬다고? 먼법인데?',\n",
       "   '즉 뭐다? 국민은 개돼지다~ ㅋㅋㅋㅋㅋㅋㅋ 이미 국민을 먼저 생각하는 사람들은 좋은 법안을 생각해냈고 발의까지 했지만 정치인들의 사사로운 감정 고작 이것 때문에 이때까지 국회 통과를 못했어 ㅋㅋㅋㅋㅋ 얼마나 우스꽝스럽냐',\n",
       "   '작성자에 의해 삭제된 댓글입니다.',\n",
       "   '밀어부치당 너희들적폐는괜찬은거야 지금나라꼴이말이아니다',\n",
       "   '클린봇이 부적절한 표현을 감지한 댓글입니다.',\n",
       "   '클린봇이 부적절한 표현을 감지한 댓글입니다.',\n",
       "   '이득의 몇배를 벌금 때린다이말은 왜 없어지고 7000만원이냐? ㅡㅡ',\n",
       "   '작성자에 의해 삭제된 댓글입니다.',\n",
       "   '🐕 법이네~ 형식적? 땅투기했는데 ㅎㅎ 요즘~ 7 천만원? 돈이야~~~',\n",
       "   '이해충돌의 개념 자체가 없던 넘들이 갑자기 이런 법을 만든다니 또 무슨 꿍꿍이를 숨기고있을까 이런 의심부터 드네 ㅋㅋㅋㅋㅋㅋㅋㅋ',\n",
       "   'LH는 이해충돌 방지법을 위한 재물이었구나.',\n",
       "   '그래도 공무원은 좋은 직업들중 상위다.',\n",
       "   '작성자에 의해 삭제된 댓글입니다.',\n",
       "   '클린봇이 부적절한 표현을 감지한 댓글입니다.',\n",
       "   '어찌되었던 이제부터라도 부정부패가 없어지는 출발점이 되기를 희망합니다',\n",
       "   '다음 번에는 시간강사 논문 표절해서 대학 교수된 것들도 포함해서 통과되기를..',\n",
       "   '작성자에 의해 삭제된 댓글입니다.',\n",
       "   '이제서야 통과',\n",
       "   '이건 잘 했다 . 고위 공무원 집안에 하나 있으면 그 집안 뿐만 아니라 지인들 까지 다 해먹더라 .',\n",
       "   '국개의원 노ㅁ들은 구멍 마련해놓은거아니가??법안조사잘해봐라',\n",
       "   '작성자에 의해 삭제된 댓글입니다.',\n",
       "   '캬 지들 다 해처먹고 난 뒤에 통과시키는 거 보소 ㅋㅋㅋㅋㅋㅋㅋㅋㅋㅋㅋ',\n",
       "   '그나마 이당 이니 이리 되지!장가 새끼 봐라 차사고에 사람 패도 누가 뭐래나?아빠새끼가 그럼 안돼 한마디 지꺼리겠지 꿀꿀하고',\n",
       "   '벌금내고말지. 이득이 얼만데.',\n",
       "   '근데 이게 왜 이제야 통과된 거지... 이런 거는 빨리짤리~',\n",
       "   '특검 꾸러서 공직자와 공공기관 직윈들 근무시간 주식접속 이력 추적해서 이익 환수하고 징계해라!!! 근무시간 접속은 부당이득이다내부정보도 절반 이상 일꺼다!!!',\n",
       "   '20~30억벌어 7천벌금내면 누가 겁먹냐~~',\n",
       "   '뭔 사건 터졌다하면 제대로 검토도 안하고 막 만드는 법.. 걱정된다',\n",
       "   '나랏일 한답시고 뒤론 한탕질 할 생각만 하고 사는 도적늠들 예나 지금이나 도적늠들이 너무나 많다',\n",
       "   '작성자에 의해 삭제된 댓글입니다.',\n",
       "   '투기금 압수 및 사회 환원 환원금 일부 주민 보상',\n",
       "   '작성자에 의해 삭제된 댓글입니다.',\n",
       "   '7천만원이하는뭐냐? 7천만이상으로하던지 소득에10배로하던지? 수억,수십억 벌고 최고7천만원? 생색내기냐?',\n",
       "   '백명의 경찰이 한명의 도적을 못 막는다는 이런 옛말이 있던데 결국 아무리 공직자윤리법이 강하다해도 그속에서 또다른 방법이 생겨나지. . .',\n",
       "   'LH가 큰일했네',\n",
       "   '공직자가 적폐의 끝판왕',\n",
       "   '박덕흠 하고 주호영도 적용되려나?',\n",
       "   '작성자에 의해 삭제된 댓글입니다.',\n",
       "   '클린봇이 부적절한 표현을 감지한 댓글입니다.',\n",
       "   '이익금의 3배로 하시죠~',\n",
       "   '클린봇이 부적절한 표현을 감지한 댓글입니다.',\n",
       "   '전 국민의힘 출신인 박덕흠인가 하는 자는 앞으로 조심해라!',\n",
       "   '작성자에 의해 삭제된 댓글입니다.',\n",
       "   '클린봇이 부적절한 표현을 감지한 댓글입니다.',\n",
       "   '이미 다 해 먹고 다음엔 만진당 떨어질 것 같으니 통과 한거겠죠 .',\n",
       "   '꼭 일 터지고 통과나 하고',\n",
       "   '작성자에 의해 삭제된 댓글입니다.',\n",
       "   '만시지탄...에혀...',\n",
       "   '그나마 민주당정권이니 본회의 통과된줄 알아라!! 이 국힘댓글알바들아!!~국힘당이었어봐라!!',\n",
       "   \"그거 꼭 올려~8년전 방해한 것도 한나라당이고, 오늘 가슴아프게 본 꼬꼬무의 '7번방의 선물' 영화 원 얘기인 정원섭씨 조작사건 국가배상 무효도 박근혜 정권 때인거\",\n",
       "   '국짐당국개와 정치판검새 경실련 의협 사학 키운 삼성조중동정치검새 공화국 한경매경헤럴드 설갱제등등 족벌전경련찌라시들과 국민 문화 개독찌라시들아 오세이돈과 그 측근이 투기질한건 일급비밀이제????lh 터트린 경실련 오세이돈패거리들이 투기질한건 콘트리트로 덮을겨?????정치판검새들은 일 안하냐????',\n",
       "   '꼬리 자르기의 대가 민주당! 시민단체 내세워서 이익은 그냥 처먹네요.',\n",
       "   '야당이 그동안 법안발의와 입법절차등에서 긴긴시간을 끌며 반대하더니 드디어 빛을 보게 됐네요~부패의 원상지가 지금의 국민의힘이라는건 다들알죠??',\n",
       "   '손혜원 조국이 7년 감옥 가는 거야??',\n",
       "   '여러분 이거 다~ 거짓말인거 아시죠?',\n",
       "   '정권말에 빨리도 ㅎ',\n",
       "   '쥐바귀와 닭머리때는 머했을까? ㅋㅋ',\n",
       "   '이걸 전화위복이라거 하나. 이렇게 당연한 법이 이토록 질질끌다 lh땜시 통과되었다고 하는 코메디가. 민주당 정권의 발목을 제대로 잡은 것처럼 보이지만 실제 이 법 통과로 걸릴까봐 가슴이 콩닥콩닥 거리고 있는 애들이 민주당이 많을까 아님 국민의 짐이 더 많을까. 그 뿌리가 너무 깊고 넓게 퍼져있어서 뽑히지 않던 적폐의 암덩어리들이 이제 걸리기만 하면 빠져나가기가 쉽지 않게 되었으니 앞으로 더 흥미진진한 얘기들이 개봉박두 대기상태에 들어가는구나...',\n",
       "   '대깨문들 일제히 들고일어났네...ㅋㅋ잘못하면 처벌받아야지..남은조작질로 처벌하고 니들은 조작질로 죄를 덮어...해처먹은것들 사형시켜봐라 그딴법 안만들어도 ...또해처먹고 그에대한법또만들고..ㅋㅎㅎ',\n",
       "   '토왜정권에서는 꿈도 못꿀일 드뎌',\n",
       "   'ㅊ이게 이제야 통과 하나',\n",
       "   '그나마 이 정부니까, 이해충돌방지법도 하고 가상화폐 대책도 서두르고, 소액투자자 보호도 하려하고, 전국민고용보험제도 하고, 재난지원금도 주고, 부동산투기를 친일재산처럼 소급환수하고, 무주택자를 위해 집값도 잡으려 하고, 의료인력도 확충하려 하고, 서민들을 위한 좋은 의도로 최저임금도 올리고 노동시간도 단축하려 하지..부자들만 위한 이명박근혜였다면, 심지어 사립유치원마저 자기편이라고, 부자들끼리만 서로서로 잘해처먹으라고 음으로 양으로 해왔는데..문재인이 되면서 정말 사람사는 세상이 오더니..이제 정말 한번도 경험하지 못한 세상이..',\n",
       "   '작성자에 의해 삭제된 댓글입니다.',\n",
       "   \"이건 딱봐도 명칭부터가 뒤가 구린, 절대로 공직자 비리를 막기위한게 아닌, 그냥 '차별금지법'과 같은 맥락으로 보인다 (정치적 이념이 다른)개인, 혹은 집단간에 있을수있는 각종 '이해관계의 충돌'이 발생했을때, 기사에서 밝히지않고 숨기는 어떤 조항을 명분으로, 편향된 어느쪽(당연히 그짝)의 '이해'에만 손을 들어주겠다는, 명칭부터가 공산주의 법안같다. 아니라면 왜 굳이 전혀 무관해 보이는 '의사충돌방지법'이란 명칭을 썼을까? 이 명칭 어디에 '국회의원/공직자의 사익비리 추구 방지'라는 의미가 엿보이나? 국민들을 진짜 바보로 아냐?\",\n",
       "   '국힘이었으면 LH사태 터졌어도 이해충돌방지법 통과 안하고 뭉겠을거다..ㅋ',\n",
       "   '미흡하지만 그래도 민주당이니까 했다',\n",
       "   '국짐의 방해공작을 뚫고 법을 통과시켜서 다행입니다. 하지만 국짐의 똘마니 검새가 그들을 수사할 리가 없죠']},\n",
       " 8: {'기사명': \"'LH사태'에…내달 전금융권 비주담대 LTV 규제 적용\",\n",
       "  '날짜': '2021.04.29. 오후 2:30',\n",
       "  '추천수': '3',\n",
       "  '좋아요': '0',\n",
       "  '훈훈해요': '0',\n",
       "  '슬퍼요': '0',\n",
       "  '화나요': '16',\n",
       "  '후속기사 원해요': '0',\n",
       "  '댓글 수': 4,\n",
       "  '댓글': ['지네는 실컷 해쳐먹고 니네는 안된대',\n",
       "   '무슨소린지 쉽게 설명하주실분ㅜ',\n",
       "   '자기네들이 다해쳐먹고 국민들한테 책임을 지우네요...',\n",
       "   '중국인들 대출도 막아주세요.자국민 대출규제만 하지말고']},\n",
       " 9: {'기사명': \"LH 땅 투기 사건 '후폭풍'…수도권 신규택지 발표 연기\",\n",
       "  '날짜': '2021.04.29. 오전 11:38',\n",
       "  '추천수': '12',\n",
       "  '좋아요': '35',\n",
       "  '훈훈해요': '1',\n",
       "  '슬퍼요': '1',\n",
       "  '화나요': '16',\n",
       "  '후속기사 원해요': '1',\n",
       "  '댓글 수': 25,\n",
       "  '댓글': ['미뤄지는 동안 또 사겠지...',\n",
       "   '선거끝나니까 지들 땅투기 검사하자던말들 다 쏙 들어갔네?ㅋㅋㅋㅋ',\n",
       "   '선거전 ㅡ투기이익 전액 환수하겠다. 선거후ㅡ 흐지부지',\n",
       "   '대곡은 gtx 포함 5개 노선이 지나감에도 토지거래 허가구역이라 투기를 못해서 개발 안함, 투기전문 고양시장 이재준은 지가 투기한데만 기를쓰고 개발함 코메디',\n",
       "   '줍줍할 시간 벌고 차명으로 거래하겠지.',\n",
       "   '3기 신도시들= 아랫도리 민주건달 비자금 저수지',\n",
       "   '코로나 라이브처럼 LH투기수사 라이브 만들어서 LH 투기 수사 진척사항 매일 업데이트 하고, 매일 코로나 환자 몇명 발표하는 것처럼 매일 조사대상 직군별로 나누어서 발표하자.이번 기회에 부동산 투기 뿌리 뽑을려는 의지가 있다면 이렇게 하면 된다. 투기자 발표할때는 누구인지 실명 밝히고, 땅 가지고 장난치면 안된다는 인식을 심어줘야 한다. 더불어죽어라당은 투표만 없으면 아무것도 안하는 짓은 이제 그만둬야 한다. 기대는 안하지만 최소한 인간이라는 단어에는 부합하길 바란다',\n",
       "   '돈 권력자들 손에 책임과 피해는 국민 ?',\n",
       "   '그냥 지정해야 오히려 땅을 못사지....투기한사람은 처벌하면 되잖아....',\n",
       "   '잠잠해지는 LH사건 이대로 자연스럽게 묻으려는건 아니지?^^',\n",
       "   '속도감 속도감 말만....속도감 하나도 없는데?',\n",
       "   '신도시 다 해제하라.',\n",
       "   '3기취소. 2기,1기, 지방신도시 소급 조사',\n",
       "   '국회의원들 전수조사 어떻게 되가냐~~~이것저것 물타기로 벌써 국민들의 기억에서 잠수타는중인가',\n",
       "   '아니 뭔 뉴스 볼때마다 화나요가 있누ㅋㅋ 웃는 표정을 볼 수가 없네 민심 화나있누',\n",
       "   'LH는 처벌 다 없는겨? 통령이 왜 사과했냐?ㅋㅋㅋ',\n",
       "   '서울 내 그린벨트 비율 줄여서 인구 수용해 무슨 서울에 그린벨트야 자연은 경기도나 강원도로 넘겨 분업해야지 강원도 관광도 살리면서 서울 요지에 주택공급하여 집값도 잡고 월메나 좋아',\n",
       "   '미친 집값 좀 원래대로 돌려놔라. 집 없는게 지옥같다',\n",
       "   '작성자에 의해 삭제된 댓글입니다.',\n",
       "   '쥐길넘들 작작해처먹어라',\n",
       "   'LH만 문제 아니다..공무원들 하는 꼬라지 봐라 ...근데 개똥은 누가 치우냐고?',\n",
       "   '아직 다 못샀니??',\n",
       "   '김포 검단에서 난리치니까 일부러 후퇴한듯',\n",
       "   '작성자에 의해 삭제된 댓글입니다.',\n",
       "   '세종 국회이전 막으려고 이렇게 방패막이 만드네']},\n",
       " 10: {'기사명': 'LH, 감사원 출신 염호열 상임감사위원 임명… 임기 2년',\n",
       "  '날짜': '2021.04.30. 오전 8:25',\n",
       "  '추천수': '',\n",
       "  '좋아요': '0',\n",
       "  '훈훈해요': '0',\n",
       "  '슬퍼요': '0',\n",
       "  '화나요': '0',\n",
       "  '후속기사 원해요': '0',\n",
       "  '댓글 수': 0,\n",
       "  '댓글': []},\n",
       " 11: {'기사명': 'LH, 염호열 신임 상임감사위원 임명',\n",
       "  '날짜': '2021.04.30. 오전 8:09',\n",
       "  '추천수': '',\n",
       "  '좋아요': '1',\n",
       "  '훈훈해요': '0',\n",
       "  '슬퍼요': '0',\n",
       "  '화나요': '0',\n",
       "  '후속기사 원해요': '1',\n",
       "  '댓글 수': 0,\n",
       "  '댓글': []},\n",
       " 12: {'기사명': \"LH 신임 감사위원에 '감사원 출신' 염호열씨 임명\",\n",
       "  '날짜': '2021.04.30. 오전 9:17',\n",
       "  '추천수': '',\n",
       "  '좋아요': '1',\n",
       "  '훈훈해요': '0',\n",
       "  '슬퍼요': '0',\n",
       "  '화나요': '0',\n",
       "  '후속기사 원해요': '0',\n",
       "  '댓글 수': 0,\n",
       "  '댓글': []},\n",
       " 13: {'기사명': 'LH 염호열 신임 상임감사위원 임명',\n",
       "  '날짜': '2021.04.30. 오전 8:19',\n",
       "  '추천수': '',\n",
       "  '좋아요': '1',\n",
       "  '훈훈해요': '0',\n",
       "  '슬퍼요': '0',\n",
       "  '화나요': '0',\n",
       "  '후속기사 원해요': '0',\n",
       "  '댓글 수': 0,\n",
       "  '댓글': []},\n",
       " 14: {'기사명': \"LH 사태에 불안했던 신규 택지, 결국 차질…향후 일정도 '위태'\",\n",
       "  '날짜': '2021.04.30. 오전 5:17',\n",
       "  '추천수': '16',\n",
       "  '좋아요': '13',\n",
       "  '훈훈해요': '1',\n",
       "  '슬퍼요': '1',\n",
       "  '화나요': '69',\n",
       "  '후속기사 원해요': '6',\n",
       "  '댓글 수': 55,\n",
       "  '댓글': ['3기도취소해야지, 제발 멀좀 잘못했으면 우겨서 하지말고 반성좀하고 신혼부부니 다자녀니 그딴거에 치중하지말고 진짜 최초주택구입자에게만 싸게 공급해라. 가격쳐올랐을때 시세 70~반영한다는 변같은소리말고 비싸서 들어갈수나있을까? 공급해도 또 위장결혼 입양으로 있는놈들이 다해먹겠지',\n",
       "   '그냥 재개발, 재건축 규제 다 폐지하고 민간에게 공급을 맡겨라... 자기 돈으로 자기 집 짓는데, 정부가 왜 나서서 부동산 시장을 왜곡시키고 공급을 어렵게 하여 가격 폭등으로 이어지게 하나?',\n",
       "   '차질 위태가 문제가 아니라 다 취소해라 투기꾼 사기꾼 LH애들 은행 대출 받아서 땅산거 전수조사 힘들고 제대로 처벌 못할거면 전면 다 취소가 맞다',\n",
       "   '다 잡아 쳐 넣으면 기다릴 수 있다!!!',\n",
       "   'LH해체하라. 답없다. 부정부패 집단 비리의 온상지',\n",
       "   '무조건 LH해체, 신도시 취소',\n",
       "   '울산 선바위일대 그린벨트지역 만오천가구 조성인구유입도 없고 계속 빠지는데...개구리다 구려 ㅋㅋ 문스발 너네 한만큰 꼭 당한다',\n",
       "   '취소해라. 이건 그냥 안넘어갈거다. 아무리 국민이 호구라도 이건 못참을것이다. 신도시 취소해라.',\n",
       "   '이거 뭐 믿고 주택공급이다 택지개발이다 국민들이 납득하겠습니까? 투명하게 진행된다는걸 아니면 계획을 책임지고 얘기해야 하는데 누굴 믿겠습니까? 임기 안남은 대통령이 그까이꺼 대충얘기하다가 이번정부 대충 끝나겠네요 제발 집안 단속하시고 뭐하려고 하지마세요 국민힘듭니다',\n",
       "   '강제수용법이 토지보상법으로 명칭만 바뀌었고 수용당하는입장은 전속감평사의 정부하수인으로 최저가로 후려치고 건설사는 공사비 부풀려 막대한차액은 사유재산 갈취 부정축재의 온상이 아니면 왜 터무니없는 할값이 될까요 Lh가127조부채는 누군가 도둘질 안했으면 잉여금이100조되어야 맞는거지요 원가에 따따블로 분양하는데 왜 부채가 127조 이건 오래된 관행이 아닌가요 전속감평제도 폐지하고 공인중개사 시민이 참여해야 부조리를 막고 사유재산 보장될것입니다',\n",
       "   '신도시 싹 다 취소해라 누구를 위해 밀어부치나 변창흠 사표도 신도시 매듭짓고 가라고 붙잡고 있던 오만 무능한 문씨 부터 정신 차려야지',\n",
       "   '능력없고 불공정한 끝물 정권은 나서지 말고 다음 정권으로 넘겨라 믿음이 전혀 안간다',\n",
       "   '어느세 조용해진 LH 사태....',\n",
       "   '민주당은 다시는 없습니다.',\n",
       "   '일단 나라 세금 도둑들부터 잡고....강북에 재개발이 필요한 지역이 엄청 많아요...우선 낙후된 변두리 은평.중랑.노원.강북.도봉구만 잘 정비해도...',\n",
       "   '국민들도 부동산 소급적용했으니 이들도 꼭 소급적용 하세요',\n",
       "   '3기는 왜 취소 안하냐? 니들이 많이 사놔서?',\n",
       "   '아파트에서만 살려고하니 수요부족이지.일반 다세대주택 빈방 허다하다.',\n",
       "   '신도시 취소해라',\n",
       "   '다 핑계고 나라에 돈이 없어서 보상도 공사도 못하는 것임',\n",
       "   '박정희시대 강남개발부터 배운 일확천금 재테크 수법인데 그게 하루아침에 해결할 방법이 있는데 지금까지 놔뒀겠어요? 아무리 부족해도 수입 못하는 땅만이 땅땅거리며 살 수있는 재산 불리기로 왠만한 조건 좋은 땅들은 사회 상류층과 도시자본가 소유가 된지 오래인데. 필요하지 않는땅 소유를 줄알려면 보유세를 많이 올려야죠',\n",
       "   '하는일이 어째 다 맘에 안듬',\n",
       "   '무능 부폐. 또 무능 부폐.......',\n",
       "   '취소해라.재산몰수,소급적용도 꼭',\n",
       "   '원주민외에 투기꾼들은 매매가로 보상해주고머리좋은 투기꾼 잡는 부서를 국세청에 ?',\n",
       "   '건교부 수준 입니까? 감정가기준해서 땅값 오른 만큼 회수하시고 오른 만큼 환원하세요. 어쩜 회수필요도 없을지 몰라요. 감정가 기준으로 모든것 처리하고 소유기간 따라 보상액 차별화 하세요. 강제수용 강화하고요. 예전의 사례를 분석하고 대책을 세워야지요. 무조건 국민들이 공직자들이 청렴해지면 집값 잡힐까요? 가장 중요한것은 정책입안자와 결정자들이 손해를 보지 않으면 안된다는거지요. 솔선수범!',\n",
       "   '전수 조사해서 투기꾼 발본색원 하라',\n",
       "   '클린봇이 부적절한 표현을 감지한 댓글입니다.',\n",
       "   '결국에 연기될 뿐이지 지정됐던 신규택지는 국민들 분노 가라앉으면 언제고 다시 지정될꺼라는데.... 서울 인근에 새로운 신규택지로 지정할 땅이 없다고 하던데...',\n",
       "   '전수조사 아직도 안하고 진척없네 개노답 이정부',\n",
       "   '토지보상 제대로 되지도 못하는 상황에 분양신청부터 받어? 지나가는 똥개가 웃겠다 문씨야 ㅋㅋㅋㅋㅋ',\n",
       "   '대한민국 곳곳이 안썩은데가 없고 정직하게 살면 바보 소리듣고 이미 인성들이 자기중심에 폭력성이 강해지고 전부 도둑놈 심뽀에 양심없는 쓰레기 인성임 대한민국은 머지않아 망함',\n",
       "   '쓰레기 언론들이 범죄자 취급하더니 기소도 못하네,죄없는 사람들을 여론재판하네.',\n",
       "   '코인은 오를지 모를지 모르지만. 이건 대놓고 사기친건데???',\n",
       "   '서둘러 발표를 못한게 아니라 관계자 투기정황이 또 나왔겠지, 신도시 자체를 취소시켜라',\n",
       "   '신임 LH 사장은 세금 전문가.. 국토부장관은 위장 전입에 꼼수 투기 전문가... 주택 정책이 참 잘 돌아가겠네요.',\n",
       "   '정부는 \"부동산카지노\"를 일정한 지역에 개설하여 부동산욕망을 양성화하라.그리하여 미래세대와 무주택자들을 투기판에서 보호하라',\n",
       "   '도사개발멈추세요. 불법 지분쪼개 도시개발하는게 무슨도시개발인가요? 제발 불법 철저히 조사후 하세요.',\n",
       "   '선거되면 또 나대겠지',\n",
       "   '투기꾼들 다 집어넣고 개발해',\n",
       "   '애초에 능력없고, 의지없는공직자는 사표쓰거나, 제거해버려야함,,,국민의 재앙임.',\n",
       "   '전부 취소 해라 이번기회 투기군 청소 필요',\n",
       "   '도둑놈들 소굴인 LH을 국민들이 신뢰을 하겠는가. 해체해라. 그것이 답이다.',\n",
       "   '늦어도 그렇게 하는것이 맞다, 적당히 어물쩍 넘어가지말고 제대로 된 출발로 부정한 투기세력을 반드시 정리해야...',\n",
       "   '클린봇이 부적절한 표현을 감지한 댓글입니다.',\n",
       "   '좀 기다려보세요... 언론이나 투기꾼이 기다렸다는듯이 엄청 난리네요..',\n",
       "   '이제 법도 만들어졌으니 다 잡아들일만 남았군...',\n",
       "   '3기는 왜 놔두는거냐...',\n",
       "   '한마디로 버블꺼뜨리지 않고 유지하겠다는 얘기 싫컷 유지해봐라 미국금리 인상됨 어찌할지...',\n",
       "   '손때고 산업폐기물 처리장이나 만들어..',\n",
       "   '그렇게 믿고 싶겠지만 국토부가 차질 없단다 기레기야',\n",
       "   '아직 누가 덜 샀나보네. 기다려쥬는건가',\n",
       "   '작성자에 의해 삭제된 댓글입니다.',\n",
       "   'https://youtu.be/sVEyV1zGXMk공산주의 중국은 사유재산 보장을 세계만방에 알렸고한국은 강제철거로 가축취급인가요전속감정사는 최저가로 후려치고 강제철거https://youtu.be/arV4jPyyXK0',\n",
       "   '보상을 시가에 근접해야되는데 전속감정평가사만 전적으로 할수있고 피수용자측 감평사도 평가비를 정부에 받고 최고최저 10%이상차이나면 무효이므로 조율 담합할수밖에없고 전속감평사지위유지와 정부일감을 받기위해 최저가로 후려치므로 시가에 1/3반값이하도 만아 전속감평제도폐지하고 보상감정만큼은 공인중개사와 지역민이 참여해야 시가에 근접발수있고 사유재산을 80%,라도 보장받을수 있을것임 지장물조사에 동의하면 강제수용속개되고 헐값에 빼앗기게 됨 어떤 요구도 무시되고 강제철거당하게됨']},\n",
       " 15: {'기사명': \"LH, 집주인 대상으로 한 '민간 매입약정 임대' 사업설명회 연다\",\n",
       "  '날짜': '2021.04.30. 오전 9:12',\n",
       "  '추천수': '',\n",
       "  '좋아요': '1',\n",
       "  '훈훈해요': '0',\n",
       "  '슬퍼요': '0',\n",
       "  '화나요': '1',\n",
       "  '후속기사 원해요': '0',\n",
       "  '댓글 수': 2,\n",
       "  '댓글': ['갭투자가 이거네추종자들은 젊은 여당 추종자들 한탕 하시겠네',\n",
       "   'LH공사가 이제는 부동산 거래에도 직접 뛰어 드는거야? 본격적인 시장 개입으로 오히려 부동산 가격 왜곡을 가져 오지 않을까 걱정되네... 제일 좋은건 무엇이든 시장에 맡겨 두고 정부는 제도를 통해 시장조절 기능을 갖는거 아닌가??? LH공사가 부동산 시장 큰손이 되는거야???']},\n",
       " 16: {'기사명': 'LH ‘주택매매 오픈마켓’ 열어…매입임대사업 설명',\n",
       "  '날짜': '2021.04.30. 오전 9:36',\n",
       "  '추천수': '',\n",
       "  '좋아요': '0',\n",
       "  '훈훈해요': '0',\n",
       "  '슬퍼요': '0',\n",
       "  '화나요': '0',\n",
       "  '후속기사 원해요': '0',\n",
       "  '댓글 수': 1,\n",
       "  '댓글': ['아니 항상 이해가 안가는게 이런 정보를 기사하면서 결국 내용엔 어디 들어가서 확인하라는 안내가 없다는 것. 물론 LH 검색해서 알아보면 나오겠지만 기사에서 그거꺼지 알려주면 어르신들도 좋지않은가. 강아지 입마개나 보험 법 개정안 관련도이러이러하다 라고만 기사화하고 정작 그 내용을 제대로 확인할 행정기관사이트나 그런거 알려주는 기사는 하나도 없더라']},\n",
       " 17: {'기사명': 'LH, 주택매매 오픈마켓 개최..\"올 4.4만호 매입 목표\"',\n",
       "  '날짜': '2021.04.30. 오전 9:21',\n",
       "  '추천수': '',\n",
       "  '좋아요': '0',\n",
       "  '훈훈해요': '0',\n",
       "  '슬퍼요': '0',\n",
       "  '화나요': '1',\n",
       "  '후속기사 원해요': '0',\n",
       "  '댓글 수': 1,\n",
       "  '댓글': ['이미한 물건이라도 제대로 관리해라']},\n",
       " 18: {'기사명': 'LH 사태, 결국 공급대책 발목 잡았다… 신규택지 입지 발표 연기',\n",
       "  '날짜': '2021.04.29. 오후 1:02',\n",
       "  '추천수': '12',\n",
       "  '좋아요': '40',\n",
       "  '훈훈해요': '0',\n",
       "  '슬퍼요': '0',\n",
       "  '화나요': '25',\n",
       "  '후속기사 원해요': '2',\n",
       "  '댓글 수': 34,\n",
       "  '댓글': ['3기신도시 전면 폐지하고 다시 지정해라 신혼부부뿐 아니라 40대 50대 이상까지 사전청약 할수있게 확대해라',\n",
       "   '다 해쳐먹었는데 전면 백지화 하고 몰수해야지',\n",
       "   '문재인: 그러나 1차 발표지역은 사두신 높은분들 이익을 실현하기 위해 그대로 진행합니다.(웃음)',\n",
       "   '작성자에 의해 삭제된 댓글입니다.',\n",
       "   '광명시흥 후보지 당연 취소시켜아지',\n",
       "   '민주당하고 관련되어 처벌도 안받고 참 대단하다',\n",
       "   '문재앙이가 국정 운영을 자기측근들 위주로 인사하여 이사단이 발생했다 문재인 정부의 책임을 다음 대선에서 확실하게 물어야합니다',\n",
       "   'LH 투기꾼들 배불리지 않기 위해서라도 3기 신도시 전면 수정 바람..',\n",
       "   '이 정권 바꿔야 주택대란 잡힐 듯~정귄내내 적폐청산 부르짓더니 현정권 적폐는 역대급 내로남불~뭐하나 제대로 하는걸 못봤네',\n",
       "   '이미 집 값은 천정부지이고,,, 졸속으로 한다고 해서 바로 잡히는 것도 아닙니다..... 좀 더 장기적 안목으로 3기 신도시 전면 재검토 해야 합니다.. 정책도 선택과 집중이 필요합니다... 일단 서울 공급 증대에 촛점을 맟추고,, 신도시는 폐지 또는 전면 재검토 하세요!!!',\n",
       "   '작성자에 의해 삭제된 댓글입니다.',\n",
       "   '3기신도시 국민들 반대 무릅쓰고 밀어붙이는구나',\n",
       "   '창릉도 비리신도시인데 취소해야져?',\n",
       "   '폭등한 아파트값!! 집없는 서민들 도데체 어찌할거냐!나몰라라하는 문제인과 그정부! 집값을 ㅎㅏ루속히공시지가로 돌려나라~~~~',\n",
       "   '토지주태공사...국민의 집공급을 싸게? 할 의무가 있는 집단이..갖은 수로 온갖 못된짓 오래오래 하다 걸렷네..이들 내부를..식칼로 정화시킨다음...',\n",
       "   '시간벌어놓고 지그들 유리한쪽으로...스리슬쩍넘기려고 수작이지.',\n",
       "   '아닌것은 아닌 것이다.고로, 투기자 놈들 잡아서 본때를 보여주는 것이 우선이다. 개발이 늦어도질서가 먼저다',\n",
       "   '지정하고 몰수하면 되지않음. 왜 연기함. 으이그',\n",
       "   '올만애 좋은이야긴거같긴한데 이런건 빨리빨리 제시하면안되는건가',\n",
       "   '처벌은 가능허냐??',\n",
       "   '작성자에 의해 삭제된 댓글입니다.',\n",
       "   '최종승자는 재앙이말 무시하고 집산 국민들이구만 ㅋㅋ',\n",
       "   '그냥 개발하지마라...가만히있어라 민간에일임하고 관리감독만해라',\n",
       "   '전부다취소해라',\n",
       "   '이미 공기업에 대한 신뢰성이 떨어졌는데 뭘 한다고 해도 반발심만 커질 뿐이다',\n",
       "   '계획이고 나발이고 다 백지화해라!! LH 조사는 어케된겨? 슬쩍 끝낸겨?',\n",
       "   '환수해서 그냥 국고채웁시다',\n",
       "   'ㅁㅉ 투기꾼들 날뛴게 한두해냐고',\n",
       "   '신도시 집어치우고 거기서 나무나 키우라고 해라.',\n",
       "   '작성자에 의해 삭제된 댓글입니다.',\n",
       "   '투기 지역 백지화하고 투기재산 몰수 해라.',\n",
       "   '윗분들이 투자했으니 무슨일이 있어도 진행될꺼다 봐라 ㅋㅋㅋ',\n",
       "   '작성자에 의해 삭제된 댓글입니다.',\n",
       "   '차라리 가평땅 찾아봐라...']},\n",
       " 19: {'기사명': 'LH 사태로 신규택지 발표 대거 취소…울산·대전 두곳만 발표',\n",
       "  '날짜': '2021.04.29. 오후 6:01',\n",
       "  '추천수': '2',\n",
       "  '좋아요': '2',\n",
       "  '훈훈해요': '0',\n",
       "  '슬퍼요': '3',\n",
       "  '화나요': '15',\n",
       "  '후속기사 원해요': '2',\n",
       "  '댓글 수': 6,\n",
       "  '댓글': ['어떤 멍청이가 지 명의로 사들이냐 건너고 건너고 하것지',\n",
       "   '계속 어디개발하겠다하고 냄새만풍기고 발빼자 그래야 이것들투자한거 똥값만들지 치고빠지는전략 좋아요ㅋㅋ',\n",
       "   '서수원 토지 사세요',\n",
       "   '고령화에 인구 감소하는데 신규개발지는 정답이 아닙니다. 구시가지를 재개발 활성화해야 합니다. 신규개발지는 부정부패와 100% 연계되어 있다고 믿습니다.',\n",
       "   'ㄴ ㅐ 내부직원들 살 때까지 미루는건 아니겠죠?',\n",
       "   '하는척이나 하는 조사는 뭔조사냐? 레기쓰들아']},\n",
       " 20: {'기사명': 'LH 땅 투기 사건으로 2·4 대책 신규택지 조성사업 차질',\n",
       "  '날짜': '2021.04.29. 오전 11:00',\n",
       "  '추천수': '17',\n",
       "  '좋아요': '15',\n",
       "  '훈훈해요': '1',\n",
       "  '슬퍼요': '2',\n",
       "  '화나요': '85',\n",
       "  '후속기사 원해요': '4',\n",
       "  '댓글 수': 71,\n",
       "  '댓글': ['무리한 대출로 이자내다 디져라 나쁜놈들 무기한 연기되라',\n",
       "   '아니 전면백지화 시키고 그지역 그린벨트30년짜리 묵고 노후된 아파트및 주택지역을 지정해라~~~ 왜 굳이 전.논으로만 갈려고 하냐!!! 공공으로 못가서 그러냐??? 니들 해처먹을거 포기하면 쉽게 답나온다!!!',\n",
       "   '개발지 취소하고 원점에서 재검토해야 바로잡을 수 있는걸 누구나 알고 있는데 또다시 기득권 보장을 위해 국개의원들도 정부도 그저 수사만 할뿐..... 이런게 공정이고 형평인가.... 진짜 대한민국엔 그저 말뿐인 것들이 더 큰소리치고 더 잘먹고 사는듯',\n",
       "   '비트코인으로 시선 돌리고 잘묻었네 ㅋㅋ 진짜 대단하다 ㅋㅋ',\n",
       "   '믿을 수 있는게 하나도 읎구만.',\n",
       "   '제대로 추징도 안하고, 계획은 그대로 추진한다하고 그럼 보상도 준다는 얘기고 이건 뭐 대한민국 사기꾼 천지로 만들려고 환장한건가. 빨리 죄다 잡아서 형사처벌 때리고 재산환수 시켜라. 재개발계획도 얼른 바꿔라 이게 말이냐 똥이냐',\n",
       "   '백지화 해라 버티지 말고',\n",
       "   '나라 공무원들이 다 해처먹는데 노예들은 구경이나하다 조용히 혼자 죽어야겠죠 ^^?? 이와중에 공무원 늘리는 우리나라 좋은나라 만세 ㅋㅋ',\n",
       "   '김포공항 신도시 조성 강추!!!김포공항 인천공항으로 이전후 제3여객터미널로 만들고 김포공항부지 신도시로 만들자!!!투기조사할 필요없고 비행기 항로 지역 소음 탈출할수 있다!!!',\n",
       "   '신규택지조성 취소하고 한사람이 3가구 이상 보유한 주택 소유자부터 조사해서 중과해라... 1인이 수백채 가지고 있는 주택 아파트 소유자 부터 정리하면 주택공급은 더 이상 안해도 자동적으로 해결된다.',\n",
       "   '복잡하게 가지말고 신도시 취소하라. 민주주의 사회에서 사유재산을 헐값 강제수용으로 땅장사 아파트 장사가 웬말이냐. 국민땅 강제로 뺏어 비리저지르는 LH를 해체하라.',\n",
       "   'LH 뉴스는 요새 왜이렇게 조용하냐..비트코인 뉴스로 도배를 해서 덮어버리네',\n",
       "   '광명 시흥 지정하려거든 전수조사해서 투기이익반환후 진행하던가 아니면 취소해라',\n",
       "   '도둑놈이 해처먹는일이 차질이 생겼다는건 보궐선거후 나라가 조금은 그레도 정상으로 돌아갔다는것이다. 대선 문재인심판 눈앞이다.',\n",
       "   '참부럽다~!! 국민세금이포함됬을것을 월급과 투기도부족해 주위에 퍼트렸으니 이건 완전 도둑질이요 시기친 절도단들 아닌가.. 정부관료가 얼마나 썪어 비틀어졌으면...?? 이런사태가..?? 공무원의 최고 주도자의 바탕과 기준 윤리에 문제가 있다~~!!',\n",
       "   '공급 못한단 말을 하기 위해 너무 큰그림을 그렸다ㅋㅋㅋ',\n",
       "   '무능력하면 정직하기라도 해야하는데 무능력에 부패하고 썪은 정권. 김일성 주체사상만 배우고 윤리 도덕은 안배웠냐??',\n",
       "   '집값또 오르겄네 ㅉㅉ',\n",
       "   '신규택지는 교통망은 해주는거냐아파트만 지어놓고',\n",
       "   '자 그러면 집값 더 오를 준비 하시고...',\n",
       "   '흔들림없이 추진한다더니 벌써부터 흔들리고 있으니 부동산 정책이 제대로 됄지 걱정이드네요.',\n",
       "   '오늘부터 신혼부부 매입임대주택 목록 보니 다 지방과 거의 빌라투성 다시 서민들한테 넘기고. ㅉㅉ이것도 조사해야함 . 차라리 소유할 수있게 저리 대출해주던가 순전 역복지임.서민들을 위해 제공하는 척 하면서 부동산 임대 사업 야무지게 함.',\n",
       "   '다 취소하고 그 옆땅으로 개발시켜라.',\n",
       "   '또 미루냐? 정부 못믿것네요..',\n",
       "   '수용은 이제 공익사업을 위한 토지등의 취득및 보상에 관한 법률로 다룰정도로 공익사업을 위한것이 아닌 LH의 강탈및 투기에 관한 일이니 절대로 수용을 당하지 않을것이다',\n",
       "   '국민에게 또 거짓말 했다! 국토부는 약속대로 신규 택지를 발표 하고, 투기자는 색출 하여 엄벌 하라!',\n",
       "   '투기에 연류된 민주당 애들중 뱃지 반납한놈 한명도없지?',\n",
       "   'LH가 지은 아파트는 못믿는다. 시끄럽다 해체해라 시간끌지말고',\n",
       "   '머리가 참 나쁜건지~ 생각이 없는건지~ 뻔히 이런기사 나오고 안좋은 신호 줄게 뻔히 보이는데 이러는거 보면 일부러 그러는거 같다. 퉷~ 더러운 넘들',\n",
       "   '개발. 재건축은 생태를 파괴하고. 개인의 토지. 지분. 도로채납으로 빼앗아 수직 밀집공간에 수용. 토지주권을 빼앗아 노예화하는것.',\n",
       "   '그투기꾼이 ㄴㅐ 겠지',\n",
       "   '저기를 결국 신도시로 하겠다는 거겠지...아마 정권비호하에 있는 큰도둑들은 다 챙길거다',\n",
       "   '투기꾼을 잡는 강력한 법을 만들어라.자꾸 세금 올려 실거주자들 세금 부담 주지 말고',\n",
       "   '왜 아직 잡힌 놈이 없어?ㅋㅋㅋㅋㅋ',\n",
       "   '신규택지 발표 백지화하고 전면 재검토 LH로나불 적폐정권',\n",
       "   '작성자에 의해 삭제된 댓글입니다.',\n",
       "   '유전무죄 -> 공공무죄',\n",
       "   '작성자에 의해 삭제된 댓글입니다.',\n",
       "   '취소나 해',\n",
       "   'ㅋㅋㅋ 내 이럴줄 알았다 결국 이거 터트려서 공급안하겠다는거였군 대다나다 현정부야 네들은집값 잡을 의지가 없는겨',\n",
       "   '사실 LH사태 아니었어도 100만호 공급 하겠다고 한달만에 대책 꾸린게 제데로 될리가 있냐 ㅋㅋㅋ 그게 됐었으면 지금 아파트값 폭등 사태도 안일어났지그냥 지지율 떨어지니까 막 똥글 싸지른거지 10년안에 서울 10만호라도 공급하면 잘하는거얌',\n",
       "   '개 돼지 공화국 개돼지들 반만 핵으로 몰살 시켜 버리면 아파트 남아 돈다',\n",
       "   '전부 취소하고 다시 지정해라...',\n",
       "   '작성자에 의해 삭제된 댓글입니다.',\n",
       "   '무능하고 타락한 것들이... 기회는 이때다 싶어 책임을 NH로 떠넘기네 ㅋㅋㅋ',\n",
       "   '물론 이들 거래가 실제 땅 투기인지는 지금 단계에선 확인할 수 없다.=> 똥을 먹어봐야 똥인지 알 수 있다???? 100% 미공개정보 이용한 거지...',\n",
       "   '클린봇이 부적절한 표현을 감지한 댓글입니다.',\n",
       "   '후진국의 쓰레기보다 못한 부동산 정책만 20번 넘게 내놓은 경제 개념없는 처와대가 무슨 저런 2.4부동산 정책을 시행해보겠다고 난리를 ㅋㅋ 저건 쓰레기중 쓰레기 정책인데 ㅠㅠ',\n",
       "   '클린봇이 부적절한 표현을 감지한 댓글입니다.',\n",
       "   '택지개발 예정지 까지 투기 조사해라 !!!!',\n",
       "   '집 값 더 오르는구나 문재인 정부에게 모든 저주를',\n",
       "   '과림동 만 취소하면 투기꾼들 땅을치고 자살 하는 사람까지 나온다.',\n",
       "   '...................지방호재 지자체,공무원들은........................... 어딘 조사하고 어딘 안하고...............',\n",
       "   '곰 과 왕서방!',\n",
       "   '클린봇이 부적절한 표현을 감지한 댓글입니다.',\n",
       "   '왜 수사는 하다 마는거냐 ?????????????',\n",
       "   '작성자에 의해 삭제된 댓글입니다.',\n",
       "   '투기꾼들 평생 은행에 이자 갚으면서 살아라',\n",
       "   '전부 전수조사 관련된전공직자들부터 가족 친척까지 전수조사끝나면 발표해야할뜻',\n",
       "   '해먹을 땅이없네~~ 해먹을 땅이 없어~~ ㅋㅋㅋㅋㅋㅋ',\n",
       "   'LH 지자체, 국개들 지들끼리 해먹을라고 신규 택지 지정하는데 일반인과 전문가가 벌써 선점해 놔서 지들만해먹기가 어려워졌구, 투기 이익율도 상당히 덜어지다보니 ㅎㅎ ㅎㅎ . 이참에 신도시 전부 취소해라~~~',\n",
       "   '클린봇이 부적절한 표현을 감지한 댓글입니다.',\n",
       "   '현상황에선 정부예상보다 최소 3-4년은 더 걸릴거다',\n",
       "   'LH 땅 투기꾼들은 철저히 조사는 하고있는지 모르겠네~~',\n",
       "   '이런걸 보고도 패닉바잉이라는 단어가 나오나요? 그들은 누구보다 냉정하게 판단한겁니다....',\n",
       "   '작성자에 의해 삭제된 댓글입니다.',\n",
       "   '투기꾼들 한푼도 못가게 하는게 맞다...자한당같은 정치 하지말자 진짜 민주당답게 미뤘던 서민들을 위한 법을 만들어라',\n",
       "   '25번째 2.4공급대책은 실체가 없는 희망고문입니다. 토지소유주가 인정하지 않는데 공공개발이라고 2025년까지 땅을 확보한다는 것이 요지인데 이것은 그저 허구일뿐입니다. 향후 적어도 6~7년간 입주 없습니다. 공급이 없다는 말입니다. 집 사세요. 올해 가을에 폭등각입니다.',\n",
       "   '문대통령만 믿습니다.',\n",
       "   '아파트가격상승으로 문제가 발생한거니 임대사업자아파트도 종부세부과대상에 포함시키면 안팔고는 못배길것 양도세 30%중과해서 아파트투기 싹을 잘라 버리자',\n",
       "   '이 정부는 정말 모든 일을 투명하고 합리적으로 학실하고 신속하게 잘한다... 문제 해결을 위해 끝까지 집요하게 합리적으로 신속하게.. 빚을 내서라도 집 사세요`하며 대국민 땅투기를 조장한 이명박근혜 개자당/개똥당과는 달리... 역시 이 정부는 일을 참 열심히 한다... 조금만 지켜보면 강남부동산 투기꾼들 두손 두발 다 들고 누워서 네발 춤을 출 듯.. 부자들만 위한 이명박근혜는, 심지어, 사립유치원도 부자 자기들 편이라고 적당히 알아서 챙겨먹으라고 음으로 양으로 했었는데.. 정말 이제사 사람사는 세상이 제대로 오는 듯.']},\n",
       " 21: {'기사명': 'LH 땅 투기 사건으로 2·4 대책 신규택지 조성 사업 차질',\n",
       "  '날짜': '2021.04.29. 오전 11:18',\n",
       "  '추천수': '2',\n",
       "  '좋아요': '2',\n",
       "  '훈훈해요': '0',\n",
       "  '슬퍼요': '0',\n",
       "  '화나요': '14',\n",
       "  '후속기사 원해요': '4',\n",
       "  '댓글 수': 17,\n",
       "  '댓글': ['lh땅투기사건 이름 좋네요',\n",
       "   '집은.널렸는데 민주당이.폭등 시키고 세금 걷고 3기신도시로 투기하고.일자리 줄고 국가.경쟁력.바닥이고..대박이네',\n",
       "   '고양대곡지구를 가면 신축빌라가 우후죽순 처럼 건설되고 있다. 개발 발표를 앞두고 투기꾼들의 면모가 보인다. 고양시는 개발 제한구역이지만 허가를 남발하고 투기꾼은 살판나는 지구다. 참 한심하고 허탈한 현실이다.삼대길 끝자락 도로공사 협찬이란 표말과 나무를 빼곡히 식재한 투기 장소 의심?',\n",
       "   '악성 투기꾼 박멸해야한다 3기신도시 전면 폐지하고 다시 지정하라!!!',\n",
       "   '이참에 포기 선언하고 시장에 맡기시면 어떨까요? 어차피 실현가능성 0인 공급대책이고 정권교체도 1년 밖에 남지 않았잖아요?',\n",
       "   '지금 걸린건 빙산의 일강이겠지..예전부터 해 먹은 인간들이 한둘이겠어?? 지금도 안걸린 사람들이 겁나게 많겠지....차명으로 하면 그만이지...그 많은 공무원들을 어떻게 조사하나??? 3기 신도시 폐기하라',\n",
       "   '작성자에 의해 삭제된 댓글입니다.',\n",
       "   '공공이 주도하면 범죄도 처벌받지 않을수 있습니다!',\n",
       "   '국개의원들 일좀해라,,,,!! 국민이 민주당에 180석을 줘도 강하게 하는게 없다는게 한심하다....!!!',\n",
       "   '작성자에 의해 삭제된 댓글입니다.',\n",
       "   '다 취소하고 새로 선정해 광명 시흥밑으로 하면되겠네 안산 서평택 이런곳 해라',\n",
       "   '신도시 다 폐지해라~~',\n",
       "   '내 땅투기 ㅋㅋ',\n",
       "   '클린봇이 부적절한 표현을 감지한 댓글입니다.',\n",
       "   '작성자에 의해 삭제된 댓글입니다.',\n",
       "   '아 ㅋㅋㅋㅋㅋㅋㅋ',\n",
       "   '이번 투기 범죄자들 가족 친지 다 조사해서 싹 몰수해라 대충넘어가지마라']},\n",
       " 22: {'기사명': '신혼부부 매입임대 978가구···LH, 시세 70~80% 전세공급',\n",
       "  '날짜': '2021.04.29. 오후 4:43',\n",
       "  '추천수': '1',\n",
       "  '좋아요': '0',\n",
       "  '훈훈해요': '0',\n",
       "  '슬퍼요': '0',\n",
       "  '화나요': '3',\n",
       "  '후속기사 원해요': '0',\n",
       "  '댓글 수': 1,\n",
       "  '댓글': ['주변시세가 거품인데 50프로로 낮춰라']},\n",
       " 23: {'기사명': 'LH, 시세 70~80% 신혼부부 매입임대주택 전세형 공급',\n",
       "  '날짜': '2021.04.29. 오전 9:09',\n",
       "  '추천수': '',\n",
       "  '좋아요': '0',\n",
       "  '훈훈해요': '0',\n",
       "  '슬퍼요': '0',\n",
       "  '화나요': '0',\n",
       "  '후속기사 원해요': '1',\n",
       "  '댓글 수': 2,\n",
       "  '댓글': ['다자녀에서 컷트당하던데.', '작성자에 의해 삭제된 댓글입니다.']},\n",
       " 24: {'기사명': 'LH, 신혼부부 매입임대주택 전세형 공급',\n",
       "  '날짜': '2021.04.29. 오전 9:28',\n",
       "  '추천수': '2',\n",
       "  '좋아요': '0',\n",
       "  '훈훈해요': '0',\n",
       "  '슬퍼요': '0',\n",
       "  '화나요': '9',\n",
       "  '후속기사 원해요': '3',\n",
       "  '댓글 수': 7,\n",
       "  '댓글': ['LH 어떻게 되어가나여 이렇게 묻히나요?',\n",
       "   '더럽게 관리도 못해주면서 자꾸 전세형을 늘리냐~ 도어락도 자비로 주방후드팬도 자비로 죄다 전세들어온사람보고 노후가 되어야 단종이 되어야 이핑계저핑계로 10년이면 고장안나는 소진안되는 전자제품이 어딨냐? 써글 SH .LH 드럽게 관리못함',\n",
       "   '이것도 조사해야함 서민들대상이라 지방 빌라투성임 차리리 저리받아 대출해줘라~ 부동산임대사업 깡패수준임.',\n",
       "   'ㅋㅋ 수렁에 빠지면 10년 그냥 간다 그리고 10년 뒤 땅을 치고 후회한다...',\n",
       "   '10년 뒤면 애 한참 돈 더 들어갈 땐데..어딜 나가라구.. ㅠㅠ',\n",
       "   '매매혼 국제결혼커플들의 공공임대 입주도 금지시켜야 한다고 봅니다. 한국 입국한지 몇년밖에 안되서 낸 세금도 거의 없는 동남아 여성들이 신혼가점으로 공공임대에 입주하는 건 사리에 맞지 않습니다. 게다가 매매혼이 公公이란 개념과 양립이 되는건지부터 의문이고요. 남자쪽 나이가 최하 40이상에 조카뻘이랑 매매혼한 걸 신혼이라 쳐주다니. 신혼가점 말고 매매혼 가점이라면 모를까. 내국인 신혼커플도 1점 차이로 떨어지는데 뭔 동남아 인간? 한베커플들 큰삼촌이 조카가 결혼한 것처럼 나이 차이 많아서 아주 옆에서 보게 되면 민망하고 애들 교육상으로',\n",
       "   '작성자에 의해 삭제된 댓글입니다.']},\n",
       " 25: {'기사명': 'LH, 신혼부부 매입임대주택Ⅱ 전세형 공급… 시세 70~80%',\n",
       "  '날짜': '2021.04.29. 오전 8:23',\n",
       "  '추천수': '',\n",
       "  '좋아요': '1',\n",
       "  '훈훈해요': '0',\n",
       "  '슬퍼요': '0',\n",
       "  '화나요': '1',\n",
       "  '후속기사 원해요': '0',\n",
       "  '댓글 수': 0,\n",
       "  '댓글': []},\n",
       " 26: {'기사명': \"국토부, 'LH땅투기' 재발 우려에 수도권 신규택지 발표 연기\",\n",
       "  '날짜': '2021.04.29. 오후 3:57',\n",
       "  '추천수': '',\n",
       "  '좋아요': '0',\n",
       "  '훈훈해요': '0',\n",
       "  '슬퍼요': '0',\n",
       "  '화나요': '11',\n",
       "  '후속기사 원해요': '0',\n",
       "  '댓글 수': 12,\n",
       "  '댓글': ['부천 땅투기 조사해봐라.',\n",
       "   '국토부가 모른척 ㅋㅋ짜고치는 고스톱',\n",
       "   '집값 다 올려놓고 70~80%시세로 판단다. ㅋㅋ',\n",
       "   '은근슬쩍 조용하다~땅투기 묻어두는거지',\n",
       "   '제대로된 수사로 공평하고 엄중하게 처리좀하자!! 다른 뉴스로 이슈거리 만들어 이 LH사건 덮으려지말구!!눈가리고 아웅이다! 다보여~니들 하는짓~다 짜고치는고스톱인거~~',\n",
       "   '청와대를 옮기면 각개 붗ㅓ 및 대학교도 옮겨질듯 분산해라',\n",
       "   '정권교체후 투기 공직자 재수사로 사형물수 해라. 문재인 국회의원 시의원 말단 공직자까지 사형몰수 해라',\n",
       "   '국갱의원 부동산투기 전수조사해라 또 정치쇼?여당 야당 국개들 엄벌에 처해라 뭐하냐?',\n",
       "   '마법나무 덜 심은듯, 마저 다심고 발표예정 인듯',\n",
       "   '어차피 다 알고 있을텐데...뭘 우려해~ 아는게 중요한게 아니라~ 투기를 못하게 막아야지',\n",
       "   '전국 원도심 구도심 재개발하고 나서 해라~~~. 전 국민을 다 죽이고 몇 안되는 미물들 배불리려는 속보이는 짓거리 하지말고~~~...!!!',\n",
       "   '왜 ? 다음 매국노들 정권 잡으면 그 때 처먹으려고 ㅉㅉ 5년 단기 대통령 한테 철바통들 매일 국민 위한다 욕질 이라며 !!!! 도둑들이 양심도 없지 세금 도둑들 !!!! 새금이 니들 말로 눈 먼 돈 이라면 국민은 왜 새금 내고 사냐 ?부모가 도둑질 하고 자식들 잘 자라겠다 ㅉㅉ 죄다 매국노질 하고 나라 말아먹는데 앞장서겠지 !!!!']},\n",
       " 27: {'기사명': 'LH사태 불똥…다음달부터 비주담대도 LTV규제',\n",
       "  '날짜': '2021.04.29. 오후 6:02',\n",
       "  '추천수': '2',\n",
       "  '좋아요': '0',\n",
       "  '훈훈해요': '0',\n",
       "  '슬퍼요': '0',\n",
       "  '화나요': '5',\n",
       "  '후속기사 원해요': '1',\n",
       "  '댓글 수': 3,\n",
       "  '댓글': ['진짜 욕만나온다..모든게 절망적이다...',\n",
       "   '내부정보로 투기는 실컷 해먹고 평생소원 내집하나 국민 괴롭히는 아주 잘못된 정권',\n",
       "   'Ltv 70 이면 뭐']},\n",
       " 28: {'기사명': \"'제2 LH사태 막는다' 토지 등 비주담대 LTV 70% 전 금융권 확대\",\n",
       "  '날짜': '2021.04.29. 오후 2:30',\n",
       "  '추천수': '',\n",
       "  '좋아요': '1',\n",
       "  '훈훈해요': '0',\n",
       "  '슬퍼요': '0',\n",
       "  '화나요': '4',\n",
       "  '후속기사 원해요': '0',\n",
       "  '댓글 수': 3,\n",
       "  '댓글': ['LH 사태랑 국민들 대출 규제랑 무슨 상관?',\n",
       "   '대출 전면적으로 막아라 99%투기대출이다',\n",
       "   '운영규정 미준수로 인해 삭제된 댓글입니다.']},\n",
       " 29: {'기사명': \"13만가구 신규택지는 빠졌다…LH발 투기 의혹에 '발목'\",\n",
       "  '날짜': '2021.04.29. 오후 3:58',\n",
       "  '추천수': '2',\n",
       "  '좋아요': '0',\n",
       "  '훈훈해요': '0',\n",
       "  '슬퍼요': '0',\n",
       "  '화나요': '20',\n",
       "  '후속기사 원해요': '0',\n",
       "  '댓글 수': 5,\n",
       "  '댓글': ['그냥해라 ㅉㅉ 그대신 이번엔 투기를 뿌리 뽑으면 되지. 모하나 라도 제대로 해야 국민이 살지. 힘없는 국민은 니들 땜에 다 죽어가고 힘있는 애들은 니들땜에 부자 되고 참 아이러니다 ㅉㅉ 나라 망칠라고 일부러 그러는거 같애',\n",
       "   '작성자에 의해 삭제된 댓글입니다.',\n",
       "   '알로만 서민 서민하고 뒤로는 집값 폭등시켜 서민들 피눈물 흘리게 하는 이런 정권은 첨이다',\n",
       "   '니들은 아파트가 있다 이거지, 어디 살만한 집이 있냐 너무 올랐자나, 그냥 발표하고 지으면 되는데 망설이는거야, 집값 떨어질까봐 그러는 거지',\n",
       "   '매매혼 국제결혼커플들의 공공임대 입주도 금지시켜야 한다고 봅니다. 한국 입국한지 몇년밖에 안되서 낸 세금도 거의 없는 동남아 여성들이 신혼가점으로 공공임대에 입주하는 건 사리에 맞지 않습니다. 게다가 매매혼이 公公이란 개념과 양립이 되는건지부터 의문이고요. 남자쪽 나이가 최하 40이상에 조카뻘이랑 매매혼한 걸 신혼이라 쳐주다니. 신혼가점 말고 매매혼 가점이라면 모를까. 내국인 신혼커플도 1점 차이로 떨어지는데 뭔 동남아 인간? 한베커플들 큰삼촌이 조카가 결혼한 것처럼 나이 차이 많아서 아주 옆에서 보게 되면 민망하고 애들 교육상으로']}}"
      ]
     },
     "execution_count": 36,
     "metadata": {},
     "output_type": "execute_result"
    }
   ],
   "source": [
    "dict = {}\n",
    "\n",
    "# 페이지당 기사 수집\n",
    "for i in tqdm(range(0, len(df['url']))):   # len(df['url'])\n",
    "    try:\n",
    "        # 뉴스 크롬창 띄우기\n",
    "        driver = webdriver.Chrome(\"C:\\\\Users\\\\2\\\\Desktop\\\\python\\\\crawling/chromedriver\")  # 맥 : /Users/aiden/Desktop/chromedriver\n",
    "        driver.get(df['url'][i])\n",
    "        time.sleep(1)\n",
    "\n",
    "        # 기사 데이터 수집\n",
    "        title = driver.find_element_by_css_selector('.tts_head').text\n",
    "        date = driver.find_element_by_css_selector('.t11').text\n",
    "        up = driver.find_element_by_css_selector('.u_cnt._count').text\n",
    "        like = driver.find_element_by_css_selector(\".end_btn .u_likeit_list.good .u_likeit_list_count._count\").text\n",
    "        warm = driver.find_element_by_css_selector(\".end_btn .u_likeit_list.warm .u_likeit_list_count._count\").text\n",
    "        sad = driver.find_element_by_css_selector(\".end_btn .u_likeit_list.sad .u_likeit_list_count._count\").text\n",
    "        angry = driver.find_element_by_css_selector(\".end_btn .u_likeit_list.angry .u_likeit_list_count._count\").text\n",
    "        want = driver.find_element_by_css_selector(\".end_btn .u_likeit_list.want .u_likeit_list_count._count\").text\n",
    "\n",
    "        # 기사 댓글 갯수 \n",
    "        review_count = int(driver.find_element_by_css_selector(\".u_cbox_count\").text.replace(',', ''))\n",
    "\n",
    "        # 더보기 클릭 횟수\n",
    "        moreview_num = review_count//20\n",
    "\n",
    "        # 댓글 버튼 클릭\n",
    "        driver.find_element_by_css_selector(\".lo_txt\").click()\n",
    "        time.sleep(1)\n",
    "\n",
    "        # 더보기 버튼 여러번 클릭하기\n",
    "        k=0\n",
    "        while k <= moreview_num:  # 더보기 횟수만큼 반복 \n",
    "            try:\n",
    "                driver.find_element_by_css_selector(\".u_cbox_page_more\").click()  # 더보기 버튼 클릭\n",
    "                time.sleep(1)\n",
    "                k = k+1\n",
    "            except:        \n",
    "                break   # 에러나면 클릭 반복문을 빠져나가라\n",
    "\n",
    "        # review 수집하기\n",
    "        review_list = []\n",
    "        overlays1 = \".u_cbox_text_wrap\"\n",
    "        reviews = driver.find_elements_by_css_selector(overlays1)\n",
    "        for review in tqdm(reviews):    \n",
    "            review = review.text\n",
    "            review_list.append(review)\n",
    "\n",
    "        target_info = {}\n",
    "        target_info['기사명'] = title\n",
    "        target_info['날짜'] = date\n",
    "        target_info['추천수'] = up\n",
    "        target_info['좋아요'] = like\n",
    "        target_info['훈훈해요'] = warm\n",
    "        target_info['슬퍼요'] = sad\n",
    "        target_info['화나요'] = angry\n",
    "        target_info['후속기사 원해요'] = want\n",
    "        target_info['댓글 수'] = len(review_list)\n",
    "        target_info['댓글'] = review_list\n",
    "\n",
    "        dict[i] = target_info\n",
    "        \n",
    "        print(title, '( 댓글 수:', len(review_list),')')\n",
    "\n",
    "        driver.close()\n",
    "        time.sleep(1)\n",
    "        \n",
    "    except:\n",
    "        driver.close()\n",
    "        continue\n",
    "\n",
    "print(len(dict))\n",
    "dict"
   ]
  },
  {
   "cell_type": "code",
   "execution_count": 37,
   "metadata": {},
   "outputs": [
    {
     "data": {
      "text/html": [
       "<div>\n",
       "<style scoped>\n",
       "    .dataframe tbody tr th:only-of-type {\n",
       "        vertical-align: middle;\n",
       "    }\n",
       "\n",
       "    .dataframe tbody tr th {\n",
       "        vertical-align: top;\n",
       "    }\n",
       "\n",
       "    .dataframe thead th {\n",
       "        text-align: right;\n",
       "    }\n",
       "</style>\n",
       "<table border=\"1\" class=\"dataframe\">\n",
       "  <thead>\n",
       "    <tr style=\"text-align: right;\">\n",
       "      <th></th>\n",
       "      <th>기사명</th>\n",
       "      <th>날짜</th>\n",
       "      <th>추천수</th>\n",
       "      <th>좋아요</th>\n",
       "      <th>훈훈해요</th>\n",
       "      <th>슬퍼요</th>\n",
       "      <th>화나요</th>\n",
       "      <th>후속기사 원해요</th>\n",
       "      <th>댓글 수</th>\n",
       "      <th>댓글</th>\n",
       "    </tr>\n",
       "  </thead>\n",
       "  <tbody>\n",
       "    <tr>\n",
       "      <th>0</th>\n",
       "      <td>LH, 염호열 신임 상임감사위원 임명</td>\n",
       "      <td>2021.04.30. 오전 9:04</td>\n",
       "      <td></td>\n",
       "      <td>0</td>\n",
       "      <td>0</td>\n",
       "      <td>0</td>\n",
       "      <td>3</td>\n",
       "      <td>0</td>\n",
       "      <td>0</td>\n",
       "      <td>[]</td>\n",
       "    </tr>\n",
       "    <tr>\n",
       "      <th>1</th>\n",
       "      <td>택지 후보지, 외지인 거래 급증… LH사태 재연땐 주택공급 타격</td>\n",
       "      <td>2021.04.30. 오전 3:02</td>\n",
       "      <td>13</td>\n",
       "      <td>2</td>\n",
       "      <td>0</td>\n",
       "      <td>0</td>\n",
       "      <td>84</td>\n",
       "      <td>1</td>\n",
       "      <td>29</td>\n",
       "      <td>[서울에 집이 남아돈다. 절대숫자가 부족한게 아니고 국민이 살고싶은 집이 부족한것이...</td>\n",
       "    </tr>\n",
       "    <tr>\n",
       "      <th>2</th>\n",
       "      <td>LH, 제3회 주택매매 오픈마켓 개최</td>\n",
       "      <td>2021.04.30. 오전 8:36</td>\n",
       "      <td></td>\n",
       "      <td>1</td>\n",
       "      <td>0</td>\n",
       "      <td>0</td>\n",
       "      <td>0</td>\n",
       "      <td>0</td>\n",
       "      <td>0</td>\n",
       "      <td>[]</td>\n",
       "    </tr>\n",
       "    <tr>\n",
       "      <th>3</th>\n",
       "      <td>[단독] 'LH방지법' 낸 與 의원의 공무원 형, 땅투기 의혹</td>\n",
       "      <td>2021.04.30. 오전 7:39</td>\n",
       "      <td>93</td>\n",
       "      <td>3</td>\n",
       "      <td>1</td>\n",
       "      <td>0</td>\n",
       "      <td>427</td>\n",
       "      <td>5</td>\n",
       "      <td>110</td>\n",
       "      <td>[윤미향 안성쉄터 비싸게 사도록 중개한 사람이 이규민 의원이라던데?이거 짜고 하는것...</td>\n",
       "    </tr>\n",
       "    <tr>\n",
       "      <th>4</th>\n",
       "      <td>LH 땅 투기 사건으로 2·4 대책 신규택지 조성사업 일정 순연(종합)</td>\n",
       "      <td>2021.04.29. 오후 12:05</td>\n",
       "      <td>18</td>\n",
       "      <td>9</td>\n",
       "      <td>1</td>\n",
       "      <td>1</td>\n",
       "      <td>114</td>\n",
       "      <td>6</td>\n",
       "      <td>62</td>\n",
       "      <td>[lh가 문제냐 중공놈들은 78프로 집담보 대출해주고 세금까지 감면해주고 해외송금시...</td>\n",
       "    </tr>\n",
       "    <tr>\n",
       "      <th>5</th>\n",
       "      <td>LH, 신혼부부 매입임대주택Ⅱ공급…시세 70~80%</td>\n",
       "      <td>2021.04.29. 오전 10:16</td>\n",
       "      <td></td>\n",
       "      <td>2</td>\n",
       "      <td>0</td>\n",
       "      <td>0</td>\n",
       "      <td>1</td>\n",
       "      <td>0</td>\n",
       "      <td>3</td>\n",
       "      <td>[시중 전월세 시세를 50% 이상 올려놓고...그걸 기준으로 70~80%로 임대??...</td>\n",
       "    </tr>\n",
       "    <tr>\n",
       "      <th>6</th>\n",
       "      <td>LH투기 여파… 수도권 11만 가구 택지후보 발표 못 했다</td>\n",
       "      <td>2021.04.29. 오후 6:26</td>\n",
       "      <td>31</td>\n",
       "      <td>2</td>\n",
       "      <td>0</td>\n",
       "      <td>0</td>\n",
       "      <td>117</td>\n",
       "      <td>1</td>\n",
       "      <td>57</td>\n",
       "      <td>[전수조사 한다더니ㅋ 뉴스에서 싹사라지고ㅋㅋㅋ 혹시나했는데ㅋ 역시나다ㅋㅋㅋㅋㅋ, L...</td>\n",
       "    </tr>\n",
       "    <tr>\n",
       "      <th>7</th>\n",
       "      <td>이해충돌방지법, LH사태에 8년만에 통과…190만명 대상</td>\n",
       "      <td>2021.04.29. 오후 10:01</td>\n",
       "      <td>67</td>\n",
       "      <td>320</td>\n",
       "      <td>4</td>\n",
       "      <td>2</td>\n",
       "      <td>44</td>\n",
       "      <td>12</td>\n",
       "      <td>185</td>\n",
       "      <td>[민주당이랑 청와대 해쳐먹은 건 자체조사로 대충 마무리하고 시선 돌리는 거 보소 ㅋ...</td>\n",
       "    </tr>\n",
       "    <tr>\n",
       "      <th>8</th>\n",
       "      <td>'LH사태'에…내달 전금융권 비주담대 LTV 규제 적용</td>\n",
       "      <td>2021.04.29. 오후 2:30</td>\n",
       "      <td>3</td>\n",
       "      <td>0</td>\n",
       "      <td>0</td>\n",
       "      <td>0</td>\n",
       "      <td>16</td>\n",
       "      <td>0</td>\n",
       "      <td>4</td>\n",
       "      <td>[지네는 실컷 해쳐먹고 니네는 안된대, 무슨소린지 쉽게 설명하주실분ㅜ, 자기네들이 ...</td>\n",
       "    </tr>\n",
       "    <tr>\n",
       "      <th>9</th>\n",
       "      <td>LH 땅 투기 사건 '후폭풍'…수도권 신규택지 발표 연기</td>\n",
       "      <td>2021.04.29. 오전 11:38</td>\n",
       "      <td>12</td>\n",
       "      <td>35</td>\n",
       "      <td>1</td>\n",
       "      <td>1</td>\n",
       "      <td>16</td>\n",
       "      <td>1</td>\n",
       "      <td>25</td>\n",
       "      <td>[미뤄지는 동안 또 사겠지..., 선거끝나니까 지들 땅투기 검사하자던말들 다 쏙 들...</td>\n",
       "    </tr>\n",
       "    <tr>\n",
       "      <th>10</th>\n",
       "      <td>LH, 감사원 출신 염호열 상임감사위원 임명… 임기 2년</td>\n",
       "      <td>2021.04.30. 오전 8:25</td>\n",
       "      <td></td>\n",
       "      <td>0</td>\n",
       "      <td>0</td>\n",
       "      <td>0</td>\n",
       "      <td>0</td>\n",
       "      <td>0</td>\n",
       "      <td>0</td>\n",
       "      <td>[]</td>\n",
       "    </tr>\n",
       "    <tr>\n",
       "      <th>11</th>\n",
       "      <td>LH, 염호열 신임 상임감사위원 임명</td>\n",
       "      <td>2021.04.30. 오전 8:09</td>\n",
       "      <td></td>\n",
       "      <td>1</td>\n",
       "      <td>0</td>\n",
       "      <td>0</td>\n",
       "      <td>0</td>\n",
       "      <td>1</td>\n",
       "      <td>0</td>\n",
       "      <td>[]</td>\n",
       "    </tr>\n",
       "    <tr>\n",
       "      <th>12</th>\n",
       "      <td>LH 신임 감사위원에 '감사원 출신' 염호열씨 임명</td>\n",
       "      <td>2021.04.30. 오전 9:17</td>\n",
       "      <td></td>\n",
       "      <td>1</td>\n",
       "      <td>0</td>\n",
       "      <td>0</td>\n",
       "      <td>0</td>\n",
       "      <td>0</td>\n",
       "      <td>0</td>\n",
       "      <td>[]</td>\n",
       "    </tr>\n",
       "    <tr>\n",
       "      <th>13</th>\n",
       "      <td>LH 염호열 신임 상임감사위원 임명</td>\n",
       "      <td>2021.04.30. 오전 8:19</td>\n",
       "      <td></td>\n",
       "      <td>1</td>\n",
       "      <td>0</td>\n",
       "      <td>0</td>\n",
       "      <td>0</td>\n",
       "      <td>0</td>\n",
       "      <td>0</td>\n",
       "      <td>[]</td>\n",
       "    </tr>\n",
       "    <tr>\n",
       "      <th>14</th>\n",
       "      <td>LH 사태에 불안했던 신규 택지, 결국 차질…향후 일정도 '위태'</td>\n",
       "      <td>2021.04.30. 오전 5:17</td>\n",
       "      <td>16</td>\n",
       "      <td>13</td>\n",
       "      <td>1</td>\n",
       "      <td>1</td>\n",
       "      <td>69</td>\n",
       "      <td>6</td>\n",
       "      <td>55</td>\n",
       "      <td>[3기도취소해야지, 제발 멀좀 잘못했으면 우겨서 하지말고 반성좀하고 신혼부부니 다자...</td>\n",
       "    </tr>\n",
       "    <tr>\n",
       "      <th>15</th>\n",
       "      <td>LH, 집주인 대상으로 한 '민간 매입약정 임대' 사업설명회 연다</td>\n",
       "      <td>2021.04.30. 오전 9:12</td>\n",
       "      <td></td>\n",
       "      <td>1</td>\n",
       "      <td>0</td>\n",
       "      <td>0</td>\n",
       "      <td>1</td>\n",
       "      <td>0</td>\n",
       "      <td>2</td>\n",
       "      <td>[갭투자가 이거네추종자들은 젊은 여당 추종자들 한탕 하시겠네, LH공사가 이제는 부...</td>\n",
       "    </tr>\n",
       "    <tr>\n",
       "      <th>16</th>\n",
       "      <td>LH ‘주택매매 오픈마켓’ 열어…매입임대사업 설명</td>\n",
       "      <td>2021.04.30. 오전 9:36</td>\n",
       "      <td></td>\n",
       "      <td>0</td>\n",
       "      <td>0</td>\n",
       "      <td>0</td>\n",
       "      <td>0</td>\n",
       "      <td>0</td>\n",
       "      <td>1</td>\n",
       "      <td>[아니 항상 이해가 안가는게 이런 정보를 기사하면서 결국 내용엔 어디 들어가서 확인...</td>\n",
       "    </tr>\n",
       "    <tr>\n",
       "      <th>17</th>\n",
       "      <td>LH, 주택매매 오픈마켓 개최..\"올 4.4만호 매입 목표\"</td>\n",
       "      <td>2021.04.30. 오전 9:21</td>\n",
       "      <td></td>\n",
       "      <td>0</td>\n",
       "      <td>0</td>\n",
       "      <td>0</td>\n",
       "      <td>1</td>\n",
       "      <td>0</td>\n",
       "      <td>1</td>\n",
       "      <td>[이미한 물건이라도 제대로 관리해라]</td>\n",
       "    </tr>\n",
       "    <tr>\n",
       "      <th>18</th>\n",
       "      <td>LH 사태, 결국 공급대책 발목 잡았다… 신규택지 입지 발표 연기</td>\n",
       "      <td>2021.04.29. 오후 1:02</td>\n",
       "      <td>12</td>\n",
       "      <td>40</td>\n",
       "      <td>0</td>\n",
       "      <td>0</td>\n",
       "      <td>25</td>\n",
       "      <td>2</td>\n",
       "      <td>34</td>\n",
       "      <td>[3기신도시 전면 폐지하고 다시 지정해라 신혼부부뿐 아니라 40대 50대 이상까지 ...</td>\n",
       "    </tr>\n",
       "    <tr>\n",
       "      <th>19</th>\n",
       "      <td>LH 사태로 신규택지 발표 대거 취소…울산·대전 두곳만 발표</td>\n",
       "      <td>2021.04.29. 오후 6:01</td>\n",
       "      <td>2</td>\n",
       "      <td>2</td>\n",
       "      <td>0</td>\n",
       "      <td>3</td>\n",
       "      <td>15</td>\n",
       "      <td>2</td>\n",
       "      <td>6</td>\n",
       "      <td>[어떤 멍청이가 지 명의로 사들이냐 건너고 건너고 하것지, 계속 어디개발하겠다하고 ...</td>\n",
       "    </tr>\n",
       "    <tr>\n",
       "      <th>20</th>\n",
       "      <td>LH 땅 투기 사건으로 2·4 대책 신규택지 조성사업 차질</td>\n",
       "      <td>2021.04.29. 오전 11:00</td>\n",
       "      <td>17</td>\n",
       "      <td>15</td>\n",
       "      <td>1</td>\n",
       "      <td>2</td>\n",
       "      <td>85</td>\n",
       "      <td>4</td>\n",
       "      <td>71</td>\n",
       "      <td>[무리한 대출로 이자내다 디져라 나쁜놈들 무기한 연기되라, 아니 전면백지화 시키고 ...</td>\n",
       "    </tr>\n",
       "    <tr>\n",
       "      <th>21</th>\n",
       "      <td>LH 땅 투기 사건으로 2·4 대책 신규택지 조성 사업 차질</td>\n",
       "      <td>2021.04.29. 오전 11:18</td>\n",
       "      <td>2</td>\n",
       "      <td>2</td>\n",
       "      <td>0</td>\n",
       "      <td>0</td>\n",
       "      <td>14</td>\n",
       "      <td>4</td>\n",
       "      <td>17</td>\n",
       "      <td>[lh땅투기사건 이름 좋네요, 집은.널렸는데 민주당이.폭등 시키고 세금 걷고 3기신...</td>\n",
       "    </tr>\n",
       "    <tr>\n",
       "      <th>22</th>\n",
       "      <td>신혼부부 매입임대 978가구···LH, 시세 70~80% 전세공급</td>\n",
       "      <td>2021.04.29. 오후 4:43</td>\n",
       "      <td>1</td>\n",
       "      <td>0</td>\n",
       "      <td>0</td>\n",
       "      <td>0</td>\n",
       "      <td>3</td>\n",
       "      <td>0</td>\n",
       "      <td>1</td>\n",
       "      <td>[주변시세가 거품인데 50프로로 낮춰라]</td>\n",
       "    </tr>\n",
       "    <tr>\n",
       "      <th>23</th>\n",
       "      <td>LH, 시세 70~80% 신혼부부 매입임대주택 전세형 공급</td>\n",
       "      <td>2021.04.29. 오전 9:09</td>\n",
       "      <td></td>\n",
       "      <td>0</td>\n",
       "      <td>0</td>\n",
       "      <td>0</td>\n",
       "      <td>0</td>\n",
       "      <td>1</td>\n",
       "      <td>2</td>\n",
       "      <td>[다자녀에서 컷트당하던데., 작성자에 의해 삭제된 댓글입니다.]</td>\n",
       "    </tr>\n",
       "    <tr>\n",
       "      <th>24</th>\n",
       "      <td>LH, 신혼부부 매입임대주택 전세형 공급</td>\n",
       "      <td>2021.04.29. 오전 9:28</td>\n",
       "      <td>2</td>\n",
       "      <td>0</td>\n",
       "      <td>0</td>\n",
       "      <td>0</td>\n",
       "      <td>9</td>\n",
       "      <td>3</td>\n",
       "      <td>7</td>\n",
       "      <td>[LH 어떻게 되어가나여 이렇게 묻히나요?, 더럽게 관리도 못해주면서 자꾸 전세형을...</td>\n",
       "    </tr>\n",
       "    <tr>\n",
       "      <th>25</th>\n",
       "      <td>LH, 신혼부부 매입임대주택Ⅱ 전세형 공급… 시세 70~80%</td>\n",
       "      <td>2021.04.29. 오전 8:23</td>\n",
       "      <td></td>\n",
       "      <td>1</td>\n",
       "      <td>0</td>\n",
       "      <td>0</td>\n",
       "      <td>1</td>\n",
       "      <td>0</td>\n",
       "      <td>0</td>\n",
       "      <td>[]</td>\n",
       "    </tr>\n",
       "    <tr>\n",
       "      <th>26</th>\n",
       "      <td>국토부, 'LH땅투기' 재발 우려에 수도권 신규택지 발표 연기</td>\n",
       "      <td>2021.04.29. 오후 3:57</td>\n",
       "      <td></td>\n",
       "      <td>0</td>\n",
       "      <td>0</td>\n",
       "      <td>0</td>\n",
       "      <td>11</td>\n",
       "      <td>0</td>\n",
       "      <td>12</td>\n",
       "      <td>[부천 땅투기 조사해봐라., 국토부가 모른척 ㅋㅋ짜고치는 고스톱, 집값 다 올려놓고...</td>\n",
       "    </tr>\n",
       "    <tr>\n",
       "      <th>27</th>\n",
       "      <td>LH사태 불똥…다음달부터 비주담대도 LTV규제</td>\n",
       "      <td>2021.04.29. 오후 6:02</td>\n",
       "      <td>2</td>\n",
       "      <td>0</td>\n",
       "      <td>0</td>\n",
       "      <td>0</td>\n",
       "      <td>5</td>\n",
       "      <td>1</td>\n",
       "      <td>3</td>\n",
       "      <td>[진짜 욕만나온다..모든게 절망적이다..., 내부정보로 투기는 실컷 해먹고 평생소원...</td>\n",
       "    </tr>\n",
       "    <tr>\n",
       "      <th>28</th>\n",
       "      <td>'제2 LH사태 막는다' 토지 등 비주담대 LTV 70% 전 금융권 확대</td>\n",
       "      <td>2021.04.29. 오후 2:30</td>\n",
       "      <td></td>\n",
       "      <td>1</td>\n",
       "      <td>0</td>\n",
       "      <td>0</td>\n",
       "      <td>4</td>\n",
       "      <td>0</td>\n",
       "      <td>3</td>\n",
       "      <td>[LH 사태랑 국민들 대출 규제랑 무슨 상관?, 대출 전면적으로 막아라 99%투기대...</td>\n",
       "    </tr>\n",
       "    <tr>\n",
       "      <th>29</th>\n",
       "      <td>13만가구 신규택지는 빠졌다…LH발 투기 의혹에 '발목'</td>\n",
       "      <td>2021.04.29. 오후 3:58</td>\n",
       "      <td>2</td>\n",
       "      <td>0</td>\n",
       "      <td>0</td>\n",
       "      <td>0</td>\n",
       "      <td>20</td>\n",
       "      <td>0</td>\n",
       "      <td>5</td>\n",
       "      <td>[그냥해라 ㅉㅉ 그대신 이번엔 투기를 뿌리 뽑으면 되지. 모하나 라도 제대로 해야 ...</td>\n",
       "    </tr>\n",
       "  </tbody>\n",
       "</table>\n",
       "</div>"
      ],
      "text/plain": [
       "                                         기사명                    날짜 추천수  좋아요  \\\n",
       "0                       LH, 염호열 신임 상임감사위원 임명   2021.04.30. 오전 9:04        0   \n",
       "1        택지 후보지, 외지인 거래 급증… LH사태 재연땐 주택공급 타격   2021.04.30. 오전 3:02  13    2   \n",
       "2                       LH, 제3회 주택매매 오픈마켓 개최   2021.04.30. 오전 8:36        1   \n",
       "3         [단독] 'LH방지법' 낸 與 의원의 공무원 형, 땅투기 의혹   2021.04.30. 오전 7:39  93    3   \n",
       "4    LH 땅 투기 사건으로 2·4 대책 신규택지 조성사업 일정 순연(종합)  2021.04.29. 오후 12:05  18    9   \n",
       "5               LH, 신혼부부 매입임대주택Ⅱ공급…시세 70~80%  2021.04.29. 오전 10:16        2   \n",
       "6           LH투기 여파… 수도권 11만 가구 택지후보 발표 못 했다   2021.04.29. 오후 6:26  31    2   \n",
       "7            이해충돌방지법, LH사태에 8년만에 통과…190만명 대상  2021.04.29. 오후 10:01  67  320   \n",
       "8             'LH사태'에…내달 전금융권 비주담대 LTV 규제 적용   2021.04.29. 오후 2:30   3    0   \n",
       "9            LH 땅 투기 사건 '후폭풍'…수도권 신규택지 발표 연기  2021.04.29. 오전 11:38  12   35   \n",
       "10           LH, 감사원 출신 염호열 상임감사위원 임명… 임기 2년   2021.04.30. 오전 8:25        0   \n",
       "11                      LH, 염호열 신임 상임감사위원 임명   2021.04.30. 오전 8:09        1   \n",
       "12              LH 신임 감사위원에 '감사원 출신' 염호열씨 임명   2021.04.30. 오전 9:17        1   \n",
       "13                       LH 염호열 신임 상임감사위원 임명   2021.04.30. 오전 8:19        1   \n",
       "14      LH 사태에 불안했던 신규 택지, 결국 차질…향후 일정도 '위태'   2021.04.30. 오전 5:17  16   13   \n",
       "15      LH, 집주인 대상으로 한 '민간 매입약정 임대' 사업설명회 연다   2021.04.30. 오전 9:12        1   \n",
       "16               LH ‘주택매매 오픈마켓’ 열어…매입임대사업 설명   2021.04.30. 오전 9:36        0   \n",
       "17         LH, 주택매매 오픈마켓 개최..\"올 4.4만호 매입 목표\"   2021.04.30. 오전 9:21        0   \n",
       "18      LH 사태, 결국 공급대책 발목 잡았다… 신규택지 입지 발표 연기   2021.04.29. 오후 1:02  12   40   \n",
       "19         LH 사태로 신규택지 발표 대거 취소…울산·대전 두곳만 발표   2021.04.29. 오후 6:01   2    2   \n",
       "20          LH 땅 투기 사건으로 2·4 대책 신규택지 조성사업 차질  2021.04.29. 오전 11:00  17   15   \n",
       "21         LH 땅 투기 사건으로 2·4 대책 신규택지 조성 사업 차질  2021.04.29. 오전 11:18   2    2   \n",
       "22      신혼부부 매입임대 978가구···LH, 시세 70~80% 전세공급   2021.04.29. 오후 4:43   1    0   \n",
       "23          LH, 시세 70~80% 신혼부부 매입임대주택 전세형 공급   2021.04.29. 오전 9:09        0   \n",
       "24                    LH, 신혼부부 매입임대주택 전세형 공급   2021.04.29. 오전 9:28   2    0   \n",
       "25        LH, 신혼부부 매입임대주택Ⅱ 전세형 공급… 시세 70~80%   2021.04.29. 오전 8:23        1   \n",
       "26        국토부, 'LH땅투기' 재발 우려에 수도권 신규택지 발표 연기   2021.04.29. 오후 3:57        0   \n",
       "27                 LH사태 불똥…다음달부터 비주담대도 LTV규제   2021.04.29. 오후 6:02   2    0   \n",
       "28  '제2 LH사태 막는다' 토지 등 비주담대 LTV 70% 전 금융권 확대   2021.04.29. 오후 2:30        1   \n",
       "29           13만가구 신규택지는 빠졌다…LH발 투기 의혹에 '발목'   2021.04.29. 오후 3:58   2    0   \n",
       "\n",
       "   훈훈해요 슬퍼요  화나요 후속기사 원해요  댓글 수  \\\n",
       "0     0   0    3        0     0   \n",
       "1     0   0   84        1    29   \n",
       "2     0   0    0        0     0   \n",
       "3     1   0  427        5   110   \n",
       "4     1   1  114        6    62   \n",
       "5     0   0    1        0     3   \n",
       "6     0   0  117        1    57   \n",
       "7     4   2   44       12   185   \n",
       "8     0   0   16        0     4   \n",
       "9     1   1   16        1    25   \n",
       "10    0   0    0        0     0   \n",
       "11    0   0    0        1     0   \n",
       "12    0   0    0        0     0   \n",
       "13    0   0    0        0     0   \n",
       "14    1   1   69        6    55   \n",
       "15    0   0    1        0     2   \n",
       "16    0   0    0        0     1   \n",
       "17    0   0    1        0     1   \n",
       "18    0   0   25        2    34   \n",
       "19    0   3   15        2     6   \n",
       "20    1   2   85        4    71   \n",
       "21    0   0   14        4    17   \n",
       "22    0   0    3        0     1   \n",
       "23    0   0    0        1     2   \n",
       "24    0   0    9        3     7   \n",
       "25    0   0    1        0     0   \n",
       "26    0   0   11        0    12   \n",
       "27    0   0    5        1     3   \n",
       "28    0   0    4        0     3   \n",
       "29    0   0   20        0     5   \n",
       "\n",
       "                                                   댓글  \n",
       "0                                                  []  \n",
       "1   [서울에 집이 남아돈다. 절대숫자가 부족한게 아니고 국민이 살고싶은 집이 부족한것이...  \n",
       "2                                                  []  \n",
       "3   [윤미향 안성쉄터 비싸게 사도록 중개한 사람이 이규민 의원이라던데?이거 짜고 하는것...  \n",
       "4   [lh가 문제냐 중공놈들은 78프로 집담보 대출해주고 세금까지 감면해주고 해외송금시...  \n",
       "5   [시중 전월세 시세를 50% 이상 올려놓고...그걸 기준으로 70~80%로 임대??...  \n",
       "6   [전수조사 한다더니ㅋ 뉴스에서 싹사라지고ㅋㅋㅋ 혹시나했는데ㅋ 역시나다ㅋㅋㅋㅋㅋ, L...  \n",
       "7   [민주당이랑 청와대 해쳐먹은 건 자체조사로 대충 마무리하고 시선 돌리는 거 보소 ㅋ...  \n",
       "8   [지네는 실컷 해쳐먹고 니네는 안된대, 무슨소린지 쉽게 설명하주실분ㅜ, 자기네들이 ...  \n",
       "9   [미뤄지는 동안 또 사겠지..., 선거끝나니까 지들 땅투기 검사하자던말들 다 쏙 들...  \n",
       "10                                                 []  \n",
       "11                                                 []  \n",
       "12                                                 []  \n",
       "13                                                 []  \n",
       "14  [3기도취소해야지, 제발 멀좀 잘못했으면 우겨서 하지말고 반성좀하고 신혼부부니 다자...  \n",
       "15  [갭투자가 이거네추종자들은 젊은 여당 추종자들 한탕 하시겠네, LH공사가 이제는 부...  \n",
       "16  [아니 항상 이해가 안가는게 이런 정보를 기사하면서 결국 내용엔 어디 들어가서 확인...  \n",
       "17                               [이미한 물건이라도 제대로 관리해라]  \n",
       "18  [3기신도시 전면 폐지하고 다시 지정해라 신혼부부뿐 아니라 40대 50대 이상까지 ...  \n",
       "19  [어떤 멍청이가 지 명의로 사들이냐 건너고 건너고 하것지, 계속 어디개발하겠다하고 ...  \n",
       "20  [무리한 대출로 이자내다 디져라 나쁜놈들 무기한 연기되라, 아니 전면백지화 시키고 ...  \n",
       "21  [lh땅투기사건 이름 좋네요, 집은.널렸는데 민주당이.폭등 시키고 세금 걷고 3기신...  \n",
       "22                             [주변시세가 거품인데 50프로로 낮춰라]  \n",
       "23                [다자녀에서 컷트당하던데., 작성자에 의해 삭제된 댓글입니다.]  \n",
       "24  [LH 어떻게 되어가나여 이렇게 묻히나요?, 더럽게 관리도 못해주면서 자꾸 전세형을...  \n",
       "25                                                 []  \n",
       "26  [부천 땅투기 조사해봐라., 국토부가 모른척 ㅋㅋ짜고치는 고스톱, 집값 다 올려놓고...  \n",
       "27  [진짜 욕만나온다..모든게 절망적이다..., 내부정보로 투기는 실컷 해먹고 평생소원...  \n",
       "28  [LH 사태랑 국민들 대출 규제랑 무슨 상관?, 대출 전면적으로 막아라 99%투기대...  \n",
       "29  [그냥해라 ㅉㅉ 그대신 이번엔 투기를 뿌리 뽑으면 되지. 모하나 라도 제대로 해야 ...  "
      ]
     },
     "execution_count": 37,
     "metadata": {},
     "output_type": "execute_result"
    }
   ],
   "source": [
    "# 판다스로 만들기\n",
    "import pandas as pd\n",
    "result_df = pd.DataFrame.from_dict(dict, 'index')\n",
    "result_df\n",
    "# result_df.rename(columns={result_df.columns[0] : name}, inplace=True)"
   ]
  },
  {
   "cell_type": "code",
   "execution_count": 38,
   "metadata": {
    "scrolled": true
   },
   "outputs": [],
   "source": [
    "# 파일로 저장\n",
    "result_df.to_excel(\"naver_article_({}).xlsx\".format(keyword))"
   ]
  },
  {
   "cell_type": "code",
   "execution_count": null,
   "metadata": {},
   "outputs": [],
   "source": []
  },
  {
   "cell_type": "code",
   "execution_count": null,
   "metadata": {},
   "outputs": [],
   "source": []
  },
  {
   "cell_type": "code",
   "execution_count": null,
   "metadata": {},
   "outputs": [],
   "source": []
  }
 ],
 "metadata": {
  "kernelspec": {
   "display_name": "Python 3",
   "language": "python",
   "name": "python3"
  },
  "language_info": {
   "codemirror_mode": {
    "name": "ipython",
    "version": 3
   },
   "file_extension": ".py",
   "mimetype": "text/x-python",
   "name": "python",
   "nbconvert_exporter": "python",
   "pygments_lexer": "ipython3",
   "version": "3.8.5"
  },
  "varInspector": {
   "cols": {
    "lenName": 16,
    "lenType": 16,
    "lenVar": 40
   },
   "kernels_config": {
    "python": {
     "delete_cmd_postfix": "",
     "delete_cmd_prefix": "del ",
     "library": "var_list.py",
     "varRefreshCmd": "print(var_dic_list())"
    },
    "r": {
     "delete_cmd_postfix": ") ",
     "delete_cmd_prefix": "rm(",
     "library": "var_list.r",
     "varRefreshCmd": "cat(var_dic_list()) "
    }
   },
   "types_to_exclude": [
    "module",
    "function",
    "builtin_function_or_method",
    "instance",
    "_Feature"
   ],
   "window_display": false
  }
 },
 "nbformat": 4,
 "nbformat_minor": 2
}
